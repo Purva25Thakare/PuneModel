{
 "cells": [
  {
   "cell_type": "code",
   "execution_count": 17,
   "id": "4e24f1fd",
   "metadata": {},
   "outputs": [
    {
     "name": "stdout",
     "output_type": "stream",
     "text": [
      "<map object at 0x00000174ABA2AC70>\n"
     ]
    }
   ],
   "source": [
    "l1=[1,2,3,4,5]  #12345\n",
    "for i in l1:\n",
    "    a=map(lambda i:\"\".join(str(i)),l1)\n",
    "print(str(a))"
   ]
  },
  {
   "cell_type": "code",
   "execution_count": 3,
   "id": "97b5ae59",
   "metadata": {},
   "outputs": [
    {
     "name": "stdout",
     "output_type": "stream",
     "text": [
      "<class 'str'>\n",
      "12345\n"
     ]
    }
   ],
   "source": [
    "l1=[1,2,3,4,5]\n",
    "l2=[]\n",
    "for i in l1:\n",
    "    l2.append(str(i))\n",
    "b=\"\".join(l2)\n",
    "print(type(b))\n",
    "a=int(b)\n",
    "print(a)"
   ]
  },
  {
   "cell_type": "code",
   "execution_count": 36,
   "id": "ea2626da",
   "metadata": {},
   "outputs": [
    {
     "name": "stdout",
     "output_type": "stream",
     "text": [
      "[5, 2, 6]\n"
     ]
    }
   ],
   "source": [
    "n=342\n",
    "a=str(n)\n",
    "b=n\n",
    "l1=[]\n",
    "for i in range(len(a)):\n",
    "    \n",
    "    l1.insert(0,b%8)\n",
    "    b=b//8\n",
    "    \n",
    "    \n",
    "print(l1)\n",
    "    \n",
    "    "
   ]
  },
  {
   "cell_type": "code",
   "execution_count": null,
   "id": "94b4c5e7",
   "metadata": {},
   "outputs": [],
   "source": []
  }
 ],
 "metadata": {
  "kernelspec": {
   "display_name": "Python 3 (ipykernel)",
   "language": "python",
   "name": "python3"
  },
  "language_info": {
   "codemirror_mode": {
    "name": "ipython",
    "version": 3
   },
   "file_extension": ".py",
   "mimetype": "text/x-python",
   "name": "python",
   "nbconvert_exporter": "python",
   "pygments_lexer": "ipython3",
   "version": "3.9.13"
  }
 },
 "nbformat": 4,
 "nbformat_minor": 5
}
