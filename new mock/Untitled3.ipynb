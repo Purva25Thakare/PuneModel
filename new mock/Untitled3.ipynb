{
 "cells": [
  {
   "cell_type": "code",
   "execution_count": 17,
   "id": "b1ef8c52",
   "metadata": {},
   "outputs": [
    {
     "ename": "TypeError",
     "evalue": "load() takes 1 positional argument but 2 were given",
     "output_type": "error",
     "traceback": [
      "\u001b[1;31m---------------------------------------------------------------------------\u001b[0m",
      "\u001b[1;31mTypeError\u001b[0m                                 Traceback (most recent call last)",
      "\u001b[1;32m~\\AppData\\Local\\Temp\\ipykernel_5180\\591855994.py\u001b[0m in \u001b[0;36m<module>\u001b[1;34m\u001b[0m\n\u001b[0;32m      2\u001b[0m \u001b[0md1\u001b[0m\u001b[1;33m=\u001b[0m\u001b[1;33m{\u001b[0m\u001b[1;34m\"A\"\u001b[0m\u001b[1;33m:\u001b[0m\u001b[1;36m10\u001b[0m\u001b[1;33m,\u001b[0m\u001b[1;34m\"B\"\u001b[0m\u001b[1;33m:\u001b[0m\u001b[1;36m20\u001b[0m\u001b[1;33m}\u001b[0m\u001b[1;33m\u001b[0m\u001b[1;33m\u001b[0m\u001b[0m\n\u001b[0;32m      3\u001b[0m \u001b[1;32mwith\u001b[0m \u001b[0mopen\u001b[0m\u001b[1;33m(\u001b[0m\u001b[1;34m\"Test.json\"\u001b[0m\u001b[1;33m,\u001b[0m\u001b[1;34m\"r\"\u001b[0m\u001b[1;33m)\u001b[0m \u001b[1;32mas\u001b[0m \u001b[0mf\u001b[0m\u001b[1;33m:\u001b[0m\u001b[1;33m\u001b[0m\u001b[1;33m\u001b[0m\u001b[0m\n\u001b[1;32m----> 4\u001b[1;33m     \u001b[0ma\u001b[0m\u001b[1;33m=\u001b[0m\u001b[0mjson\u001b[0m\u001b[1;33m.\u001b[0m\u001b[0mload\u001b[0m\u001b[1;33m(\u001b[0m\u001b[0md1\u001b[0m\u001b[1;33m,\u001b[0m\u001b[0mf\u001b[0m\u001b[1;33m)\u001b[0m\u001b[1;33m\u001b[0m\u001b[1;33m\u001b[0m\u001b[0m\n\u001b[0m\u001b[0;32m      5\u001b[0m \u001b[1;33m\u001b[0m\u001b[0m\n\u001b[0;32m      6\u001b[0m \u001b[0md2\u001b[0m\u001b[1;33m=\u001b[0m\u001b[1;33m{\u001b[0m\u001b[1;34m\"B\"\u001b[0m\u001b[1;33m:\u001b[0m\u001b[1;36m20\u001b[0m\u001b[1;33m,\u001b[0m\u001b[1;34m\"C\"\u001b[0m\u001b[1;33m:\u001b[0m\u001b[1;36m30\u001b[0m\u001b[1;33m}\u001b[0m\u001b[1;33m\u001b[0m\u001b[1;33m\u001b[0m\u001b[0m\n",
      "\u001b[1;31mTypeError\u001b[0m: load() takes 1 positional argument but 2 were given"
     ]
    }
   ],
   "source": [
    "import json\n",
    "d1={\"A\":10,\"B\":20}\n",
    "with open(\"Test.json\",\"r\") as f:\n",
    "    a=json.load(d1,f)\n",
    "\n",
    "d2={\"B\":20,\"C\":30}    \n",
    "\n",
    "a.update(d2)\n",
    "\n",
    "with open(\"Test.json\",\"w\") as f:\n",
    "     json.dump(a,f)\n",
    "# #print(b)"
   ]
  },
  {
   "cell_type": "code",
   "execution_count": 22,
   "id": "120d3480",
   "metadata": {},
   "outputs": [
    {
     "name": "stdout",
     "output_type": "stream",
     "text": [
      "{'A': 10, 'B': 20}\n",
      "new--> {'A': 10, 'B': 20, 'C': 30}\n"
     ]
    }
   ],
   "source": [
    "import json\n",
    "d1={\"A\":10,\"B\":20}\n",
    "with open(\"Test.json\",\"r\") as f:\n",
    "    a=json.load(f)\n",
    "print(a)\n",
    "d2={\"B\":20,\"C\":30}\n",
    "\n",
    "a.update(d2)\n",
    "print(\"new-->\",a)\n",
    "\n",
    "with open(\"Test.json\",\"w\") as f:\n",
    "    json.dump(a,f)"
   ]
  },
  {
   "cell_type": "code",
   "execution_count": 25,
   "id": "0e3e8da9",
   "metadata": {},
   "outputs": [
    {
     "name": "stdout",
     "output_type": "stream",
     "text": [
      "{'A': 10, 'B': 20, 'C': 30}\n",
      "new--> {'A': 10, 'B': 20, 'C': 30}\n"
     ]
    }
   ],
   "source": [
    "import json\n",
    "d1={\"A\":10,\"B\":20}\n",
    "with open(\"Test.json\",\"r\") as f:\n",
    "    a=json.load(f)\n",
    "print(a)\n",
    "d2={\"B\":20,\"C\":30}\n",
    "\n",
    "a.update(d2)\n",
    "print(\"new-->\",a)\n",
    "\n",
    "with open(\"Test.json\",\"a\") as f:\n",
    "    json.dump(a,f)"
   ]
  },
  {
   "cell_type": "code",
   "execution_count": null,
   "id": "fd1ca5e3",
   "metadata": {},
   "outputs": [],
   "source": [
    "l1=[1,2,3,4,5]\n",
    "list(map())"
   ]
  }
 ],
 "metadata": {
  "kernelspec": {
   "display_name": "Python 3 (ipykernel)",
   "language": "python",
   "name": "python3"
  },
  "language_info": {
   "codemirror_mode": {
    "name": "ipython",
    "version": 3
   },
   "file_extension": ".py",
   "mimetype": "text/x-python",
   "name": "python",
   "nbconvert_exporter": "python",
   "pygments_lexer": "ipython3",
   "version": "3.9.13"
  }
 },
 "nbformat": 4,
 "nbformat_minor": 5
}
