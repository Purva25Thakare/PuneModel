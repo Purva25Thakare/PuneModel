{
 "cells": [
  {
   "cell_type": "code",
   "execution_count": 4,
   "id": "1293dd37",
   "metadata": {},
   "outputs": [
    {
     "name": "stdout",
     "output_type": "stream",
     "text": [
      "[1, 2, 4, 7, 15]\n",
      "1\n",
      "('B', 15)\n",
      "('A', 4)\n",
      "('Z', 7)\n",
      "('D', 2)\n",
      "('W', 1)\n",
      "2\n",
      "('B', 15)\n",
      "('A', 4)\n",
      "('Z', 7)\n",
      "('D', 2)\n",
      "('W', 1)\n",
      "4\n",
      "('B', 15)\n",
      "('A', 4)\n",
      "('Z', 7)\n",
      "('D', 2)\n",
      "('W', 1)\n",
      "7\n",
      "('B', 15)\n",
      "('A', 4)\n",
      "('Z', 7)\n",
      "('D', 2)\n",
      "('W', 1)\n",
      "15\n",
      "('B', 15)\n",
      "('A', 4)\n",
      "('Z', 7)\n",
      "('D', 2)\n",
      "('W', 1)\n"
     ]
    },
    {
     "data": {
      "text/plain": [
       "[('W', 1), ('D', 2), ('A', 4), ('Z', 7), ('B', 15)]"
      ]
     },
     "execution_count": 4,
     "metadata": {},
     "output_type": "execute_result"
    }
   ],
   "source": [
    "tup_list=[(\"B\",15),(\"A\",4),(\"Z\",7),(\"D\",2),(\"W\",1)]\n",
    "list1=sorted([element[1] for element in tup_list])\n",
    "print(list1)\n",
    "sort_list=[]\n",
    "for i in list1:\n",
    "    print(i)\n",
    "    for j in tup_list:\n",
    "        print(j)\n",
    "        if j[1]==i:\n",
    "            sort_list.append(j)\n",
    "sort_list"
   ]
  },
  {
   "cell_type": "code",
   "execution_count": 6,
   "id": "1ff765e6",
   "metadata": {},
   "outputs": [
    {
     "name": "stdout",
     "output_type": "stream",
     "text": [
      "['a', 'b', 'c']\n",
      "['a', 'b', 'd']\n",
      "['x', 'y', 'z']\n",
      "['p', 'q', 'r']\n",
      "['d', 'f', 's']\n",
      "['a', 'b', 'b', 'o', 't']\n"
     ]
    },
    {
     "data": {
      "text/plain": [
       "{'ordered': ['abc', 'xyz', 'pqr', 'abbot'], 'unordered': ['adb', 'sdf']}"
      ]
     },
     "execution_count": 6,
     "metadata": {},
     "output_type": "execute_result"
    }
   ],
   "source": [
    "list1=[\"abc\",\"adb\",\"xyz\",\"pqr\",\"sdf\",\"abbot\"]\n",
    "dict1={\"ordered\":[],\"unordered\":[]}\n",
    "for i in list1:\n",
    "    print(sorted(i))\n",
    "    if i == (\"\".join(sorted(i))):\n",
    "        dict1[\"ordered\"].append(i)\n",
    "    else:\n",
    "        dict1[\"unordered\"].append(i)\n",
    "dict1"
   ]
  },
  {
   "cell_type": "code",
   "execution_count": 8,
   "id": "8c0682c7",
   "metadata": {},
   "outputs": [
    {
     "name": "stdout",
     "output_type": "stream",
     "text": [
      "['a', 'b', 'c']\n",
      "['a', 'b', 'b']\n",
      "['a', 'c', 'd']\n",
      "['a', 'b', 'd']\n",
      "['x', 'y', 'z']\n",
      "['p', 'q', 'r']\n",
      "['d', 'f', 's']\n",
      "['a', 'b', 'b', 'o', 't']\n"
     ]
    },
    {
     "data": {
      "text/plain": [
       "{'ordered': ['abc', 'abb', 'xyz', 'pqr', 'abbot'],\n",
       " 'unordered': ['adc', 'adb', 'sdf']}"
      ]
     },
     "execution_count": 8,
     "metadata": {},
     "output_type": "execute_result"
    }
   ],
   "source": [
    "list1=[\"abc\",\"abb\",\"adc\",\"adb\",\"xyz\",\"pqr\",\"sdf\",\"abbot\"]\n",
    "dict1={\"ordered\":[],\"unordered\":[]}\n",
    "for i in list1:\n",
    "    print(sorted(i))\n",
    "    if i == (\"\".join(sorted(i))):\n",
    "        dict1[\"ordered\"].append(i)\n",
    "    else:\n",
    "        dict1[\"unordered\"].append(i)\n",
    "dict1"
   ]
  },
  {
   "cell_type": "code",
   "execution_count": 15,
   "id": "f3b28c4d",
   "metadata": {},
   "outputs": [
    {
     "ename": "TypeError",
     "evalue": "'int' object is not iterable",
     "output_type": "error",
     "traceback": [
      "\u001b[1;31m---------------------------------------------------------------------------\u001b[0m",
      "\u001b[1;31mTypeError\u001b[0m                                 Traceback (most recent call last)",
      "\u001b[1;32m~\\AppData\\Local\\Temp\\ipykernel_6580\\2270074938.py\u001b[0m in \u001b[0;36m<module>\u001b[1;34m\u001b[0m\n\u001b[0;32m      2\u001b[0m \u001b[0mdict1\u001b[0m\u001b[1;33m=\u001b[0m\u001b[1;33m{\u001b[0m\u001b[1;34m\"ordered\"\u001b[0m\u001b[1;33m:\u001b[0m\u001b[1;33m[\u001b[0m\u001b[1;33m]\u001b[0m\u001b[1;33m,\u001b[0m\u001b[1;34m\"unordered\"\u001b[0m\u001b[1;33m:\u001b[0m\u001b[1;33m[\u001b[0m\u001b[1;33m]\u001b[0m\u001b[1;33m}\u001b[0m\u001b[1;33m\u001b[0m\u001b[1;33m\u001b[0m\u001b[0m\n\u001b[0;32m      3\u001b[0m \u001b[1;32mfor\u001b[0m \u001b[0mi\u001b[0m \u001b[1;32min\u001b[0m \u001b[0mrange\u001b[0m\u001b[1;33m(\u001b[0m\u001b[0mlen\u001b[0m\u001b[1;33m(\u001b[0m\u001b[0mlist1\u001b[0m\u001b[1;33m)\u001b[0m\u001b[1;33m)\u001b[0m\u001b[1;33m:\u001b[0m\u001b[1;33m\u001b[0m\u001b[1;33m\u001b[0m\u001b[0m\n\u001b[1;32m----> 4\u001b[1;33m     \u001b[0mprint\u001b[0m\u001b[1;33m(\u001b[0m\u001b[0msorted\u001b[0m\u001b[1;33m(\u001b[0m\u001b[0mlist1\u001b[0m\u001b[1;33m[\u001b[0m\u001b[0mi\u001b[0m\u001b[1;33m]\u001b[0m\u001b[1;33m)\u001b[0m\u001b[1;33m)\u001b[0m\u001b[1;33m\u001b[0m\u001b[1;33m\u001b[0m\u001b[0m\n\u001b[0m\u001b[0;32m      5\u001b[0m     \u001b[1;32mif\u001b[0m \u001b[0mlist1\u001b[0m\u001b[1;33m[\u001b[0m\u001b[0mi\u001b[0m\u001b[1;33m]\u001b[0m \u001b[1;33m==\u001b[0m \u001b[0msorted\u001b[0m\u001b[1;33m(\u001b[0m\u001b[0mlist1\u001b[0m\u001b[1;33m[\u001b[0m\u001b[0mi\u001b[0m\u001b[1;33m]\u001b[0m\u001b[1;33m)\u001b[0m\u001b[1;33m:\u001b[0m\u001b[1;33m\u001b[0m\u001b[1;33m\u001b[0m\u001b[0m\n\u001b[0;32m      6\u001b[0m         \u001b[0mdict1\u001b[0m\u001b[1;33m[\u001b[0m\u001b[1;34m\"ordered\"\u001b[0m\u001b[1;33m]\u001b[0m\u001b[1;33m.\u001b[0m\u001b[0mappend\u001b[0m\u001b[1;33m(\u001b[0m\u001b[0mi\u001b[0m\u001b[1;33m)\u001b[0m\u001b[1;33m\u001b[0m\u001b[1;33m\u001b[0m\u001b[0m\n",
      "\u001b[1;31mTypeError\u001b[0m: 'int' object is not iterable"
     ]
    }
   ],
   "source": [
    "list1=[123,321,345,254,768]\n",
    "dict1={\"ordered\":[],\"unordered\":[]}\n",
    "for i in range(len(list1)):\n",
    "    print(sorted(list1[i]))\n",
    "    if list1[i] == sorted(list1[i]):\n",
    "        dict1[\"ordered\"].append(i)\n",
    "    else:\n",
    "        dict1[\"unordered\"].append(i)\n",
    "dict1"
   ]
  },
  {
   "cell_type": "code",
   "execution_count": 25,
   "id": "467c44b1",
   "metadata": {},
   "outputs": [
    {
     "name": "stdout",
     "output_type": "stream",
     "text": [
      "0\n"
     ]
    }
   ],
   "source": [
    "n=3456\n",
    "#6543\n",
    "a=0\n",
    "while a>0:\n",
    "    b=n%10\n",
    "    a= a*10 + b\n",
    "    n//=10\n",
    "print(a)\n",
    "    "
   ]
  },
  {
   "cell_type": "code",
   "execution_count": 17,
   "id": "2e9f12a1",
   "metadata": {},
   "outputs": [
    {
     "data": {
      "text/plain": [
       "[1.0, 2.0, 3.0, 4.0, 5.0, 6.0, 6.0, 7.0]"
      ]
     },
     "execution_count": 17,
     "metadata": {},
     "output_type": "execute_result"
    }
   ],
   "source": [
    "list1=[1,2,3,4,5,6,6,7]\n",
    "a=list(map(lambda x: x/1,list1))\n",
    "a"
   ]
  },
  {
   "cell_type": "code",
   "execution_count": 19,
   "id": "d3cc7140",
   "metadata": {},
   "outputs": [
    {
     "data": {
      "text/plain": [
       "[1.0, 2.0, 3.0, 4.0, 5.0, 6.0, 6.0, 7.0]"
      ]
     },
     "execution_count": 19,
     "metadata": {},
     "output_type": "execute_result"
    }
   ],
   "source": [
    "list1=[1,2,3,4,5,6,6,7]\n",
    "a=list(map(float,list1))\n",
    "a"
   ]
  },
  {
   "cell_type": "code",
   "execution_count": 1,
   "id": "3f42fe3b",
   "metadata": {},
   "outputs": [
    {
     "data": {
      "text/plain": [
       "False"
      ]
     },
     "execution_count": 1,
     "metadata": {},
     "output_type": "execute_result"
    }
   ],
   "source": [
    "l1=[]\n",
    "bool(l1)"
   ]
  },
  {
   "cell_type": "code",
   "execution_count": 6,
   "id": "1b012980",
   "metadata": {},
   "outputs": [
    {
     "data": {
      "text/plain": [
       "[False, True, False, True, False, True, True, False]"
      ]
     },
     "execution_count": 6,
     "metadata": {},
     "output_type": "execute_result"
    }
   ],
   "source": [
    "list1=[1,2,3,4,5,6,6,7]\n",
    "a=list(map(lambda x: x%2==0,list1))\n",
    "a"
   ]
  },
  {
   "cell_type": "code",
   "execution_count": 8,
   "id": "d5b90ce0",
   "metadata": {},
   "outputs": [
    {
     "data": {
      "text/plain": [
       "[2, 4, 6, 6]"
      ]
     },
     "execution_count": 8,
     "metadata": {},
     "output_type": "execute_result"
    }
   ],
   "source": [
    "list1=[1,2,3,4,5,6,6,7]\n",
    "a=list(filter(lambda x: x%2==0,list1))\n",
    "a"
   ]
  },
  {
   "cell_type": "code",
   "execution_count": null,
   "id": "ccc31155",
   "metadata": {},
   "outputs": [],
   "source": []
  }
 ],
 "metadata": {
  "kernelspec": {
   "display_name": "Python 3 (ipykernel)",
   "language": "python",
   "name": "python3"
  },
  "language_info": {
   "codemirror_mode": {
    "name": "ipython",
    "version": 3
   },
   "file_extension": ".py",
   "mimetype": "text/x-python",
   "name": "python",
   "nbconvert_exporter": "python",
   "pygments_lexer": "ipython3",
   "version": "3.9.13"
  }
 },
 "nbformat": 4,
 "nbformat_minor": 5
}
