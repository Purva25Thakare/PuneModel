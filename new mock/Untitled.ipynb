{
 "cells": [
  {
   "cell_type": "code",
   "execution_count": 1,
   "id": "2eceab63",
   "metadata": {},
   "outputs": [
    {
     "name": "stdout",
     "output_type": "stream",
     "text": [
      "15\n"
     ]
    }
   ],
   "source": [
    "x = lambda a : a + 10\n",
    "print(x(5))"
   ]
  },
  {
   "cell_type": "code",
   "execution_count": null,
   "id": "d326e128",
   "metadata": {},
   "outputs": [],
   "source": [
    "str1=\"   Python    Class     \""
   ]
  },
  {
   "cell_type": "code",
   "execution_count": 2,
   "id": "920dc55e",
   "metadata": {},
   "outputs": [
    {
     "data": {
      "text/plain": [
       "[('Ramnath sir', 'Shanishingnapur', 100),\n",
       " ('Sagar sir', 'Kannad', 100),\n",
       " (\"Purva ma'am\", 'Akot', 200),\n",
       " ('Amol sir', 'Ichhalkaranji', 100)]"
      ]
     },
     "execution_count": 2,
     "metadata": {},
     "output_type": "execute_result"
    }
   ],
   "source": [
    "name = [\"Ramnath sir\", \"Sagar sir\", \"Purva ma'am\", \"Amol sir\"]\n",
    "gav = [\"Shanishingnapur\", \"Kannad\", \"Akot\", \"Ichhalkaranji\"]\n",
    "vastu = [100,100,200,100]\n",
    "\n",
    "list(zip(name,gav,vastu))"
   ]
  },
  {
   "cell_type": "code",
   "execution_count": 3,
   "id": "d40b8438",
   "metadata": {},
   "outputs": [
    {
     "data": {
      "text/plain": [
       "(('Ramnath sir', 'Shanishingnapur', 100),\n",
       " ('Sagar sir', 'Kannad', 100),\n",
       " (\"Purva ma'am\", 'Akot', 200),\n",
       " ('Amol sir', 'Ichhalkaranji', 100))"
      ]
     },
     "execution_count": 3,
     "metadata": {},
     "output_type": "execute_result"
    }
   ],
   "source": [
    "name = [\"Ramnath sir\", \"Sagar sir\", \"Purva ma'am\", \"Amol sir\"]\n",
    "gav = [\"Shanishingnapur\", \"Kannad\", \"Akot\", \"Ichhalkaranji\"]\n",
    "vastu = [100,100,200,100]\n",
    "\n",
    "tuple(zip(name,gav,vastu))"
   ]
  },
  {
   "cell_type": "code",
   "execution_count": 4,
   "id": "9747a432",
   "metadata": {},
   "outputs": [
    {
     "ename": "ValueError",
     "evalue": "dictionary update sequence element #0 has length 3; 2 is required",
     "output_type": "error",
     "traceback": [
      "\u001b[1;31m---------------------------------------------------------------------------\u001b[0m",
      "\u001b[1;31mValueError\u001b[0m                                Traceback (most recent call last)",
      "\u001b[1;32m~\\AppData\\Local\\Temp\\ipykernel_6176\\2438174374.py\u001b[0m in \u001b[0;36m<module>\u001b[1;34m\u001b[0m\n\u001b[0;32m      3\u001b[0m \u001b[0mvastu\u001b[0m \u001b[1;33m=\u001b[0m \u001b[1;33m[\u001b[0m\u001b[1;36m100\u001b[0m\u001b[1;33m,\u001b[0m\u001b[1;36m100\u001b[0m\u001b[1;33m,\u001b[0m\u001b[1;36m200\u001b[0m\u001b[1;33m,\u001b[0m\u001b[1;36m100\u001b[0m\u001b[1;33m]\u001b[0m\u001b[1;33m\u001b[0m\u001b[1;33m\u001b[0m\u001b[0m\n\u001b[0;32m      4\u001b[0m \u001b[1;33m\u001b[0m\u001b[0m\n\u001b[1;32m----> 5\u001b[1;33m \u001b[0mdict\u001b[0m\u001b[1;33m(\u001b[0m\u001b[0mzip\u001b[0m\u001b[1;33m(\u001b[0m\u001b[0mname\u001b[0m\u001b[1;33m,\u001b[0m\u001b[0mgav\u001b[0m\u001b[1;33m,\u001b[0m\u001b[0mvastu\u001b[0m\u001b[1;33m)\u001b[0m\u001b[1;33m)\u001b[0m\u001b[1;33m\u001b[0m\u001b[1;33m\u001b[0m\u001b[0m\n\u001b[0m",
      "\u001b[1;31mValueError\u001b[0m: dictionary update sequence element #0 has length 3; 2 is required"
     ]
    }
   ],
   "source": [
    "name = [\"Ramnath sir\", \"Sagar sir\", \"Purva ma'am\", \"Amol sir\"]\n",
    "gav = [\"Shanishingnapur\", \"Kannad\", \"Akot\", \"Ichhalkaranji\"]\n",
    "vastu = [100,100,200,100]\n",
    "\n",
    "dict(zip(name,gav,vastu))"
   ]
  },
  {
   "cell_type": "code",
   "execution_count": 6,
   "id": "f8e2a63f",
   "metadata": {},
   "outputs": [
    {
     "data": {
      "text/plain": [
       "100"
      ]
     },
     "execution_count": 6,
     "metadata": {},
     "output_type": "execute_result"
    }
   ],
   "source": [
    "dict1={\"p\":100,1:7}\n",
    "dict1[\"p\"]"
   ]
  },
  {
   "cell_type": "code",
   "execution_count": 7,
   "id": "b948c1c6",
   "metadata": {},
   "outputs": [
    {
     "name": "stdout",
     "output_type": "stream",
     "text": [
      "yes\n"
     ]
    }
   ],
   "source": [
    "num = 2\n",
    "if num%2!=0:\n",
    "    print(\"No\")\n",
    "else:\n",
    "    print(\"yes\")"
   ]
  },
  {
   "cell_type": "code",
   "execution_count": null,
   "id": "de9b8ec8",
   "metadata": {},
   "outputs": [],
   "source": []
  }
 ],
 "metadata": {
  "kernelspec": {
   "display_name": "Python 3 (ipykernel)",
   "language": "python",
   "name": "python3"
  },
  "language_info": {
   "codemirror_mode": {
    "name": "ipython",
    "version": 3
   },
   "file_extension": ".py",
   "mimetype": "text/x-python",
   "name": "python",
   "nbconvert_exporter": "python",
   "pygments_lexer": "ipython3",
   "version": "3.9.13"
  }
 },
 "nbformat": 4,
 "nbformat_minor": 5
}
