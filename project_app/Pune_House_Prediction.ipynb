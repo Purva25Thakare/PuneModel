{
 "cells": [
  {
   "cell_type": "markdown",
   "id": "f808a4cc",
   "metadata": {},
   "source": [
    "# Importing Necessary Libraries"
   ]
  },
  {
   "cell_type": "code",
   "execution_count": 1,
   "id": "36d73a9a",
   "metadata": {},
   "outputs": [],
   "source": [
    "#required for creating dataframe and array operations\n",
    "import numpy as np\n",
    "import pandas as pd\n",
    "\n",
    "# for visulization pupose\n",
    "import matplotlib.pyplot as plt\n",
    "import seaborn as sns\n",
    "\n",
    "#for variance\n",
    "from statsmodels.stats.outliers_influence import variance_inflation_factor\n",
    "\n",
    "#for model splitting and fitting the model\n",
    "from sklearn.model_selection import train_test_split,GridSearchCV,RandomizedSearchCV\n",
    "from sklearn.linear_model import LinearRegression,Ridge,Lasso\n",
    "\n",
    "\n",
    "#for evaluation metrics\n",
    "from sklearn.metrics import mean_absolute_error,mean_squared_error,r2_score\n",
    "\n",
    "#to avoid warnings\n",
    "import warnings\n",
    "warnings.filterwarnings('ignore')\n",
    "\n",
    "#for one hot encoding\n",
    "from sklearn.preprocessing import OneHotEncoder, LabelEncoder\n",
    "\n",
    "import pickle\n",
    "import json"
   ]
  },
  {
   "cell_type": "markdown",
   "id": "24a7cb7a",
   "metadata": {},
   "source": [
    "# 1 Problem Statement"
   ]
  },
  {
   "cell_type": "raw",
   "id": "6d745421",
   "metadata": {},
   "source": [
    "To predict price og house in Pune using Supervised Machine Learning considering Linear Regression Model"
   ]
  },
  {
   "cell_type": "markdown",
   "id": "bebd9a7e",
   "metadata": {},
   "source": [
    "# 2 Data Gathering"
   ]
  },
  {
   "cell_type": "code",
   "execution_count": 2,
   "id": "1be8cce9",
   "metadata": {},
   "outputs": [
    {
     "data": {
      "text/html": [
       "<div>\n",
       "<style scoped>\n",
       "    .dataframe tbody tr th:only-of-type {\n",
       "        vertical-align: middle;\n",
       "    }\n",
       "\n",
       "    .dataframe tbody tr th {\n",
       "        vertical-align: top;\n",
       "    }\n",
       "\n",
       "    .dataframe thead th {\n",
       "        text-align: right;\n",
       "    }\n",
       "</style>\n",
       "<table border=\"1\" class=\"dataframe\">\n",
       "  <thead>\n",
       "    <tr style=\"text-align: right;\">\n",
       "      <th></th>\n",
       "      <th>area_type</th>\n",
       "      <th>availability</th>\n",
       "      <th>size</th>\n",
       "      <th>society</th>\n",
       "      <th>total_sqft</th>\n",
       "      <th>bath</th>\n",
       "      <th>balcony</th>\n",
       "      <th>price</th>\n",
       "      <th>site_location</th>\n",
       "    </tr>\n",
       "  </thead>\n",
       "  <tbody>\n",
       "    <tr>\n",
       "      <th>0</th>\n",
       "      <td>Super built-up  Area</td>\n",
       "      <td>19-Dec</td>\n",
       "      <td>2 BHK</td>\n",
       "      <td>Coomee</td>\n",
       "      <td>1056</td>\n",
       "      <td>2.0</td>\n",
       "      <td>1.0</td>\n",
       "      <td>39.07</td>\n",
       "      <td>Alandi Road</td>\n",
       "    </tr>\n",
       "    <tr>\n",
       "      <th>1</th>\n",
       "      <td>Plot  Area</td>\n",
       "      <td>Ready To Move</td>\n",
       "      <td>4 Bedroom</td>\n",
       "      <td>Theanmp</td>\n",
       "      <td>2600</td>\n",
       "      <td>5.0</td>\n",
       "      <td>3.0</td>\n",
       "      <td>120.00</td>\n",
       "      <td>Ambegaon Budruk</td>\n",
       "    </tr>\n",
       "    <tr>\n",
       "      <th>2</th>\n",
       "      <td>Built-up  Area</td>\n",
       "      <td>Ready To Move</td>\n",
       "      <td>3 BHK</td>\n",
       "      <td>NaN</td>\n",
       "      <td>1440</td>\n",
       "      <td>2.0</td>\n",
       "      <td>3.0</td>\n",
       "      <td>62.00</td>\n",
       "      <td>Anandnagar</td>\n",
       "    </tr>\n",
       "    <tr>\n",
       "      <th>3</th>\n",
       "      <td>Super built-up  Area</td>\n",
       "      <td>Ready To Move</td>\n",
       "      <td>3 BHK</td>\n",
       "      <td>Soiewre</td>\n",
       "      <td>1521</td>\n",
       "      <td>3.0</td>\n",
       "      <td>1.0</td>\n",
       "      <td>95.00</td>\n",
       "      <td>Aundh</td>\n",
       "    </tr>\n",
       "    <tr>\n",
       "      <th>4</th>\n",
       "      <td>Super built-up  Area</td>\n",
       "      <td>Ready To Move</td>\n",
       "      <td>2 BHK</td>\n",
       "      <td>NaN</td>\n",
       "      <td>1200</td>\n",
       "      <td>2.0</td>\n",
       "      <td>1.0</td>\n",
       "      <td>51.00</td>\n",
       "      <td>Aundh Road</td>\n",
       "    </tr>\n",
       "    <tr>\n",
       "      <th>...</th>\n",
       "      <td>...</td>\n",
       "      <td>...</td>\n",
       "      <td>...</td>\n",
       "      <td>...</td>\n",
       "      <td>...</td>\n",
       "      <td>...</td>\n",
       "      <td>...</td>\n",
       "      <td>...</td>\n",
       "      <td>...</td>\n",
       "    </tr>\n",
       "    <tr>\n",
       "      <th>13315</th>\n",
       "      <td>Built-up  Area</td>\n",
       "      <td>Ready To Move</td>\n",
       "      <td>5 Bedroom</td>\n",
       "      <td>ArsiaEx</td>\n",
       "      <td>3453</td>\n",
       "      <td>4.0</td>\n",
       "      <td>0.0</td>\n",
       "      <td>231.00</td>\n",
       "      <td>Pashan</td>\n",
       "    </tr>\n",
       "    <tr>\n",
       "      <th>13316</th>\n",
       "      <td>Super built-up  Area</td>\n",
       "      <td>Ready To Move</td>\n",
       "      <td>4 BHK</td>\n",
       "      <td>NaN</td>\n",
       "      <td>3600</td>\n",
       "      <td>5.0</td>\n",
       "      <td>NaN</td>\n",
       "      <td>400.00</td>\n",
       "      <td>Paud Road</td>\n",
       "    </tr>\n",
       "    <tr>\n",
       "      <th>13317</th>\n",
       "      <td>Built-up  Area</td>\n",
       "      <td>Ready To Move</td>\n",
       "      <td>2 BHK</td>\n",
       "      <td>Mahla T</td>\n",
       "      <td>1141</td>\n",
       "      <td>2.0</td>\n",
       "      <td>1.0</td>\n",
       "      <td>60.00</td>\n",
       "      <td>Pirangut</td>\n",
       "    </tr>\n",
       "    <tr>\n",
       "      <th>13318</th>\n",
       "      <td>Super built-up  Area</td>\n",
       "      <td>18-Jun</td>\n",
       "      <td>4 BHK</td>\n",
       "      <td>SollyCl</td>\n",
       "      <td>4689</td>\n",
       "      <td>4.0</td>\n",
       "      <td>1.0</td>\n",
       "      <td>488.00</td>\n",
       "      <td>Prabhat Road</td>\n",
       "    </tr>\n",
       "    <tr>\n",
       "      <th>13319</th>\n",
       "      <td>Super built-up  Area</td>\n",
       "      <td>Ready To Move</td>\n",
       "      <td>1 BHK</td>\n",
       "      <td>NaN</td>\n",
       "      <td>550</td>\n",
       "      <td>1.0</td>\n",
       "      <td>1.0</td>\n",
       "      <td>17.00</td>\n",
       "      <td>Pune Railway Station</td>\n",
       "    </tr>\n",
       "  </tbody>\n",
       "</table>\n",
       "<p>13320 rows × 9 columns</p>\n",
       "</div>"
      ],
      "text/plain": [
       "                  area_type   availability       size  society total_sqft  \\\n",
       "0      Super built-up  Area         19-Dec      2 BHK  Coomee        1056   \n",
       "1                Plot  Area  Ready To Move  4 Bedroom  Theanmp       2600   \n",
       "2            Built-up  Area  Ready To Move      3 BHK      NaN       1440   \n",
       "3      Super built-up  Area  Ready To Move      3 BHK  Soiewre       1521   \n",
       "4      Super built-up  Area  Ready To Move      2 BHK      NaN       1200   \n",
       "...                     ...            ...        ...      ...        ...   \n",
       "13315        Built-up  Area  Ready To Move  5 Bedroom  ArsiaEx       3453   \n",
       "13316  Super built-up  Area  Ready To Move      4 BHK      NaN       3600   \n",
       "13317        Built-up  Area  Ready To Move      2 BHK  Mahla T       1141   \n",
       "13318  Super built-up  Area         18-Jun      4 BHK  SollyCl       4689   \n",
       "13319  Super built-up  Area  Ready To Move      1 BHK      NaN        550   \n",
       "\n",
       "       bath  balcony   price         site_location  \n",
       "0       2.0      1.0   39.07           Alandi Road  \n",
       "1       5.0      3.0  120.00       Ambegaon Budruk  \n",
       "2       2.0      3.0   62.00            Anandnagar  \n",
       "3       3.0      1.0   95.00                 Aundh  \n",
       "4       2.0      1.0   51.00            Aundh Road  \n",
       "...     ...      ...     ...                   ...  \n",
       "13315   4.0      0.0  231.00                Pashan  \n",
       "13316   5.0      NaN  400.00             Paud Road  \n",
       "13317   2.0      1.0   60.00              Pirangut  \n",
       "13318   4.0      1.0  488.00          Prabhat Road  \n",
       "13319   1.0      1.0   17.00  Pune Railway Station  \n",
       "\n",
       "[13320 rows x 9 columns]"
      ]
     },
     "execution_count": 2,
     "metadata": {},
     "output_type": "execute_result"
    }
   ],
   "source": [
    "df=pd.read_csv(\"Pune_House_Data.csv\")\n",
    "df"
   ]
  },
  {
   "cell_type": "markdown",
   "id": "309ad282",
   "metadata": {},
   "source": [
    "# 3.Exploratory Data Analysis"
   ]
  },
  {
   "cell_type": "code",
   "execution_count": 3,
   "id": "7dcaf974",
   "metadata": {},
   "outputs": [
    {
     "name": "stdout",
     "output_type": "stream",
     "text": [
      "<class 'pandas.core.frame.DataFrame'>\n",
      "RangeIndex: 13320 entries, 0 to 13319\n",
      "Data columns (total 9 columns):\n",
      " #   Column         Non-Null Count  Dtype  \n",
      "---  ------         --------------  -----  \n",
      " 0   area_type      13320 non-null  object \n",
      " 1   availability   13320 non-null  object \n",
      " 2   size           13304 non-null  object \n",
      " 3   society        7818 non-null   object \n",
      " 4   total_sqft     13320 non-null  object \n",
      " 5   bath           13247 non-null  float64\n",
      " 6   balcony        12711 non-null  float64\n",
      " 7   price          13320 non-null  float64\n",
      " 8   site_location  13319 non-null  object \n",
      "dtypes: float64(3), object(6)\n",
      "memory usage: 936.7+ KB\n"
     ]
    }
   ],
   "source": [
    "df.info()"
   ]
  },
  {
   "cell_type": "markdown",
   "id": "7c04ce04",
   "metadata": {},
   "source": [
    "## 1 area_type"
   ]
  },
  {
   "cell_type": "code",
   "execution_count": 4,
   "id": "5e783528",
   "metadata": {},
   "outputs": [
    {
     "data": {
      "text/plain": [
       "0"
      ]
     },
     "execution_count": 4,
     "metadata": {},
     "output_type": "execute_result"
    }
   ],
   "source": [
    "df[\"area_type\"].isna().sum()"
   ]
  },
  {
   "cell_type": "code",
   "execution_count": 5,
   "id": "3cb41403",
   "metadata": {},
   "outputs": [
    {
     "data": {
      "text/plain": [
       "array(['Super built-up  Area', 'Plot  Area', 'Built-up  Area',\n",
       "       'Carpet  Area'], dtype=object)"
      ]
     },
     "execution_count": 5,
     "metadata": {},
     "output_type": "execute_result"
    }
   ],
   "source": [
    "df[\"area_type\"].unique()"
   ]
  },
  {
   "cell_type": "code",
   "execution_count": 6,
   "id": "313c7452",
   "metadata": {},
   "outputs": [
    {
     "data": {
      "text/plain": [
       "{'Super built-up  Area': 8790,\n",
       " 'Built-up  Area': 2418,\n",
       " 'Plot  Area': 2025,\n",
       " 'Carpet  Area': 87}"
      ]
     },
     "execution_count": 6,
     "metadata": {},
     "output_type": "execute_result"
    }
   ],
   "source": [
    "dict_area_type=df[\"area_type\"].value_counts().to_dict()\n",
    "dict_area_type"
   ]
  },
  {
   "cell_type": "markdown",
   "id": "ab052f4e",
   "metadata": {},
   "source": [
    "## 2.availability"
   ]
  },
  {
   "cell_type": "code",
   "execution_count": 7,
   "id": "ea8ba2fc",
   "metadata": {},
   "outputs": [
    {
     "data": {
      "text/plain": [
       "0"
      ]
     },
     "execution_count": 7,
     "metadata": {},
     "output_type": "execute_result"
    }
   ],
   "source": [
    "df[\"availability\"].isna().sum()"
   ]
  },
  {
   "cell_type": "code",
   "execution_count": 8,
   "id": "7d2cc536",
   "metadata": {},
   "outputs": [
    {
     "data": {
      "text/plain": [
       "array(['19-Dec', 'Ready To Move', '18-May', '18-Feb', '18-Nov', '20-Dec',\n",
       "       '17-Oct', '21-Dec', '19-Sep', '20-Sep', '18-Mar', '20-Feb',\n",
       "       '18-Apr', '20-Aug', '18-Oct', '19-Mar', '17-Sep', '18-Dec',\n",
       "       '17-Aug', '19-Apr', '18-Jun', '22-Dec', '22-Jan', '18-Aug',\n",
       "       '19-Jan', '17-Jul', '18-Jul', '21-Jun', '20-May', '19-Aug',\n",
       "       '18-Sep', '17-May', '17-Jun', '21-May', '18-Jan', '20-Mar',\n",
       "       '17-Dec', '16-Mar', '19-Jun', '22-Jun', '19-Jul', '21-Feb',\n",
       "       'Immediate Possession', '19-May', '17-Nov', '20-Oct', '20-Jun',\n",
       "       '19-Feb', '21-Oct', '21-Jan', '17-Mar', '17-Apr', '22-May',\n",
       "       '19-Oct', '21-Jul', '21-Nov', '21-Mar', '16-Dec', '22-Mar',\n",
       "       '20-Jan', '21-Sep', '21-Aug', '14-Nov', '19-Nov', '15-Nov',\n",
       "       '16-Jul', '15-Jun', '17-Feb', '20-Nov', '20-Jul', '16-Sep',\n",
       "       '15-Oct', '15-Dec', '16-Oct', '22-Nov', '15-Aug', '17-Jan',\n",
       "       '16-Nov', '20-Apr', '16-Jan', '14-Jul'], dtype=object)"
      ]
     },
     "execution_count": 8,
     "metadata": {},
     "output_type": "execute_result"
    }
   ],
   "source": [
    "df[\"availability\"].unique()"
   ]
  },
  {
   "cell_type": "code",
   "execution_count": 9,
   "id": "07b7018e",
   "metadata": {},
   "outputs": [
    {
     "data": {
      "text/plain": [
       "{'Ready To Move': 10581,\n",
       " '18-Dec': 307,\n",
       " '18-May': 295,\n",
       " '18-Apr': 271,\n",
       " '18-Aug': 200,\n",
       " '19-Dec': 185,\n",
       " '18-Jul': 143,\n",
       " '18-Mar': 131,\n",
       " '18-Jun': 99,\n",
       " '20-Dec': 98,\n",
       " '21-Dec': 93,\n",
       " '19-Mar': 88,\n",
       " '18-Feb': 62,\n",
       " '18-Nov': 47,\n",
       " '18-Jan': 43,\n",
       " '18-Sep': 41,\n",
       " '19-Jun': 40,\n",
       " '18-Oct': 39,\n",
       " '19-Jan': 39,\n",
       " '19-Jul': 36,\n",
       " '17-Dec': 29,\n",
       " '20-Jan': 24,\n",
       " '17-Oct': 21,\n",
       " '19-Sep': 21,\n",
       " '22-Jun': 19,\n",
       " '19-Aug': 18,\n",
       " '21-Jun': 17,\n",
       " '19-Apr': 16,\n",
       " 'Immediate Possession': 16,\n",
       " '20-Aug': 16,\n",
       " '19-Oct': 15,\n",
       " '21-Mar': 14,\n",
       " '17-Jun': 13,\n",
       " '21-May': 12,\n",
       " '17-Jul': 12,\n",
       " '17-Nov': 12,\n",
       " '21-Jan': 12,\n",
       " '22-Dec': 11,\n",
       " '20-Jun': 11,\n",
       " '17-Sep': 11,\n",
       " '22-May': 10,\n",
       " '19-May': 9,\n",
       " '17-Aug': 9,\n",
       " '21-Jul': 8,\n",
       " '17-May': 8,\n",
       " '20-Oct': 7,\n",
       " '19-Nov': 7,\n",
       " '17-Apr': 7,\n",
       " '21-Feb': 6,\n",
       " '20-Sep': 6,\n",
       " '21-Oct': 6,\n",
       " '22-Jan': 6,\n",
       " '21-Sep': 6,\n",
       " '21-Aug': 5,\n",
       " '20-Jul': 5,\n",
       " '17-Mar': 5,\n",
       " '20-Nov': 4,\n",
       " '16-Dec': 4,\n",
       " '20-Apr': 4,\n",
       " '20-May': 4,\n",
       " '21-Nov': 3,\n",
       " '16-Mar': 3,\n",
       " '22-Mar': 3,\n",
       " '19-Feb': 3,\n",
       " '20-Mar': 2,\n",
       " '22-Nov': 2,\n",
       " '16-Sep': 2,\n",
       " '15-Oct': 2,\n",
       " '17-Feb': 2,\n",
       " '15-Nov': 2,\n",
       " '20-Feb': 2,\n",
       " '15-Jun': 1,\n",
       " '16-Jul': 1,\n",
       " '14-Nov': 1,\n",
       " '15-Dec': 1,\n",
       " '16-Oct': 1,\n",
       " '15-Aug': 1,\n",
       " '17-Jan': 1,\n",
       " '16-Nov': 1,\n",
       " '16-Jan': 1,\n",
       " '14-Jul': 1}"
      ]
     },
     "execution_count": 9,
     "metadata": {},
     "output_type": "execute_result"
    }
   ],
   "source": [
    "dict_availability=df[\"availability\"].value_counts().to_dict()\n",
    "dict_availability"
   ]
  },
  {
   "cell_type": "markdown",
   "id": "28e73006",
   "metadata": {},
   "source": [
    "## 3.size"
   ]
  },
  {
   "cell_type": "code",
   "execution_count": 10,
   "id": "726932e8",
   "metadata": {},
   "outputs": [
    {
     "data": {
      "text/plain": [
       "16"
      ]
     },
     "execution_count": 10,
     "metadata": {},
     "output_type": "execute_result"
    }
   ],
   "source": [
    "df[\"size\"].isna().sum()"
   ]
  },
  {
   "cell_type": "code",
   "execution_count": 11,
   "id": "8a5ea636",
   "metadata": {},
   "outputs": [
    {
     "data": {
      "text/plain": [
       "array(['2 BHK', '4 Bedroom', '3 BHK', '4 BHK', '6 Bedroom', '3 Bedroom',\n",
       "       '1 BHK', '1 RK', '1 Bedroom', '8 Bedroom', '2 Bedroom',\n",
       "       '7 Bedroom', '5 BHK', '7 BHK', '6 BHK', '5 Bedroom', '11 BHK',\n",
       "       '9 BHK', nan, '9 Bedroom', '27 BHK', '10 Bedroom', '11 Bedroom',\n",
       "       '10 BHK', '19 BHK', '16 BHK', '43 Bedroom', '14 BHK', '8 BHK',\n",
       "       '12 Bedroom', '13 BHK', '18 Bedroom'], dtype=object)"
      ]
     },
     "execution_count": 11,
     "metadata": {},
     "output_type": "execute_result"
    }
   ],
   "source": [
    "df[\"size\"].unique()"
   ]
  },
  {
   "cell_type": "code",
   "execution_count": 12,
   "id": "e8f8289f",
   "metadata": {},
   "outputs": [
    {
     "data": {
      "text/plain": [
       "2 BHK         5199\n",
       "3 BHK         4310\n",
       "4 Bedroom      826\n",
       "4 BHK          591\n",
       "3 Bedroom      547\n",
       "1 BHK          538\n",
       "2 Bedroom      329\n",
       "5 Bedroom      297\n",
       "6 Bedroom      191\n",
       "1 Bedroom      105\n",
       "8 Bedroom       84\n",
       "7 Bedroom       83\n",
       "5 BHK           59\n",
       "9 Bedroom       46\n",
       "6 BHK           30\n",
       "7 BHK           17\n",
       "1 RK            13\n",
       "10 Bedroom      12\n",
       "9 BHK            8\n",
       "8 BHK            5\n",
       "11 BHK           2\n",
       "11 Bedroom       2\n",
       "10 BHK           2\n",
       "14 BHK           1\n",
       "13 BHK           1\n",
       "12 Bedroom       1\n",
       "27 BHK           1\n",
       "43 Bedroom       1\n",
       "16 BHK           1\n",
       "19 BHK           1\n",
       "18 Bedroom       1\n",
       "Name: size, dtype: int64"
      ]
     },
     "execution_count": 12,
     "metadata": {},
     "output_type": "execute_result"
    }
   ],
   "source": [
    "df[\"size\"].value_counts()"
   ]
  },
  {
   "cell_type": "markdown",
   "id": "9c4b9f5d",
   "metadata": {},
   "source": [
    "## 4.society"
   ]
  },
  {
   "cell_type": "code",
   "execution_count": 13,
   "id": "8f2ac498",
   "metadata": {},
   "outputs": [
    {
     "data": {
      "text/plain": [
       "5502"
      ]
     },
     "execution_count": 13,
     "metadata": {},
     "output_type": "execute_result"
    }
   ],
   "source": [
    "df[\"society\"].isna().sum()"
   ]
  },
  {
   "cell_type": "code",
   "execution_count": 14,
   "id": "ff9532b3",
   "metadata": {},
   "outputs": [
    {
     "data": {
      "text/plain": [
       "array(['Coomee ', 'Theanmp', nan, ..., 'SJovest', 'ThhtsV ', 'RSntsAp'],\n",
       "      dtype=object)"
      ]
     },
     "execution_count": 14,
     "metadata": {},
     "output_type": "execute_result"
    }
   ],
   "source": [
    "df[\"society\"].unique()"
   ]
  },
  {
   "cell_type": "code",
   "execution_count": 15,
   "id": "fa7bb795",
   "metadata": {},
   "outputs": [
    {
     "data": {
      "text/plain": [
       "{'GrrvaGr': 80,\n",
       " 'PrarePa': 76,\n",
       " 'Sryalan': 59,\n",
       " 'Prtates': 59,\n",
       " 'GMown E': 56,\n",
       " 'Prtanha': 51,\n",
       " 'Bhmesy ': 51,\n",
       " 'Prityel': 50,\n",
       " 'PrityTr': 49,\n",
       " 'Prarkun': 49,\n",
       " 'Dhalsh ': 47,\n",
       " 'IBityin': 45,\n",
       " 'SNity S': 40,\n",
       " 'Soresea': 39,\n",
       " 'Adeatlm': 37,\n",
       " 'Soitya ': 36,\n",
       " 'Rosha I': 35,\n",
       " 'Bhe 2ko': 35,\n",
       " 'SunceEs': 34,\n",
       " 'SNnia E': 33,\n",
       " 'JRrnauv': 30,\n",
       " 'MenueNo': 29,\n",
       " 'Prlla C': 28,\n",
       " 'PuandHi': 28,\n",
       " 'RothaVa': 27,\n",
       " 'Prncyrn': 27,\n",
       " 'GoAirej': 26,\n",
       " 'Aklia R': 26,\n",
       " 'Raard B': 26,\n",
       " 'PhestOn': 26,\n",
       " 'Puachal': 26,\n",
       " 'DLhtsnd': 24,\n",
       " 'Dieldli': 24,\n",
       " 'Itelaa ': 24,\n",
       " 'Soazak ': 24,\n",
       " 'Sodgere': 23,\n",
       " 'ViistLa': 23,\n",
       " 'Brnia G': 23,\n",
       " 'PualeSk': 23,\n",
       " 'Shitt S': 23,\n",
       " 'Soiewre': 22,\n",
       " 'Prrtht ': 21,\n",
       " 'DLhtsan': 21,\n",
       " 'RInceeg': 21,\n",
       " 'Brway G': 21,\n",
       " 'SoechHa': 21,\n",
       " 'DLhtsen': 20,\n",
       " 'AsastDe': 20,\n",
       " 'Eladero': 20,\n",
       " 'Shthi S': 20,\n",
       " 'Prersis': 19,\n",
       " 'Magiaya': 19,\n",
       " 'Jaades ': 19,\n",
       " 'Klark L': 19,\n",
       " 'PueraRi': 18,\n",
       " 'Brica E': 17,\n",
       " 'SSestth': 17,\n",
       " 'SaireSa': 17,\n",
       " 'Oreldhi': 17,\n",
       " 'Prensya': 16,\n",
       " 'KHatsFl': 16,\n",
       " 'Baowsig': 16,\n",
       " 'SSthamh': 16,\n",
       " 'Sariaat': 15,\n",
       " 'BrlisCo': 15,\n",
       " 'NRosete': 15,\n",
       " 'Sosisic': 15,\n",
       " 'GolusLi': 15,\n",
       " 'Tavenew': 14,\n",
       " 'Taonte ': 14,\n",
       " 'PuziaVe': 14,\n",
       " 'BriumMi': 14,\n",
       " 'Mayne A': 14,\n",
       " 'Pyikad ': 14,\n",
       " 'Bregae ': 14,\n",
       " 'Sovar S': 14,\n",
       " 'Mahosya': 14,\n",
       " 'Unm 2El': 14,\n",
       " 'Prcesvy': 14,\n",
       " 'SMuilan': 14,\n",
       " 'Shateor': 14,\n",
       " 'Emine P': 14,\n",
       " 'BrdgeNo': 14,\n",
       " 'Koagati': 14,\n",
       " 'Skacak ': 13,\n",
       " 'Somumys': 13,\n",
       " 'GoityEt': 13,\n",
       " 'UKe 2nz': 13,\n",
       " 'Asintas': 13,\n",
       " 'Mauner ': 13,\n",
       " 'MauilTr': 13,\n",
       " 'Theanmp': 13,\n",
       " 'Arcia S': 13,\n",
       " 'Caycend': 13,\n",
       " 'SLnssPr': 13,\n",
       " 'Brglede': 12,\n",
       " 'Alestrb': 12,\n",
       " 'SLaceda': 12,\n",
       " 'Ahriaup': 12,\n",
       " 'BrontLa': 12,\n",
       " 'SuVue S': 12,\n",
       " 'Saitya ': 12,\n",
       " 'SLtias ': 12,\n",
       " 'G conTh': 12,\n",
       " 'Skume R': 12,\n",
       " 'Pruthg ': 12,\n",
       " 'Goues A': 12,\n",
       " 'Maana E': 12,\n",
       " 'Goateds': 12,\n",
       " 'PuendWe': 12,\n",
       " 'DNeremo': 12,\n",
       " 'Niareum': 12,\n",
       " 'Jae 1hu': 12,\n",
       " 'ManceEl': 11,\n",
       " 'SheldGr': 11,\n",
       " 'Sahtsva': 11,\n",
       " 'Peide L': 11,\n",
       " 'Goted U': 11,\n",
       " 'SoineC ': 11,\n",
       " 'SPavenc': 11,\n",
       " 'Prionad': 11,\n",
       " 'ProdsWe': 11,\n",
       " 'Vrenty ': 11,\n",
       " 'Pronyt ': 11,\n",
       " 'Wiowsri': 11,\n",
       " 'SrncyRe': 11,\n",
       " 'NDionas': 11,\n",
       " 'DNncasa': 11,\n",
       " 'Itvir M': 11,\n",
       " 'Maity W': 10,\n",
       " 'Prldsri': 10,\n",
       " 'SJityaz': 10,\n",
       " 'AsNowre': 10,\n",
       " 'Proodt ': 10,\n",
       " 'PrityFa': 10,\n",
       " 'Brama P': 10,\n",
       " 'Saageat': 10,\n",
       " 'ViensRK': 10,\n",
       " 'SoitaCa': 10,\n",
       " 'Shestlo': 10,\n",
       " 'Pu270a ': 10,\n",
       " 'She 2rk': 10,\n",
       " 'SNontle': 10,\n",
       " 'Saityat': 10,\n",
       " 'SoisoCa': 10,\n",
       " 'Soeurri': 10,\n",
       " 'Neisei ': 10,\n",
       " 'Mahesr ': 10,\n",
       " 'Brium C': 9,\n",
       " 'ShshaSa': 9,\n",
       " 'NaensGa': 9,\n",
       " 'Rarthne': 9,\n",
       " 'Ceezey ': 9,\n",
       " 'Tahtsla': 9,\n",
       " 'Asarqz ': 9,\n",
       " 'DNionfl': 9,\n",
       " 'AWharde': 9,\n",
       " 'DSgmax ': 9,\n",
       " 'MJtroty': 9,\n",
       " 'SNbay G': 9,\n",
       " 'Prone M': 9,\n",
       " 'MBodsen': 9,\n",
       " 'Sabixtt': 9,\n",
       " 'AriosPa': 9,\n",
       " 'GRhtiru': 9,\n",
       " 'HMonymp': 9,\n",
       " 'Sonviik': 9,\n",
       " 'Prana S': 9,\n",
       " 'PuoodSk': 9,\n",
       " 'PaontWa': 9,\n",
       " 'Usquaya': 9,\n",
       " 'Prllsan': 9,\n",
       " 'KHage G': 9,\n",
       " 'HRaniIb': 8,\n",
       " 'OriewLa': 8,\n",
       " 'PuonsSe': 8,\n",
       " 'SoystAm': 8,\n",
       " 'Soianal': 8,\n",
       " 'NRowse ': 8,\n",
       " 'Shestut': 8,\n",
       " 'Suiseit': 8,\n",
       " 'Brods W': 8,\n",
       " 'KonteiT': 8,\n",
       " 'Saite G': 8,\n",
       " 'Assha A': 8,\n",
       " 'Vaniai ': 8,\n",
       " 'Prowshi': 8,\n",
       " 'DSingSt': 8,\n",
       " 'AlEcone': 8,\n",
       " 'ChionCo': 8,\n",
       " 'Palleon': 8,\n",
       " 'DSnjh S': 8,\n",
       " 'Saesttt': 8,\n",
       " 'Sothin ': 8,\n",
       " 'Sanzaat': 8,\n",
       " 'Puallhi': 8,\n",
       " 'MJeusyl': 8,\n",
       " 'PrntaEn': 8,\n",
       " 'Goty  E': 8,\n",
       " 'Saiewas': 7,\n",
       " 'DSndsod': 7,\n",
       " 'SosicCl': 7,\n",
       " 'Adowslm': 7,\n",
       " 'Keers S': 7,\n",
       " 'Sondaka': 7,\n",
       " 'DSera S': 7,\n",
       " 'RatosAr': 7,\n",
       " 'VBn 2lm': 7,\n",
       " 'NiCodCa': 7,\n",
       " 'Srrnasa': 7,\n",
       " 'Malowr ': 7,\n",
       " 'Sowerew': 7,\n",
       " 'PlhtsHe': 7,\n",
       " 'Jae 2hu': 7,\n",
       " 'RMcesa ': 7,\n",
       " 'Pehtsa ': 7,\n",
       " 'PrensKe': 7,\n",
       " 'PrOakSi': 7,\n",
       " 'Miitat ': 7,\n",
       " 'MJinele': 7,\n",
       " 'GonumPl': 7,\n",
       " 'Jaood G': 7,\n",
       " 'Vaharvi': 7,\n",
       " 'Gotis A': 7,\n",
       " 'SStusan': 7,\n",
       " 'ETens G': 7,\n",
       " 'Shyas S': 7,\n",
       " 'Ayaya A': 7,\n",
       " 'SrEndPo': 7,\n",
       " 'Srier P': 7,\n",
       " 'Prrry M': 7,\n",
       " 'Mileeou': 7,\n",
       " 'MancyRe': 6,\n",
       " 'Pride S': 6,\n",
       " 'AritaFe': 6,\n",
       " 'Mades G': 6,\n",
       " 'Puodse ': 6,\n",
       " 'Puestol': 6,\n",
       " 'ShdhiSa': 6,\n",
       " 'MJarlPe': 6,\n",
       " 'Mamespa': 6,\n",
       " 'SrisePo': 6,\n",
       " 'Myple M': 6,\n",
       " 'K ncy R': 6,\n",
       " 'Prhtsok': 6,\n",
       " 'Saahaat': 6,\n",
       " 'Contsci': 6,\n",
       " 'Soionar': 6,\n",
       " 'Reicace': 6,\n",
       " 'Soweray': 6,\n",
       " 'Hirio L': 6,\n",
       " 'FoapeWa': 6,\n",
       " 'ARureig': 6,\n",
       " 'Sreat R': 6,\n",
       " 'Roima A': 6,\n",
       " 'Thessrm': 6,\n",
       " 'Brens7 ': 6,\n",
       " 'Soiniy ': 6,\n",
       " 'Collsrn': 6,\n",
       " 'Ceiti I': 6,\n",
       " 'Sonue A': 6,\n",
       " 'VBownre': 6,\n",
       " 'Brony H': 6,\n",
       " 'Sothadr': 6,\n",
       " 'KHityry': 6,\n",
       " 'NCowsar': 6,\n",
       " 'Ozensve': 6,\n",
       " 'CoinoCu': 6,\n",
       " 'Prldsum': 6,\n",
       " 'Asara S': 6,\n",
       " 'Somns T': 6,\n",
       " 'SMaxyay': 6,\n",
       " 'DSvar S': 6,\n",
       " 'SSdhimr': 6,\n",
       " 'Samittv': 6,\n",
       " 'AriosHe': 6,\n",
       " 'MCnexva': 6,\n",
       " 'Sariana': 6,\n",
       " 'Shmes O': 6,\n",
       " 'Prlmsge': 5,\n",
       " 'Srntsha': 5,\n",
       " 'Sonosty': 5,\n",
       " 'Pantsce': 5,\n",
       " 'Salisal': 5,\n",
       " 'SJcerpe': 5,\n",
       " 'Orens G': 5,\n",
       " 'SoosePr': 5,\n",
       " 'JahanSa': 5,\n",
       " 'Vaensia': 5,\n",
       " 'Baveles': 5,\n",
       " 'Iseenst': 5,\n",
       " 'LedorSa': 5,\n",
       " 'Shony S': 5,\n",
       " 'DSgam S': 5,\n",
       " 'NaonySy': 5,\n",
       " 'Chllea ': 5,\n",
       " 'BSlasin': 5,\n",
       " 'Vasisvi': 5,\n",
       " 'Niara S': 5,\n",
       " 'Shana S': 5,\n",
       " 'Sastaat': 5,\n",
       " 'Cetattu': 5,\n",
       " 'Veales ': 5,\n",
       " 'Prigh L': 5,\n",
       " 'RMudeat': 5,\n",
       " 'Roiti A': 5,\n",
       " 'Epllan ': 5,\n",
       " 'ImiteEl': 5,\n",
       " 'ARngsd ': 5,\n",
       " 'Srsica ': 5,\n",
       " 'PancyRe': 5,\n",
       " 'Nillsre': 5,\n",
       " 'ArsiaEx': 5,\n",
       " 'Neite T': 5,\n",
       " 'Vasta C': 5,\n",
       " 'DSestSt': 5,\n",
       " 'Maens G': 5,\n",
       " 'Makeser': 5,\n",
       " 'Soe 2as': 5,\n",
       " 'Maantr ': 5,\n",
       " 'SJmesst': 5,\n",
       " 'Naiewre': 5,\n",
       " 'GRlpank': 5,\n",
       " 'Syonyph': 5,\n",
       " 'Shodsir': 5,\n",
       " 'Coomee ': 5,\n",
       " 'Goandn ': 5,\n",
       " 'Toindls': 5,\n",
       " 'Maian M': 5,\n",
       " 'Apows M': 5,\n",
       " 'Pridsi ': 5,\n",
       " 'PSterAs': 5,\n",
       " 'BMttaor': 5,\n",
       " 'ReudePr': 5,\n",
       " 'Brngsal': 5,\n",
       " 'Veyalin': 5,\n",
       " 'Lelia M': 5,\n",
       " 'Sadhii ': 5,\n",
       " 'Unezes ': 5,\n",
       " 'Hiatei ': 5,\n",
       " 'Shxorm ': 5,\n",
       " 'Cehosy ': 5,\n",
       " 'Vaens G': 4,\n",
       " 'Velas V': 4,\n",
       " 'Unateit': 4,\n",
       " 'DSillto': 4,\n",
       " 'CoiewSy': 4,\n",
       " 'Saersel': 4,\n",
       " 'Paestol': 4,\n",
       " 'NCaveun': 4,\n",
       " 'Pumesim': 4,\n",
       " 'Vaarech': 4,\n",
       " 'ARipsul': 4,\n",
       " 'Moity S': 4,\n",
       " 'DSimaUl': 4,\n",
       " 'Chllsev': 4,\n",
       " 'Brrds O': 4,\n",
       " 'PrawnRa': 4,\n",
       " 'Aconyit': 4,\n",
       " 'Sancya ': 4,\n",
       " 'MaidoPl': 4,\n",
       " 'NiarkHy': 4,\n",
       " 'VBavaai': 4,\n",
       " 'Pamesy ': 4,\n",
       " 'MJinala': 4,\n",
       " 'Prsun S': 4,\n",
       " 'Prntsax': 4,\n",
       " 'Raave E': 4,\n",
       " 'Asncywo': 4,\n",
       " 'DSestil': 4,\n",
       " 'ALtonea': 4,\n",
       " 'ACopsva': 4,\n",
       " 'DSvvyx ': 4,\n",
       " 'NCarkna': 4,\n",
       " 'Goourta': 4,\n",
       " 'Undge T': 4,\n",
       " 'IDldsin': 4,\n",
       " 'DSata S': 4,\n",
       " 'Stlomg ': 4,\n",
       " 'Pronege': 4,\n",
       " 'MNtha A': 4,\n",
       " 'Sapus S': 4,\n",
       " 'Prood P': 4,\n",
       " 'DShtsow': 4,\n",
       " 'SoapeSu': 4,\n",
       " 'VBvenal': 4,\n",
       " 'KBityo ': 4,\n",
       " 'Arera V': 4,\n",
       " 'PeBayle': 4,\n",
       " 'Oztarol': 4,\n",
       " 'Roeekbl': 4,\n",
       " 'Krtiqa ': 4,\n",
       " 'Macanr ': 4,\n",
       " 'Brstaue': 4,\n",
       " 'GMilse ': 4,\n",
       " 'Aroomba': 4,\n",
       " 'ETntsce': 4,\n",
       " 'Krala D': 4,\n",
       " 'GoncyRe': 4,\n",
       " 'ArnzaFi': 4,\n",
       " 'SPontna': 4,\n",
       " 'Rabow R': 4,\n",
       " 'LVniaar': 4,\n",
       " 'PrrloMo': 4,\n",
       " 'Goeesem': 4,\n",
       " 'HovasTe': 4,\n",
       " 'Vaoodar': 4,\n",
       " 'SLityee': 4,\n",
       " 'Saavenc': 4,\n",
       " 'Dimes E': 4,\n",
       " 'Plowsri': 4,\n",
       " 'DSeldpr': 4,\n",
       " 'HMigond': 4,\n",
       " 'Ciques ': 4,\n",
       " 'Daivon ': 4,\n",
       " 'Seityen': 4,\n",
       " 'Emceske': 4,\n",
       " 'Sorisa ': 4,\n",
       " 'BMineis': 4,\n",
       " 'Puwerun': 4,\n",
       " 'SNdri N': 4,\n",
       " 'DSousyl': 4,\n",
       " 'Itala A': 4,\n",
       " 'BMmesHo': 4,\n",
       " 'Golmsn ': 4,\n",
       " 'IBictnd': 4,\n",
       " 'SJerse ': 4,\n",
       " 'SLireap': 4,\n",
       " 'Ablmsol': 4,\n",
       " 'AreraRe': 4,\n",
       " 'Goodsrb': 4,\n",
       " 'SNe 2ev': 4,\n",
       " 'Sklls C': 4,\n",
       " 'Deiveer': 4,\n",
       " 'Almid P': 4,\n",
       " 'SNityVe': 4,\n",
       " 'HMinebo': 4,\n",
       " 'ArndsSk': 4,\n",
       " 'Prasa W': 4,\n",
       " 'CoLeoen': 4,\n",
       " 'Maows M': 4,\n",
       " 'Saciatt': 4,\n",
       " 'Priew P': 4,\n",
       " 'SNiew L': 4,\n",
       " 'SJodsed': 4,\n",
       " 'Maunt M': 4,\n",
       " 'Patri M': 4,\n",
       " 'GaicaVe': 4,\n",
       " 'Prillot': 4,\n",
       " 'Puceswn': 4,\n",
       " 'DSity S': 4,\n",
       " 'Brlms P': 4,\n",
       " 'Coowsri': 4,\n",
       " 'MKllei ': 4,\n",
       " 'Prodsth': 4,\n",
       " 'PuilaMi': 4,\n",
       " 'GKityel': 4,\n",
       " 'Prood G': 4,\n",
       " 'DSOakil': 4,\n",
       " 'DSapeSk': 4,\n",
       " 'Jurdsig': 4,\n",
       " 'Mapleer': 4,\n",
       " 'Prsisge': 4,\n",
       " 'Puodsm ': 3,\n",
       " 'SraveHi': 3,\n",
       " 'HoAcela': 3,\n",
       " 'Prineth': 3,\n",
       " 'Daden G': 3,\n",
       " 'Mancy R': 3,\n",
       " 'SrireSo': 3,\n",
       " 'Vandak ': 3,\n",
       " 'AztheBr': 3,\n",
       " 'Inenshe': 3,\n",
       " 'Corus C': 3,\n",
       " 'Sourtal': 3,\n",
       " 'Maenara': 3,\n",
       " 'Shbhi S': 3,\n",
       " 'Mykyayi': 3,\n",
       " 'InockHo': 3,\n",
       " 'Mavelr ': 3,\n",
       " 'Bront A': 3,\n",
       " 'Baanise': 3,\n",
       " 'Maidsr ': 3,\n",
       " 'Savar S': 3,\n",
       " 'Daxir E': 3,\n",
       " 'Skarkev': 3,\n",
       " 'Exitym ': 3,\n",
       " 'VMlet C': 3,\n",
       " 'GRvanun': 3,\n",
       " 'Srhts P': 3,\n",
       " 'Arhid O': 3,\n",
       " 'BaiseBa': 3,\n",
       " 'AjityIn': 3,\n",
       " 'Asuilnc': 3,\n",
       " 'GeereEc': 3,\n",
       " 'Sotosty': 3,\n",
       " 'PavesGr': 3,\n",
       " 'Priesla': 3,\n",
       " 'SaodySa': 3,\n",
       " 'i1rtsCo': 3,\n",
       " 'Ascid P': 3,\n",
       " 'Gonorir': 3,\n",
       " 'Elodsre': 3,\n",
       " 'Prdenth': 3,\n",
       " 'Briumri': 3,\n",
       " 'Solia D': 3,\n",
       " 'Veale R': 3,\n",
       " 'Raony C': 3,\n",
       " 'NDpalSe': 3,\n",
       " 'Rasom B': 3,\n",
       " 'R ra  R': 3,\n",
       " 'Sisice ': 3,\n",
       " 'VaiewV ': 3,\n",
       " 'PrstaTe': 3,\n",
       " 'Soamsay': 3,\n",
       " 'Pridei ': 3,\n",
       " 'Srhan P': 3,\n",
       " 'ARomee ': 3,\n",
       " 'PritaDo': 3,\n",
       " 'Pao 3ow': 3,\n",
       " 'ThBayah': 3,\n",
       " 'Rancy R': 3,\n",
       " 'AxvamTa': 3,\n",
       " 'Malmsri': 3,\n",
       " 'Hahtsya': 3,\n",
       " 'SRageri': 3,\n",
       " 'CMhidal': 3,\n",
       " 'ColeyNa': 3,\n",
       " 'Rainet ': 3,\n",
       " 'Kaiew L': 3,\n",
       " 'Putere ': 3,\n",
       " 'YCnce R': 3,\n",
       " 'Naasyak': 3,\n",
       " 'Pranthi': 3,\n",
       " 'Goner C': 3,\n",
       " 'Pae 1ov': 3,\n",
       " 'ARntyne': 3,\n",
       " 'SoliaMa': 3,\n",
       " 'Hiate F': 3,\n",
       " 'RNvasth': 3,\n",
       " 'Esave E': 3,\n",
       " 'DSlesSp': 3,\n",
       " 'Mauil T': 3,\n",
       " 'Rarelt ': 3,\n",
       " 'Prurten': 3,\n",
       " 'V2gesre': 3,\n",
       " 'Suurtni': 3,\n",
       " 'Prensin': 3,\n",
       " 'Prageta': 3,\n",
       " 'DSerste': 3,\n",
       " 'MCrds S': 3,\n",
       " 'SJityVe': 3,\n",
       " 'SollyCl': 3,\n",
       " 'ICoolon': 3,\n",
       " 'K dotna': 3,\n",
       " 'Prllasw': 3,\n",
       " 'DSdidSp': 3,\n",
       " 'PrncyRe': 3,\n",
       " 'Inntsth': 3,\n",
       " 'Wiaysld': 3,\n",
       " 'DSdorSp': 3,\n",
       " 'Gencysi': 3,\n",
       " 'Caiseur': 3,\n",
       " 'MItatHa': 3,\n",
       " 'Ahciace': 3,\n",
       " 'NaaveEn': 3,\n",
       " 'Satle C': 3,\n",
       " 'Kelmsoy': 3,\n",
       " 'Gotaten': 3,\n",
       " 'Gaent R': 3,\n",
       " 'Inasy E': 3,\n",
       " 'DSestma': 3,\n",
       " 'Jaw 2 L': 3,\n",
       " 'Raiyai ': 3,\n",
       " 'Adaveth': 3,\n",
       " 'Paoliy ': 3,\n",
       " 'Goelsn ': 3,\n",
       " 'SoniaEt': 3,\n",
       " 'Prhar G': 3,\n",
       " 'PrBayGa': 3,\n",
       " 'NVanat ': 3,\n",
       " 'Trows M': 3,\n",
       " 'BSian M': 3,\n",
       " 'MDncyhi': 3,\n",
       " 'Ahntyve': 3,\n",
       " 'Soowsa ': 3,\n",
       " 'Juoryma': 3,\n",
       " 'MCtleas': 3,\n",
       " 'MaentNa': 3,\n",
       " 'Sparam ': 3,\n",
       " 'Kuownri': 3,\n",
       " 'ViisePa': 3,\n",
       " 'SodilDa': 3,\n",
       " 'Hiestre': 3,\n",
       " 'Jancyva': 3,\n",
       " 'PraleSi': 3,\n",
       " 'Vapasrk': 3,\n",
       " 'Cerasy ': 3,\n",
       " 'Unris E': 3,\n",
       " 'Sksia A': 3,\n",
       " 'DSensn ': 3,\n",
       " 'PNncysi': 3,\n",
       " 'VDdonel': 3,\n",
       " 'HMwerCo': 3,\n",
       " 'Krryll ': 3,\n",
       " 'Dhndsh ': 3,\n",
       " 'Courf T': 3,\n",
       " 'Zostaa ': 3,\n",
       " 'Lancyey': 3,\n",
       " 'Inensba': 3,\n",
       " 'Rie 2ri': 3,\n",
       " 'SyidaCr': 3,\n",
       " 'Sohea A': 3,\n",
       " 'Stndeil': 3,\n",
       " 'Brareio': 3,\n",
       " 'NCs 2rj': 3,\n",
       " 'HiahsLa': 3,\n",
       " 'Oznuean': 3,\n",
       " 'MSingco': 3,\n",
       " 'PaantPl': 3,\n",
       " 'Mithmn ': 3,\n",
       " 'Jahipa ': 3,\n",
       " 'Shvarji': 3,\n",
       " 'Jahidva': 3,\n",
       " 'Haestt ': 3,\n",
       " 'PuontBe': 3,\n",
       " 'Srncy R': 3,\n",
       " 'Hoxiaa ': 3,\n",
       " 'Soyleif': 3,\n",
       " 'BrardCo': 3,\n",
       " 'Bancyri': 3,\n",
       " 'Hotat H': 3,\n",
       " 'Shiaa S': 3,\n",
       " 'Alivae ': 3,\n",
       " 'Aiitya ': 3,\n",
       " 'RMaanSa': 3,\n",
       " 'Muistry': 3,\n",
       " 'MCvarar': 3,\n",
       " 'Mawerer': 3,\n",
       " 'Srg Bnc': 3,\n",
       " 'Soena A': 3,\n",
       " 'Srshq T': 3,\n",
       " 'Suncy R': 3,\n",
       " 'Arldsyo': 3,\n",
       " 'SJarkte': 3,\n",
       " 'Reodsnc': 3,\n",
       " 'Coa 3t ': 3,\n",
       " 'RookaJh': 3,\n",
       " 'DSoodil': 3,\n",
       " 'Peles P': 3,\n",
       " 'Betatsi': 3,\n",
       " 'Srire S': 3,\n",
       " 'Neagar ': 3,\n",
       " 'Icncy R': 3,\n",
       " 'Siissi ': 3,\n",
       " 'Maerar ': 3,\n",
       " 'Alarke ': 3,\n",
       " 'Ocrda M': 3,\n",
       " 'Puestig': 3,\n",
       " 'Mangsr ': 3,\n",
       " 'DSureSi': 3,\n",
       " 'DSesthr': 3,\n",
       " 'ARnamru': 3,\n",
       " 'Suent V': 3,\n",
       " 'Puarero': 3,\n",
       " 'PuineSu': 3,\n",
       " 'Prs 2hi': 3,\n",
       " 'SNeur G': 3,\n",
       " 'DSineSt': 3,\n",
       " 'Ahownve': 3,\n",
       " 'Kolisl ': 3,\n",
       " 'Amsomun': 3,\n",
       " 'Kacesh ': 3,\n",
       " 'GKityde': 3,\n",
       " 'Edreelm': 3,\n",
       " 'Gollela': 3,\n",
       " 'Srure S': 3,\n",
       " 'Soinequ': 3,\n",
       " 'Goeur G': 3,\n",
       " 'Vaodspe': 3,\n",
       " 'Saacesa': 3,\n",
       " 'SLureSi': 3,\n",
       " 'Oznzaes': 2,\n",
       " 'SwionMa': 2,\n",
       " 'Alsta F': 2,\n",
       " 'Afncyad': 2,\n",
       " 'Gonoril': 2,\n",
       " 'SVovelm': 2,\n",
       " 'HiqueMa': 2,\n",
       " 'MSopsw ': 2,\n",
       " 'JaaldEm': 2,\n",
       " 'MSanaer': 2,\n",
       " 'Srnumum': 2,\n",
       " 'Reitice': 2,\n",
       " 'DiiteR ': 2,\n",
       " 'Evood S': 2,\n",
       " 'Srtusi ': 2,\n",
       " 'Niowshi': 2,\n",
       " 'HMityld': 2,\n",
       " 'Asity S': 2,\n",
       " 'SaaceSa': 2,\n",
       " 'Mazler ': 2,\n",
       " 'SoersTo': 2,\n",
       " 'ARvasV ': 2,\n",
       " 'Suntsan': 2,\n",
       " 'Ammesss': 2,\n",
       " 'Soncy R': 2,\n",
       " 'DwntsAp': 2,\n",
       " 'Prlis A': 2,\n",
       " 'Srdor S': 2,\n",
       " 'Puarent': 2,\n",
       " 'SraveSL': 2,\n",
       " 'VMowsea': 2,\n",
       " 'GModsNR': 2,\n",
       " 'Undraro': 2,\n",
       " 'Amlisai': 2,\n",
       " 'Myace P': 2,\n",
       " 'NRodsen': 2,\n",
       " 'Vailsaf': 2,\n",
       " 'SoageHe': 2,\n",
       " 'AkArkti': 2,\n",
       " 'Srods P': 2,\n",
       " 'MamelKa': 2,\n",
       " 'Essic C': 2,\n",
       " 'MSuntra': 2,\n",
       " 'DencyRe': 2,\n",
       " 'Esatea ': 2,\n",
       " 'Trurea ': 2,\n",
       " 'G ceses': 2,\n",
       " 'MVisear': 2,\n",
       " 'Shdhia ': 2,\n",
       " 'BainePr': 2,\n",
       " 'Asene S': 2,\n",
       " 'S2kaaan': 2,\n",
       " 'Ocavees': 2,\n",
       " 'Myhrie ': 2,\n",
       " 'GRvasth': 2,\n",
       " 'MJilayl': 2,\n",
       " 'AdingSV': 2,\n",
       " 'Akncyes': 2,\n",
       " 'SNtua S': 2,\n",
       " 'Hivesdr': 2,\n",
       " 'Grare S': 2,\n",
       " 'Supleon': 2,\n",
       " 'Vaensnd': 2,\n",
       " 'Guenoa ': 2,\n",
       " 'Veitaus': 2,\n",
       " 'Apentir': 2,\n",
       " '3Codeli': 2,\n",
       " 'Cerdsga': 2,\n",
       " 'SViseun': 2,\n",
       " 'Prhna S': 2,\n",
       " 'GoilsDa': 2,\n",
       " 'UKicte ': 2,\n",
       " 'Suitea ': 2,\n",
       " 'Vanusn ': 2,\n",
       " 'Nadhian': 2,\n",
       " 'Coa It ': 2,\n",
       " 'KSliaor': 2,\n",
       " 'Vacesi ': 2,\n",
       " 'Lecco C': 2,\n",
       " 'GSideS ': 2,\n",
       " 'Inaxyga': 2,\n",
       " 'Veisear': 2,\n",
       " 'Prmesi ': 2,\n",
       " 'Aseenh ': 2,\n",
       " 'Srtasno': 2,\n",
       " 'Chhamku': 2,\n",
       " 'Mailsaf': 2,\n",
       " 'DSutyng': 2,\n",
       " 'RKntsrt': 2,\n",
       " 'Chpana ': 2,\n",
       " 'Vantspa': 2,\n",
       " 'AmiewLa': 2,\n",
       " 'Prowsi ': 2,\n",
       " 'Leora D': 2,\n",
       " 'BKideor': 2,\n",
       " 'Javasi ': 2,\n",
       " 'Vrensn ': 2,\n",
       " 'DSeme S': 2,\n",
       " 'SSoraba': 2,\n",
       " 'Rilor C': 2,\n",
       " 'MavarSa': 2,\n",
       " 'SKterAs': 2,\n",
       " 'Gundaa ': 2,\n",
       " 'Diaveic': 2,\n",
       " 'Gopia O': 2,\n",
       " 'Shinei ': 2,\n",
       " 'SVineun': 2,\n",
       " 'Rauil T': 2,\n",
       " 'OlarkLa': 2,\n",
       " 'Prentra': 2,\n",
       " 'SagasSa': 2,\n",
       " 'Ranuetz': 2,\n",
       " 'VSlistr': 2,\n",
       " 'Karchru': 2,\n",
       " 'Mameser': 2,\n",
       " 'Srncyla': 2,\n",
       " 'Masser ': 2,\n",
       " 'Pathira': 2,\n",
       " 'Reeroce': 2,\n",
       " 'Maest N': 2,\n",
       " 'Adstah ': 2,\n",
       " 'ShaleSp': 2,\n",
       " 'Aroveth': 2,\n",
       " 'Chtert ': 2,\n",
       " 'Guranya': 2,\n",
       " 'Prook M': 2,\n",
       " 'SJlynro': 2,\n",
       " 'MBncele': 2,\n",
       " 'Inion P': 2,\n",
       " 'Sririth': 2,\n",
       " 'Srconor': 2,\n",
       " 'Maorai ': 2,\n",
       " 'Derdsig': 2,\n",
       " 'TiaksAa': 2,\n",
       " 'Pudgear': 2,\n",
       " 'PuontFa': 2,\n",
       " 'Srayatr': 2,\n",
       " 'ShyamSh': 2,\n",
       " 'Dehts H': 2,\n",
       " 'MIntare': 2,\n",
       " 'Dwity T': 2,\n",
       " 'ArrdsOr': 2,\n",
       " 'Music C': 2,\n",
       " 'Eltert ': 2,\n",
       " 'Cadel C': 2,\n",
       " 'Vabow R': 2,\n",
       " 'Itbhaa ': 2,\n",
       " 'Sriseva': 2,\n",
       " 'Vastael': 2,\n",
       " 'Deens G': 2,\n",
       " 'RaontWa': 2,\n",
       " 'Gincyi ': 2,\n",
       " 'Soini T': 2,\n",
       " 'Vaw 1il': 2,\n",
       " 'Soubya ': 2,\n",
       " 'Bhacy L': 2,\n",
       " 'Vidgema': 2,\n",
       " 'Revane ': 2,\n",
       " 'Bhave E': 2,\n",
       " 'Srvasi ': 2,\n",
       " 'Axdam V': 2,\n",
       " 'Viium E': 2,\n",
       " 'Naandit': 2,\n",
       " 'Shncyes': 2,\n",
       " 'Suhamra': 2,\n",
       " 'Isncasa': 2,\n",
       " 'Duals P': 2,\n",
       " 'SVlesas': 2,\n",
       " 'NRniad ': 2,\n",
       " 'SSaleRo': 2,\n",
       " 'Grmes L': 2,\n",
       " 'Srncya ': 2,\n",
       " 'TrryaAi': 2,\n",
       " 'SearkHy': 2,\n",
       " 'Niacesa': 2,\n",
       " 'Papusa ': 2,\n",
       " 'HioraTr': 2,\n",
       " 'Vaodssh': 2,\n",
       " 'Chranya': 2,\n",
       " 'Patust ': 2,\n",
       " 'DStra S': 2,\n",
       " 'Shnto F': 2,\n",
       " 'V2avei ': 2,\n",
       " 'Tiare S': 2,\n",
       " 'SuanaNa': 2,\n",
       " 'Ste 2al': 2,\n",
       " 'Paentta': 2,\n",
       " 'Baentgi': 2,\n",
       " 'Thiced ': 2,\n",
       " 'KMnorab': 2,\n",
       " 'Chtali ': 2,\n",
       " 'Priewhi': 2,\n",
       " 'SMikaay': 2,\n",
       " 'Nileyap': 2,\n",
       " 'Vestas ': 2,\n",
       " 'Prleaou': 2,\n",
       " 'PrdgeLa': 2,\n",
       " 'Arzzo P': 2,\n",
       " 'Coush W': 2,\n",
       " 'Maoma P': 2,\n",
       " 'EsadeNS': 2,\n",
       " 'Jahtsa ': 2,\n",
       " 'Visom B': 2,\n",
       " 'Inntsa ': 2,\n",
       " 'Bisic C': 2,\n",
       " 'CoapeSo': 2,\n",
       " 'TuiteIn': 2,\n",
       " 'Jaangm ': 2,\n",
       " 'Sulesil': 2,\n",
       " 'AdlasRe': 2,\n",
       " 'Adity T': 2,\n",
       " 'Krton S': 2,\n",
       " 'Miwel M': 2,\n",
       " 'PrhyaK ': 2,\n",
       " 'Haows M': 2,\n",
       " 'Vaaldak': 2,\n",
       " 'PuamaPa': 2,\n",
       " 'Sungspr': 2,\n",
       " 'K borja': 2,\n",
       " 'Naireru': 2,\n",
       " 'Sravema': 2,\n",
       " 'SruntFa': 2,\n",
       " 'Ihnueut': 2,\n",
       " 'Malmser': 2,\n",
       " 'CidgeKn': 2,\n",
       " 'Vaurtar': 2,\n",
       " 'KSideas': 2,\n",
       " 'Kinuerg': 2,\n",
       " 'Prdhue ': 2,\n",
       " 'Radenta': 2,\n",
       " 'Aduil T': 2,\n",
       " 'Mahla T': 2,\n",
       " 'BhreeBa': 2,\n",
       " 'Valdsic': 2,\n",
       " 'VRave E': 2,\n",
       " 'Kencyes': 2,\n",
       " 'IBaveen': 2,\n",
       " 'Soarkge': 2,\n",
       " 'Srers T': 2,\n",
       " 'SLiritn': 2,\n",
       " 'Vahid O': 2,\n",
       " 'Mahtsba': 2,\n",
       " 'Sie 2is': 2,\n",
       " 'Naods W': 2,\n",
       " 'SVodsve': 2,\n",
       " 'MYncysi': 2,\n",
       " 'MaeamSu': 2,\n",
       " 'Shont F': 2,\n",
       " 'Daganva': 2,\n",
       " 'Soosea ': 2,\n",
       " 'Mania G': 2,\n",
       " 'Zonce E': 2,\n",
       " 'Amarere': 2,\n",
       " 'Laowsba': 2,\n",
       " 'MacleK ': 2,\n",
       " 'Prndsde': 2,\n",
       " 'Raeusiy': 2,\n",
       " 'Puide P': 2,\n",
       " 'Preaunt': 2,\n",
       " 'MadorSp': 2,\n",
       " 'SoncyRe': 2,\n",
       " 'Omy 2es': 2,\n",
       " 'RahtsHe': 2,\n",
       " 'Frowsru': 2,\n",
       " 'SLontel': 2,\n",
       " 'MyhtsHe': 2,\n",
       " 'Uncioe ': 2,\n",
       " 'StwarSi': 2,\n",
       " 'N iewak': 2,\n",
       " 'DubowRa': 2,\n",
       " 'Abeesmi': 2,\n",
       " 'NCdgerj': 2,\n",
       " 'Bamita ': 2,\n",
       " 'SMncyy ': 2,\n",
       " 'KrineAq': 2,\n",
       " 'Paurt C': 2,\n",
       " 'Saowson': 2,\n",
       " 'VincyRe': 2,\n",
       " 'Puitea ': 2,\n",
       " 'SoniaPe': 2,\n",
       " 'SSaveik': 2,\n",
       " 'Bhensa ': 2,\n",
       " 'BhncyRe': 2,\n",
       " 'DSapeto': 2,\n",
       " 'LGlarAs': 2,\n",
       " 'Adity S': 2,\n",
       " 'AkncyRe': 2,\n",
       " 'Concyvi': 2,\n",
       " 'Rintspa': 2,\n",
       " 'Nauha G': 2,\n",
       " 'Vadidpl': 2,\n",
       " 'KencyRe': 2,\n",
       " 'Opamaan': 2,\n",
       " 'Viaree ': 2,\n",
       " 'Hiows C': 2,\n",
       " 'Putus L': 2,\n",
       " 'Saace P': 2,\n",
       " 'PrstaLa': 2,\n",
       " 'LendaVi': 2,\n",
       " 'InllaPa': 2,\n",
       " 'Prodsm ': 2,\n",
       " 'AnaveEn': 2,\n",
       " 'Leino C': 2,\n",
       " 'AkonyHa': 2,\n",
       " 'Elentrk': 2,\n",
       " 'ItRRVna': 2,\n",
       " 'LencyRe': 2,\n",
       " 'Ratlet ': 2,\n",
       " 'Aaityi ': 2,\n",
       " 'NChtsun': 2,\n",
       " 'EsniaGa': 2,\n",
       " 'Veodsar': 2,\n",
       " 'VHinoel': 2,\n",
       " 'SVnamnd': 2,\n",
       " 'SMshi M': 2,\n",
       " 'BMityre': 2,\n",
       " 'Prdowth': 2,\n",
       " 'Meowns ': 2,\n",
       " ...}"
      ]
     },
     "execution_count": 15,
     "metadata": {},
     "output_type": "execute_result"
    }
   ],
   "source": [
    "df[\"society\"].value_counts().to_dict()"
   ]
  },
  {
   "cell_type": "markdown",
   "id": "6b4181ce",
   "metadata": {},
   "source": [
    "## 5.total_sqft"
   ]
  },
  {
   "cell_type": "code",
   "execution_count": 16,
   "id": "5c1f4f0d",
   "metadata": {},
   "outputs": [
    {
     "data": {
      "text/plain": [
       "0"
      ]
     },
     "execution_count": 16,
     "metadata": {},
     "output_type": "execute_result"
    }
   ],
   "source": [
    "df[\"total_sqft\"].isna().sum()"
   ]
  },
  {
   "cell_type": "code",
   "execution_count": 17,
   "id": "552c9331",
   "metadata": {},
   "outputs": [
    {
     "data": {
      "text/plain": [
       "array(['1056', '2600', '1440', ..., '1133 - 1384', '774', '4689'],\n",
       "      dtype=object)"
      ]
     },
     "execution_count": 17,
     "metadata": {},
     "output_type": "execute_result"
    }
   ],
   "source": [
    "df[\"total_sqft\"].unique()"
   ]
  },
  {
   "cell_type": "code",
   "execution_count": 18,
   "id": "3b6c913b",
   "metadata": {},
   "outputs": [
    {
     "data": {
      "text/plain": [
       "{1: 914,\n",
       " 2: 311,\n",
       " 3: 200,\n",
       " 4: 139,\n",
       " 5: 94,\n",
       " 6: 83,\n",
       " 7: 46,\n",
       " 9: 35,\n",
       " 8: 35,\n",
       " 10: 22,\n",
       " 13: 18,\n",
       " 12: 16,\n",
       " 11: 15,\n",
       " 18: 14,\n",
       " 16: 14,\n",
       " 15: 13,\n",
       " 21: 12,\n",
       " 14: 8,\n",
       " 19: 7,\n",
       " 25: 6,\n",
       " 20: 6,\n",
       " 17: 6,\n",
       " 31: 5,\n",
       " 23: 5,\n",
       " 27: 4,\n",
       " 24: 4,\n",
       " 29: 4,\n",
       " 28: 4,\n",
       " 32: 4,\n",
       " 33: 3,\n",
       " 22: 3,\n",
       " 37: 3,\n",
       " 46: 3,\n",
       " 60: 3,\n",
       " 30: 3,\n",
       " 40: 3,\n",
       " 48: 3,\n",
       " 35: 2,\n",
       " 36: 2,\n",
       " 66: 2,\n",
       " 38: 2,\n",
       " 41: 2,\n",
       " 45: 2,\n",
       " 52: 2,\n",
       " 55: 2,\n",
       " 58: 2,\n",
       " 101: 2,\n",
       " 843: 1,\n",
       " 34: 1,\n",
       " 221: 1,\n",
       " 205: 1,\n",
       " 196: 1,\n",
       " 180: 1,\n",
       " 172: 1,\n",
       " 133: 1,\n",
       " 123: 1,\n",
       " 117: 1,\n",
       " 114: 1,\n",
       " 112: 1,\n",
       " 108: 1,\n",
       " 104: 1,\n",
       " 91: 1,\n",
       " 83: 1,\n",
       " 70: 1,\n",
       " 69: 1,\n",
       " 67: 1,\n",
       " 63: 1,\n",
       " 62: 1,\n",
       " 59: 1,\n",
       " 57: 1,\n",
       " 56: 1,\n",
       " 53: 1,\n",
       " 44: 1,\n",
       " 43: 1,\n",
       " 42: 1,\n",
       " 39: 1}"
      ]
     },
     "execution_count": 18,
     "metadata": {},
     "output_type": "execute_result"
    }
   ],
   "source": [
    "df[\"total_sqft\"].value_counts().value_counts().to_dict()"
   ]
  },
  {
   "cell_type": "markdown",
   "id": "4c06cdbf",
   "metadata": {},
   "source": [
    "## 6 bath"
   ]
  },
  {
   "cell_type": "code",
   "execution_count": 19,
   "id": "c34f1d96",
   "metadata": {},
   "outputs": [
    {
     "data": {
      "text/plain": [
       "73"
      ]
     },
     "execution_count": 19,
     "metadata": {},
     "output_type": "execute_result"
    }
   ],
   "source": [
    "df[\"bath\"].isna().sum()"
   ]
  },
  {
   "cell_type": "code",
   "execution_count": 20,
   "id": "e00832d5",
   "metadata": {},
   "outputs": [
    {
     "data": {
      "text/plain": [
       "array([ 2.,  5.,  3.,  4.,  6.,  1.,  9., nan,  8.,  7., 11., 10., 14.,\n",
       "       27., 12., 16., 40., 15., 13., 18.])"
      ]
     },
     "execution_count": 20,
     "metadata": {},
     "output_type": "execute_result"
    }
   ],
   "source": [
    "df[\"bath\"].unique()"
   ]
  },
  {
   "cell_type": "markdown",
   "id": "0488bdb5",
   "metadata": {},
   "source": [
    "## 7.balcony"
   ]
  },
  {
   "cell_type": "code",
   "execution_count": 21,
   "id": "65aeba68",
   "metadata": {},
   "outputs": [
    {
     "data": {
      "text/plain": [
       "609"
      ]
     },
     "execution_count": 21,
     "metadata": {},
     "output_type": "execute_result"
    }
   ],
   "source": [
    "df[\"balcony\"].isna().sum()"
   ]
  },
  {
   "cell_type": "code",
   "execution_count": 22,
   "id": "bc2b01cd",
   "metadata": {},
   "outputs": [
    {
     "data": {
      "text/plain": [
       "array([ 1.,  3., nan,  2.,  0.])"
      ]
     },
     "execution_count": 22,
     "metadata": {},
     "output_type": "execute_result"
    }
   ],
   "source": [
    "df[\"balcony\"].unique()"
   ]
  },
  {
   "cell_type": "code",
   "execution_count": 23,
   "id": "821fd984",
   "metadata": {},
   "outputs": [
    {
     "data": {
      "text/plain": [
       "{2.0: 5113, 1.0: 4897, 3.0: 1672, 0.0: 1029}"
      ]
     },
     "execution_count": 23,
     "metadata": {},
     "output_type": "execute_result"
    }
   ],
   "source": [
    "df[\"balcony\"].value_counts().to_dict()"
   ]
  },
  {
   "cell_type": "markdown",
   "id": "288d4f50",
   "metadata": {},
   "source": [
    "## 8.site_location"
   ]
  },
  {
   "cell_type": "code",
   "execution_count": 24,
   "id": "b3b8f49b",
   "metadata": {},
   "outputs": [
    {
     "data": {
      "text/plain": [
       "array(['Alandi Road', 'Ambegaon Budruk', 'Anandnagar', 'Aundh',\n",
       "       'Aundh Road', 'Balaji Nagar', 'Baner', 'Baner road',\n",
       "       'Bhandarkar Road', 'Bhavani Peth', 'Bibvewadi', 'Bopodi',\n",
       "       'Budhwar Peth', 'Bund Garden Road', 'Camp', 'Chandan Nagar',\n",
       "       'Dapodi', 'Deccan Gymkhana', 'Dehu Road', 'Dhankawadi',\n",
       "       'Dhayari Phata', 'Dhole Patil Road', 'Erandwane', 'Fatima Nagar',\n",
       "       'Fergusson College Road', 'Ganesh Peth', 'Ganeshkhind',\n",
       "       'Ghorpade Peth', 'other', 'Gokhale Nagar', 'Gultekdi',\n",
       "       'Guruwar peth', 'Hadapsar', 'Hadapsar Industrial Estate',\n",
       "       'Hingne Khurd', 'Jangali Maharaj Road', 'Kalyani Nagar',\n",
       "       'Karve Nagar', 'Karve Road', 'Kasba Peth', 'Katraj', 'Khadaki',\n",
       "       'Khadki', 'Kharadi', 'Kondhwa', 'Kondhwa Budruk', 'Kondhwa Khurd',\n",
       "       'Koregaon Park', 'Kothrud', 'Law College Road', 'Laxmi Road',\n",
       "       'Lulla Nagar', 'Mahatma Gandhi Road', 'Mangalwar peth',\n",
       "       'Manik Bagh', 'Market yard', 'Model colony', 'Mukund Nagar',\n",
       "       'Mundhawa', 'Nagar Road', 'Nana Peth', 'Narayan Peth',\n",
       "       'Narayangaon', 'Navi Peth', 'Padmavati', 'Parvati Darshan',\n",
       "       'Pashan', 'Paud Road', 'Pirangut', 'Prabhat Road',\n",
       "       'Pune Railway Station', 'Rasta Peth', 'Raviwar Peth',\n",
       "       'Sadashiv Peth', 'Sahakar Nagar', 'Salunke Vihar', 'Sasson Road',\n",
       "       'Satara Road', 'Senapati Bapat Road', 'Shaniwar Peth',\n",
       "       'Shivaji Nagar', 'Shukrawar Peth', 'Sinhagad Road', 'Somwar Peth',\n",
       "       'Swargate', 'Tilak Road', 'Uruli Devachi', 'Vadgaon Budruk',\n",
       "       'Wadgaon Sheri', 'Viman Nagar', 'Vishrant Wadi', 'Wagholi',\n",
       "       'Wakadewadi', 'Wanowrie', 'Warje', 'Yerawada', 'Ghorpadi', nan],\n",
       "      dtype=object)"
      ]
     },
     "execution_count": 24,
     "metadata": {},
     "output_type": "execute_result"
    }
   ],
   "source": [
    "df[\"site_location\"].unique()"
   ]
  },
  {
   "cell_type": "code",
   "execution_count": 25,
   "id": "96294a15",
   "metadata": {},
   "outputs": [
    {
     "data": {
      "text/plain": [
       "1"
      ]
     },
     "execution_count": 25,
     "metadata": {},
     "output_type": "execute_result"
    }
   ],
   "source": [
    "df[\"site_location\"].isna().sum()"
   ]
  },
  {
   "cell_type": "markdown",
   "id": "c0ecc043",
   "metadata": {},
   "source": [
    "## 9 price(target column)"
   ]
  },
  {
   "cell_type": "code",
   "execution_count": 26,
   "id": "1d9372d2",
   "metadata": {},
   "outputs": [
    {
     "data": {
      "text/plain": [
       "0"
      ]
     },
     "execution_count": 26,
     "metadata": {},
     "output_type": "execute_result"
    }
   ],
   "source": [
    "df[\"price\"].isna().sum()"
   ]
  },
  {
   "cell_type": "markdown",
   "id": "66fa7526",
   "metadata": {},
   "source": [
    "# Outlier detection"
   ]
  },
  {
   "cell_type": "code",
   "execution_count": 27,
   "id": "a688581f",
   "metadata": {},
   "outputs": [
    {
     "data": {
      "text/plain": [
       "<AxesSubplot:>"
      ]
     },
     "execution_count": 27,
     "metadata": {},
     "output_type": "execute_result"
    },
    {
     "data": {
      "image/png": "[encoded data removed]",
      "text/plain": [
       "<Figure size 640x480 with 1 Axes>"
      ]
     },
     "metadata": {},
     "output_type": "display_data"
    }
   ],
   "source": [
    "df.boxplot()"
   ]
  },
  {
   "cell_type": "markdown",
   "id": "810a9f07",
   "metadata": {},
   "source": [
    "# 4 Feature Engineering"
   ]
  },
  {
   "cell_type": "code",
   "execution_count": 28,
   "id": "248b4daa",
   "metadata": {},
   "outputs": [
    {
     "name": "stdout",
     "output_type": "stream",
     "text": [
      "<class 'pandas.core.frame.DataFrame'>\n",
      "RangeIndex: 13320 entries, 0 to 13319\n",
      "Data columns (total 9 columns):\n",
      " #   Column         Non-Null Count  Dtype  \n",
      "---  ------         --------------  -----  \n",
      " 0   area_type      13320 non-null  object \n",
      " 1   availability   13320 non-null  object \n",
      " 2   size           13304 non-null  object \n",
      " 3   society        7818 non-null   object \n",
      " 4   total_sqft     13320 non-null  object \n",
      " 5   bath           13247 non-null  float64\n",
      " 6   balcony        12711 non-null  float64\n",
      " 7   price          13320 non-null  float64\n",
      " 8   site_location  13319 non-null  object \n",
      "dtypes: float64(3), object(6)\n",
      "memory usage: 936.7+ KB\n"
     ]
    }
   ],
   "source": [
    "df.info()"
   ]
  },
  {
   "cell_type": "markdown",
   "id": "ff3e63e9",
   "metadata": {},
   "source": [
    "## Imputation of Missing Values"
   ]
  },
  {
   "cell_type": "markdown",
   "id": "f06fc43b",
   "metadata": {},
   "source": [
    "## size"
   ]
  },
  {
   "cell_type": "code",
   "execution_count": 29,
   "id": "fd6704f7",
   "metadata": {},
   "outputs": [],
   "source": [
    "df[\"size\"].fillna(df[\"size\"].mode()[0],inplace=True)"
   ]
  },
  {
   "cell_type": "code",
   "execution_count": 30,
   "id": "62a49b4e",
   "metadata": {},
   "outputs": [
    {
     "data": {
      "text/plain": [
       "0"
      ]
     },
     "execution_count": 30,
     "metadata": {},
     "output_type": "execute_result"
    }
   ],
   "source": [
    "df[\"size\"].isna().sum()"
   ]
  },
  {
   "cell_type": "markdown",
   "id": "4eeab0d1",
   "metadata": {},
   "source": [
    "## total_sqft"
   ]
  },
  {
   "cell_type": "code",
   "execution_count": 31,
   "id": "1689d74f",
   "metadata": {},
   "outputs": [],
   "source": [
    "df[\"total_sqft\"].replace({'34.46Sq. Meter':370.92,\n",
    "                          '4125Perch':1123031.25,\n",
    "                          '1000Sq. Meter':10763.9,\n",
    "                          '1100Sq. Yards':9900,\n",
    "                         '5.31Acres':231303.6,\n",
    "                         '30Acres':np.nan,\n",
    "                         '716Sq. Meter':7706.96,\n",
    "                          '547.34 - 827.31':687.325,\n",
    "                         '1500Sq. Meter':16145.87,\n",
    "                         '142.61Sq. Meter':1535.04126,\n",
    "                         '1574Sq. Yards':14166,\n",
    "                         '1005.03 - 1252.49':1128.76,\n",
    "                         '361.33Sq. Yards':3251.97,\n",
    "                         '2249.81 - 4112.19':3181.0,\n",
    "                         '117Sq. Yards':1053,\n",
    "                         '3040Sq. Meter':32722.29,\n",
    "                         '500Sq. Yards':4500,\n",
    "                         '167Sq. Meter':1797.57,\n",
    "                         '315Sq. Yards':2835,\n",
    "                         '3Cents':1306.68,\n",
    "                         '188.89Sq. Yards':1700.01,\n",
    "                         '204Sq. Meter':2195.84,\n",
    "                         '45Sq. Yards':405,\n",
    "                         '133.3Sq. Yards':1199.7,\n",
    "                         '78.03Sq. Meter':839.90793,\n",
    "                         '122Sq. Yards':1098,\n",
    "                         '84.53Sq. Meter':909.87335,\n",
    "                         '2.09Acres':91040.4,\n",
    "                         '24Guntha':24000,\n",
    "                         '697Sq. Meter':7502.45,\n",
    "                         '1500Cents':653400,\n",
    "                         '132Sq. Yards':1188,\n",
    "                         '2Acres':87120,\n",
    "                         '1100Sq. Meter':11840.3,\n",
    "                         '15Acres':653400,\n",
    "                         '1.26Acres':54885.6,\n",
    "                         '151.11Sq. Yards':1359.99,\n",
    "                         '1Grounds':2400.35,\n",
    "                         '2940Sq. Yards':26460,\n",
    "                         '45.06Sq. Meter':485.0218,\n",
    "                         '1.25Acres':54450,\n",
    "                         '86.72Sq. Meter':933.44631,\n",
    "                         '38Guntha':38000,\n",
    "                         '6Acres':261360,\n",
    "                         '120Sq. Yards':1080,\n",
    "                         '24Sq. Meter':258.334,\n",
    "                         '142.84Sq. Meter':1537.51696,\n",
    "                         '300Sq. Yards':2700,\n",
    "                         '2100 - 2850':2475.0,\n",
    "                         '3010 - 3410':3210.0,\n",
    "                         '2957 - 3450':3203.5,\n",
    "                         '3067 - 8156':5611.5,\n",
    "                         '1042 - 1105':1073.5,\n",
    "                         '1145 - 1340':1242.5,\n",
    "                         '1015 - 1540':1277.5,\n",
    "                         '1520 - 1740':1630.0,\n",
    "                         '1195 - 1440':1317.5,\n",
    "                         '1200 - 2400':1800,\n",
    "                         '1120 - 1145':1120,\n",
    "                         '4400 - 6640':5520,\n",
    "                         '3090 - 5002':4046.0,\n",
    "                         '4400 - 6800':5600,\n",
    "                         '1160 - 1195':1172.5,\n",
    "                         '4000 - 5249':4624.5,\n",
    "                         '1115 - 1130':1122.5,\n",
    "                         '520 - 645':580,\n",
    "                         '1000 - 1285':1142.5,\n",
    "                         '3606 - 5091':4348.5,\n",
    "                         '650 - 665':657.5,\n",
    "                         '633 - 666':645,\n",
    "                         '1445 - 1455':1450,\n",
    "                         '884 - 1116':1000,\n",
    "                         '850 - 1093':971.5,\n",
    "                         '1440 - 1884':1662,\n",
    "                         '580 - 650':615.0,\n",
    "                         '3425 - 3435':3430,\n",
    "                         '1804 - 2273':2036.5,\n",
    "                         '3630 - 3800':3685,\n",
    "                         '660 - 670':665,\n",
    "                         '620 - 933':726.5,\n",
    "                         '2695 - 2940':2820,\n",
    "                         '2000 - 5634':3817,\n",
    "                         '3450 - 3472':3461,\n",
    "                         '1250 - 1305':1277,\n",
    "                         '670 - 980':720,\n",
    "                         '1004 - 1204':1100,\n",
    "                         '645 - 936':750,\n",
    "                         '2710 - 3360':3035,\n",
    "                         '3436 - 3643':3500,\n",
    "                         '2830 - 2882':2856,\n",
    "                         '596 - 804':700,\n",
    "                         '1255 - 1863':1559,\n",
    "                         '1300 - 1405':1352.5,\n",
    "                         '1500 - 2400':1950,\n",
    "                         '934 - 1437':1184,\n",
    "                         '980 - 1030':1005,\n",
    "                         '1564 - 1850':1707,\n",
    "                         '1446 - 1506':1476,\n",
    "                         '1070 - 1315':1192.5,\n",
    "                         '2806 - 3019':2913,\n",
    "                         '613 - 648':630,\n",
    "                         '1430 - 1630':1530,\n",
    "                         '704 - 730':717,\n",
    "                         '1482 - 1846':1664,\n",
    "                         '2805 - 3565':3185,\n",
    "                         '3293 - 5314':4303.5,\n",
    "                         '1210 - 1477':1340,\n",
    "                         '3369 - 3464':3375,\n",
    "                         '1125 - 1500':1300,\n",
    "                         '1076 - 1199':1150,\n",
    "                         '381 - 535':458,\n",
    "                          '2215 - 2475':2300,\n",
    "                          '524 - 894':700,\n",
    "                          '540 - 670':605,\n",
    "                          '1650 - 2538':2094.0, \n",
    "                          '2725 - 3250':2987.5, \n",
    "                          '1974 - 2171':2074,\n",
    "                           '888 - 1290':1087, \n",
    "                          '1360 - 1890':1525,\n",
    "                          '2466 - 2856':2661, \n",
    "                          '660 - 700':680,\n",
    "                           '385 - 440':410, \n",
    "                          '2100 - 5405':3752.5, \n",
    "                          '770 - 841':805,\n",
    "                          '1310 - 1615':1460,\n",
    "                           '1782 - 2000':1900,\n",
    "                          '1469 - 1766':1620, \n",
    "                          '1255 - 1350':1402.5,\n",
    "                          '870 - 1080':975,\n",
    "                           '2580 - 2591':2585.5,\n",
    "                          '2563 - 2733':2673,\n",
    "                          '605 - 624':615,\n",
    "                          '4260 - 4408':4335,\n",
    "                           '1349 - 3324':2336.5, \n",
    "                          '3300 - 3335':3317.5, \n",
    "                          '1180 - 1630':1405,\n",
    "                           '1365 - 1700':1532.5,\n",
    "                          '3500 - 3600':3550,\n",
    "                          '1482 - 1684':1583,\n",
    "                           '981 - 1249':1115,\n",
    "                          '1100 - 1225':1162.5,\n",
    "                          '1565 - 1595':1580,\n",
    "                          '1270 - 1275':1272.5,\n",
    "                           '840 - 1010':925, \n",
    "                          '655 - 742':700, \n",
    "                          '800 - 2660':1730,\n",
    "                          '1408 - 1455':1430,\n",
    "                           '4050 - 4075':4062.5, \n",
    "                          '942 - 1117':1029.5, \n",
    "                          '1750 - 2640':2195.0,\n",
    "                          '1390 - 1600':1495,\n",
    "                           '598 - 958':778.0, \n",
    "                          '1010 - 1300':1160,\n",
    "                          '3103 - 3890':3500,\n",
    "                          '1450 - 1950':1700,\n",
    "                           '1450 - 1595':1525,\n",
    "                          '763 - 805':780, \n",
    "                          '3307 - 3464':3382, \n",
    "                          '620 - 934':777,\n",
    "                           '2462 - 2467':2464.5, \n",
    "                          '540 - 740':640.0,\n",
    "                          '1618 - 1929':1773.5, \n",
    "                          '3508 - 4201':3854.5,\n",
    "                           '4900 - 4940':4920,\n",
    "                          '1610 - 1880':1745.0,\n",
    "                          '755 - 770':762.5,\n",
    "                          '664 - 722':693.0,\n",
    "                           '700 - 900':800, \n",
    "                          '596 - 861':630, \n",
    "                          '1925 - 2680':2302.5, \n",
    "                          '615 - 985':800, \n",
    "                          '540 - 565':552.5,\n",
    "                           '750 - 800':775,\n",
    "                          '1660 - 1805':1785,\n",
    "                          '1410 - 1710':1560, \n",
    "                          '1079 - 1183':1130,\n",
    "                           '2800 - 2870':2835, \n",
    "                          '1230 - 1290':1260, \n",
    "                          '943 - 1220':1070, \n",
    "                          '2041 - 2090':2065,\n",
    "                           '527 - 639':590, \n",
    "                          '1160 - 1315':1240,\n",
    "                          '706 - 716':711, \n",
    "                          '1791 - 4000':2891,\n",
    "                           '799 - 803':801, \n",
    "                          '2470 - 2790':2630, \n",
    "                          '783 - 943':863.0,\n",
    "                          '4500 - 5540':5020,\n",
    "                           '1255 - 1375':1315.5, \n",
    "                          '610 - 615':610,\n",
    "                          '854 - 960':910, \n",
    "                          '2650 - 2990':2820.0,\n",
    "                           '1230 - 1490':1360.0,\n",
    "                          '660 - 780':720.0,\n",
    "                          '1150 - 1194':1172, \n",
    "                          '684 - 810':747.0,\n",
    "                           '1200 - 1800':1500, \n",
    "                          '1510 - 1670':1590, \n",
    "                          '1550 - 1590':1570, \n",
    "                          '1235 - 1410':1235 - 1410,\n",
    "                           '3484 - 3550':3517.0, \n",
    "                          '929 - 1078':1003.5, \n",
    "                          '2150 - 2225':2187.5, \n",
    "                          '1520 - 1759':1639.5,\n",
    "                           '629 - 1026':827.5, \n",
    "                          '1215 - 1495':1355.0, \n",
    "                          '1140 - 1250':1195.0, \n",
    "                          '2400 - 2600':2500,\n",
    "                           '1052 - 1322':1187.0,\n",
    "                          '5666 - 5669':5666, \n",
    "                          '712 - 938':825.0,\n",
    "                          '1783 - 1878':1830.5,\n",
    "                           '2528 - 3188':2858.0,\n",
    "                          '650 - 760':705.0,\n",
    "                          '1400 - 1421':1410.5,\n",
    "                          '4000 - 4450':4225.0,\n",
    "                          '2204 - 2362':2283.0, \n",
    "                          '1437 - 1629':1533.0, \n",
    "                          '850 - 1060':955.0,\n",
    "                           '1200 - 1470':1335.0, \n",
    "                          '1020 - 1130':1125,\n",
    "                          '1133 - 1384':1258.5   \n",
    "                         },inplace=True)\n",
    "\n",
    "df[\"total_sqft\"] = df[\"total_sqft\"].astype(float)\n"
   ]
  },
  {
   "cell_type": "markdown",
   "id": "99490d32",
   "metadata": {},
   "source": [
    "## Bath"
   ]
  },
  {
   "cell_type": "code",
   "execution_count": 32,
   "id": "112c7451",
   "metadata": {},
   "outputs": [],
   "source": [
    "df[\"bath\"].fillna(df[\"bath\"].median(),inplace=True)"
   ]
  },
  {
   "cell_type": "code",
   "execution_count": 33,
   "id": "961f0129",
   "metadata": {},
   "outputs": [
    {
     "data": {
      "text/plain": [
       "0"
      ]
     },
     "execution_count": 33,
     "metadata": {},
     "output_type": "execute_result"
    }
   ],
   "source": [
    "df[\"bath\"].isna().sum()"
   ]
  },
  {
   "cell_type": "markdown",
   "id": "007fdbce",
   "metadata": {},
   "source": [
    "## balcony"
   ]
  },
  {
   "cell_type": "code",
   "execution_count": 34,
   "id": "86c00ad2",
   "metadata": {},
   "outputs": [],
   "source": [
    "df[\"balcony\"].fillna(df['balcony'].mean(),inplace=True)"
   ]
  },
  {
   "cell_type": "code",
   "execution_count": 35,
   "id": "d452523c",
   "metadata": {},
   "outputs": [
    {
     "data": {
      "text/plain": [
       "0"
      ]
     },
     "execution_count": 35,
     "metadata": {},
     "output_type": "execute_result"
    }
   ],
   "source": [
    "df[\"balcony\"].isna().sum()"
   ]
  },
  {
   "cell_type": "markdown",
   "id": "719ba778",
   "metadata": {},
   "source": [
    "## site_location"
   ]
  },
  {
   "cell_type": "code",
   "execution_count": 36,
   "id": "1099f4e4",
   "metadata": {},
   "outputs": [],
   "source": [
    "df[\"site_location\"].fillna(df[\"site_location\"].mode()[0],inplace=True)"
   ]
  },
  {
   "cell_type": "code",
   "execution_count": 37,
   "id": "612bdcbb",
   "metadata": {},
   "outputs": [
    {
     "data": {
      "text/plain": [
       "0"
      ]
     },
     "execution_count": 37,
     "metadata": {},
     "output_type": "execute_result"
    }
   ],
   "source": [
    "df['site_location'].isna().sum()"
   ]
  },
  {
   "cell_type": "markdown",
   "id": "a56185cf",
   "metadata": {},
   "source": [
    "## Converting categorical column into numeric one"
   ]
  },
  {
   "cell_type": "code",
   "execution_count": 38,
   "id": "159881a2",
   "metadata": {},
   "outputs": [],
   "source": [
    "df[\"availability\"].replace(\"Immediate Possession\",np.nan,inplace=True)"
   ]
  },
  {
   "cell_type": "code",
   "execution_count": 39,
   "id": "fe2867e7",
   "metadata": {},
   "outputs": [
    {
     "data": {
      "text/plain": [
       "Index(['18-Dec', '18-May', '18-Apr', '18-Aug', '19-Dec', '18-Jul', '18-Mar',\n",
       "       '18-Jun', '20-Dec', '21-Dec', '19-Mar', '18-Feb', '18-Nov', '18-Jan',\n",
       "       '18-Sep', '19-Jun', '18-Oct', '19-Jan', '19-Jul', '17-Dec', '20-Jan',\n",
       "       '17-Oct', '19-Sep', '22-Jun', '19-Aug', '21-Jun', '19-Apr', '20-Aug',\n",
       "       '19-Oct', '21-Mar', '17-Jun', '21-May', '17-Jul', '17-Nov', '21-Jan',\n",
       "       '20-Jun', '17-Sep', '22-Dec', '22-May', '17-Aug', '19-May', '21-Jul',\n",
       "       '17-May', '19-Nov', '17-Apr', '20-Oct', '21-Feb', '21-Oct', '22-Jan',\n",
       "       '20-Sep', '21-Sep', '20-Jul', '17-Mar', '21-Aug', '20-May', '16-Dec',\n",
       "       '20-Nov', '20-Apr', '22-Mar', '21-Nov', '16-Mar', '19-Feb', '22-Nov',\n",
       "       '15-Oct', '16-Sep', '15-Nov', '17-Feb', '20-Feb', '20-Mar', '15-Jun',\n",
       "       '16-Jul', '14-Nov', '15-Dec', '16-Oct', '15-Aug', '17-Jan', '16-Nov',\n",
       "       '16-Jan', '14-Jul'],\n",
       "      dtype='object')"
      ]
     },
     "execution_count": 39,
     "metadata": {},
     "output_type": "execute_result"
    }
   ],
   "source": [
    "count = df[\"availability\"].value_counts()\n",
    "threshold = 10000\n",
    "uncommon_dates = count[count <= threshold].index\n",
    "df[\"availability\"].replace(uncommon_dates,\"available_dates\",inplace=True)\n",
    "uncommon_dates"
   ]
  },
  {
   "cell_type": "code",
   "execution_count": 40,
   "id": "76683f4d",
   "metadata": {},
   "outputs": [
    {
     "data": {
      "text/plain": [
       "Ready To Move           10581\n",
       "available_dates          2723\n",
       "Immediate Possession       16\n",
       "Name: availability, dtype: int64"
      ]
     },
     "execution_count": 40,
     "metadata": {},
     "output_type": "execute_result"
    }
   ],
   "source": [
    "df[\"availability\"].replace(np.nan,\"Immediate Possession\",inplace=True)\n",
    "df[\"availability\"].value_counts()"
   ]
  },
  {
   "cell_type": "code",
   "execution_count": 41,
   "id": "b4f6ee5d",
   "metadata": {},
   "outputs": [
    {
     "data": {
      "text/plain": [
       "0"
      ]
     },
     "execution_count": 41,
     "metadata": {},
     "output_type": "execute_result"
    }
   ],
   "source": [
    "df[\"availability\"].isna().sum()"
   ]
  },
  {
   "cell_type": "code",
   "execution_count": 42,
   "id": "8bc826de",
   "metadata": {},
   "outputs": [
    {
     "data": {
      "text/plain": [
       "2 BHK         5215\n",
       "3 BHK         4310\n",
       "4 Bedroom      826\n",
       "4 BHK          591\n",
       "3 Bedroom      547\n",
       "1 BHK          538\n",
       "2 Bedroom      329\n",
       "5 Bedroom      297\n",
       "6 Bedroom      191\n",
       "1 Bedroom      105\n",
       "8 Bedroom       84\n",
       "7 Bedroom       83\n",
       "5 BHK           59\n",
       "9 Bedroom       46\n",
       "6 BHK           30\n",
       "7 BHK           17\n",
       "1 RK            13\n",
       "10 Bedroom      12\n",
       "9 BHK            8\n",
       "8 BHK            5\n",
       "11 BHK           2\n",
       "11 Bedroom       2\n",
       "10 BHK           2\n",
       "14 BHK           1\n",
       "13 BHK           1\n",
       "12 Bedroom       1\n",
       "27 BHK           1\n",
       "43 Bedroom       1\n",
       "16 BHK           1\n",
       "19 BHK           1\n",
       "18 Bedroom       1\n",
       "Name: size, dtype: int64"
      ]
     },
     "execution_count": 42,
     "metadata": {},
     "output_type": "execute_result"
    }
   ],
   "source": [
    "df[\"size\"].value_counts()"
   ]
  },
  {
   "cell_type": "code",
   "execution_count": 43,
   "id": "e1acd909",
   "metadata": {},
   "outputs": [
    {
     "data": {
      "text/plain": [
       "2 BHK            5215\n",
       "3 BHK            4310\n",
       "4 Bedroom         826\n",
       "4 BHK             591\n",
       "3 Bedroom         547\n",
       "1 BHK             538\n",
       "uncommon_size     371\n",
       "2 Bedroom         329\n",
       "5 Bedroom         297\n",
       "6 Bedroom         191\n",
       "1 Bedroom         105\n",
       "Name: size, dtype: int64"
      ]
     },
     "execution_count": 43,
     "metadata": {},
     "output_type": "execute_result"
    }
   ],
   "source": [
    "count = df[\"size\"].value_counts()\n",
    "threshold = 100\n",
    "uncommon_size = count[count <= threshold].index\n",
    "df[\"size\"].replace(uncommon_size,\"uncommon_size\",inplace=True)\n",
    "df[\"size\"].value_counts()"
   ]
  },
  {
   "cell_type": "code",
   "execution_count": 44,
   "id": "4f194f24",
   "metadata": {},
   "outputs": [
    {
     "data": {
      "text/plain": [
       "area_type           0\n",
       "availability        0\n",
       "size                0\n",
       "society          5502\n",
       "total_sqft          1\n",
       "bath                0\n",
       "balcony             0\n",
       "price               0\n",
       "site_location       0\n",
       "dtype: int64"
      ]
     },
     "execution_count": 44,
     "metadata": {},
     "output_type": "execute_result"
    }
   ],
   "source": [
    "df.isna().sum()"
   ]
  },
  {
   "cell_type": "code",
   "execution_count": 45,
   "id": "5e281e51",
   "metadata": {},
   "outputs": [
    {
     "data": {
      "text/plain": [
       "area_type        0\n",
       "availability     0\n",
       "size             0\n",
       "total_sqft       0\n",
       "bath             0\n",
       "balcony          0\n",
       "price            0\n",
       "site_location    0\n",
       "dtype: int64"
      ]
     },
     "execution_count": 45,
     "metadata": {},
     "output_type": "execute_result"
    }
   ],
   "source": [
    "df=df.drop(\"society\",axis=1)\n",
    "df.dropna(inplace=True)\n",
    "df.isna().sum()"
   ]
  },
  {
   "cell_type": "code",
   "execution_count": 46,
   "id": "5ef15bf4",
   "metadata": {},
   "outputs": [
    {
     "data": {
      "text/plain": [
       "area_type        0\n",
       "availability     0\n",
       "size             0\n",
       "total_sqft       0\n",
       "bath             0\n",
       "balcony          0\n",
       "price            0\n",
       "site_location    0\n",
       "dtype: int64"
      ]
     },
     "execution_count": 46,
     "metadata": {},
     "output_type": "execute_result"
    }
   ],
   "source": [
    "df.isna().sum()"
   ]
  },
  {
   "cell_type": "markdown",
   "id": "3816cc8b",
   "metadata": {},
   "source": [
    "## Outlier Detection And HAndling"
   ]
  },
  {
   "cell_type": "markdown",
   "id": "3b9002c2",
   "metadata": {},
   "source": [
    "### total_bath"
   ]
  },
  {
   "cell_type": "code",
   "execution_count": 47,
   "id": "acdc3243",
   "metadata": {},
   "outputs": [
    {
     "name": "stdout",
     "output_type": "stream",
     "text": [
      "Q1 : 1100.0\n",
      "Q2 : 1277.0\n",
      "Q3 : 1680.0\n",
      "Median : 1277.0\n",
      "upper_tail : 2550.0\n",
      "lower_tail : 230.0\n"
     ]
    }
   ],
   "source": [
    "q1=df['total_sqft'].quantile(0.25)\n",
    "q2=df['total_sqft'].quantile(0.50)\n",
    "q3=df['total_sqft'].quantile(0.75)\n",
    "median_tb=df['total_sqft'].median()\n",
    "IQR=q3-q1\n",
    "\n",
    "\n",
    "upper_tail_tb = q3 + 1.5 * IQR\n",
    "lower_tail_tb = q1 - 1.5 * IQR\n",
    "\n",
    "print(\"Q1 :\", q1)\n",
    "print(\"Q2 :\", q2)\n",
    "print(\"Q3 :\", q3)\n",
    "print(\"Median :\",median_tb)\n",
    "\n",
    "print(\"upper_tail :\", upper_tail_tb)\n",
    "print(\"lower_tail :\", lower_tail_tb)"
   ]
  },
  {
   "cell_type": "code",
   "execution_count": 48,
   "id": "25af3416",
   "metadata": {},
   "outputs": [],
   "source": [
    "df['total_sqft'].loc[df['total_sqft']> upper_tail_tb]=median_tb"
   ]
  },
  {
   "cell_type": "code",
   "execution_count": 49,
   "id": "f706197f",
   "metadata": {},
   "outputs": [
    {
     "data": {
      "text/html": [
       "<div>\n",
       "<style scoped>\n",
       "    .dataframe tbody tr th:only-of-type {\n",
       "        vertical-align: middle;\n",
       "    }\n",
       "\n",
       "    .dataframe tbody tr th {\n",
       "        vertical-align: top;\n",
       "    }\n",
       "\n",
       "    .dataframe thead th {\n",
       "        text-align: right;\n",
       "    }\n",
       "</style>\n",
       "<table border=\"1\" class=\"dataframe\">\n",
       "  <thead>\n",
       "    <tr style=\"text-align: right;\">\n",
       "      <th></th>\n",
       "      <th>total_sqft</th>\n",
       "    </tr>\n",
       "  </thead>\n",
       "  <tbody>\n",
       "  </tbody>\n",
       "</table>\n",
       "</div>"
      ],
      "text/plain": [
       "Empty DataFrame\n",
       "Columns: [total_sqft]\n",
       "Index: []"
      ]
     },
     "execution_count": 49,
     "metadata": {},
     "output_type": "execute_result"
    }
   ],
   "source": [
    "df[['total_sqft']].loc[df['total_sqft']> upper_tail_tb]"
   ]
  },
  {
   "cell_type": "markdown",
   "id": "dd11f4a0",
   "metadata": {},
   "source": [
    "### bath"
   ]
  },
  {
   "cell_type": "code",
   "execution_count": 50,
   "id": "1ad486f7",
   "metadata": {},
   "outputs": [
    {
     "name": "stdout",
     "output_type": "stream",
     "text": [
      "Q1 : 2.0\n",
      "Q2 : 2.0\n",
      "Q3 : 3.0\n",
      "Median : 2.0\n",
      "upper_tail : 4.5\n",
      "lower_tail : 0.5\n"
     ]
    }
   ],
   "source": [
    "q1=df['bath'].quantile(0.25)\n",
    "q2=df['bath'].quantile(0.50)\n",
    "q3=df['bath'].quantile(0.75)\n",
    "median_b=df['bath'].median()\n",
    "IQR=q3-q1\n",
    "\n",
    "\n",
    "upper_tail_b = q3 + 1.5 * IQR\n",
    "lower_tail_b = q1 - 1.5 * IQR\n",
    "\n",
    "print(\"Q1 :\", q1)\n",
    "print(\"Q2 :\", q2)\n",
    "print(\"Q3 :\", q3)\n",
    "print(\"Median :\",median_b)\n",
    "\n",
    "print(\"upper_tail :\", upper_tail_b)\n",
    "print(\"lower_tail :\", lower_tail_b)"
   ]
  },
  {
   "cell_type": "code",
   "execution_count": 51,
   "id": "c482c434",
   "metadata": {},
   "outputs": [],
   "source": [
    "df['bath'].loc[df['bath']>upper_tail_b]=median_b"
   ]
  },
  {
   "cell_type": "code",
   "execution_count": 52,
   "id": "e0d018de",
   "metadata": {},
   "outputs": [
    {
     "data": {
      "text/html": [
       "<div>\n",
       "<style scoped>\n",
       "    .dataframe tbody tr th:only-of-type {\n",
       "        vertical-align: middle;\n",
       "    }\n",
       "\n",
       "    .dataframe tbody tr th {\n",
       "        vertical-align: top;\n",
       "    }\n",
       "\n",
       "    .dataframe thead th {\n",
       "        text-align: right;\n",
       "    }\n",
       "</style>\n",
       "<table border=\"1\" class=\"dataframe\">\n",
       "  <thead>\n",
       "    <tr style=\"text-align: right;\">\n",
       "      <th></th>\n",
       "      <th>bath</th>\n",
       "    </tr>\n",
       "  </thead>\n",
       "  <tbody>\n",
       "  </tbody>\n",
       "</table>\n",
       "</div>"
      ],
      "text/plain": [
       "Empty DataFrame\n",
       "Columns: [bath]\n",
       "Index: []"
      ]
     },
     "execution_count": 52,
     "metadata": {},
     "output_type": "execute_result"
    }
   ],
   "source": [
    "df[['bath']].loc[df['bath']>upper_tail_b]"
   ]
  },
  {
   "cell_type": "code",
   "execution_count": null,
   "id": "cc4cebfb",
   "metadata": {},
   "outputs": [],
   "source": []
  },
  {
   "cell_type": "code",
   "execution_count": 53,
   "id": "9abb67ca",
   "metadata": {},
   "outputs": [
    {
     "name": "stdout",
     "output_type": "stream",
     "text": [
      "<class 'pandas.core.frame.DataFrame'>\n",
      "Int64Index: 13319 entries, 0 to 13319\n",
      "Data columns (total 8 columns):\n",
      " #   Column         Non-Null Count  Dtype  \n",
      "---  ------         --------------  -----  \n",
      " 0   area_type      13319 non-null  object \n",
      " 1   availability   13319 non-null  object \n",
      " 2   size           13319 non-null  object \n",
      " 3   total_sqft     13319 non-null  float64\n",
      " 4   bath           13319 non-null  float64\n",
      " 5   balcony        13319 non-null  float64\n",
      " 6   price          13319 non-null  float64\n",
      " 7   site_location  13319 non-null  object \n",
      "dtypes: float64(4), object(4)\n",
      "memory usage: 936.5+ KB\n"
     ]
    }
   ],
   "source": [
    "df.info()\n"
   ]
  },
  {
   "cell_type": "code",
   "execution_count": 54,
   "id": "112ef759",
   "metadata": {},
   "outputs": [],
   "source": [
    "df = pd.get_dummies(data=df,columns=[\"area_type\",\"availability\",\"size\",\"site_location\"])"
   ]
  },
  {
   "cell_type": "code",
   "execution_count": 77,
   "id": "ec943360",
   "metadata": {},
   "outputs": [
    {
     "name": "stdout",
     "output_type": "stream",
     "text": [
      "Index(['total_sqft', 'bath', 'balcony', 'price', 'area_type_Built-up  Area',\n",
      "       'area_type_Carpet  Area', 'area_type_Plot  Area',\n",
      "       'area_type_Super built-up  Area', 'availability_Immediate Possession',\n",
      "       'availability_Ready To Move',\n",
      "       ...\n",
      "       'site_location_Vadgaon Budruk', 'site_location_Viman Nagar',\n",
      "       'site_location_Vishrant Wadi', 'site_location_Wadgaon Sheri',\n",
      "       'site_location_Wagholi', 'site_location_Wakadewadi',\n",
      "       'site_location_Wanowrie', 'site_location_Warje',\n",
      "       'site_location_Yerawada', 'site_location_other'],\n",
      "      dtype='object', length=119)\n"
     ]
    }
   ],
   "source": [
    "print(df.columns)"
   ]
  },
  {
   "cell_type": "markdown",
   "id": "0da7a79e",
   "metadata": {},
   "source": [
    "# Checking Assumptions"
   ]
  },
  {
   "cell_type": "markdown",
   "id": "1c4f484f",
   "metadata": {},
   "source": [
    "## 1.Linearity"
   ]
  },
  {
   "cell_type": "code",
   "execution_count": 56,
   "id": "5d42cb03",
   "metadata": {},
   "outputs": [
    {
     "data": {
      "image/png": "[encoded data removed]",
      "text/plain": [
       "<Figure size 640x480 with 2 Axes>"
      ]
     },
     "metadata": {},
     "output_type": "display_data"
    }
   ],
   "source": [
    "df.corr()\n",
    "sns.heatmap(df.corr(),annot=True)\n",
    "plt.show()"
   ]
  },
  {
   "cell_type": "code",
   "execution_count": 57,
   "id": "ae66b276",
   "metadata": {},
   "outputs": [
    {
     "data": {
      "text/html": [
       "<div>\n",
       "<style scoped>\n",
       "    .dataframe tbody tr th:only-of-type {\n",
       "        vertical-align: middle;\n",
       "    }\n",
       "\n",
       "    .dataframe tbody tr th {\n",
       "        vertical-align: top;\n",
       "    }\n",
       "\n",
       "    .dataframe thead th {\n",
       "        text-align: right;\n",
       "    }\n",
       "</style>\n",
       "<table border=\"1\" class=\"dataframe\">\n",
       "  <thead>\n",
       "    <tr style=\"text-align: right;\">\n",
       "      <th></th>\n",
       "      <th>total_sqft</th>\n",
       "      <th>bath</th>\n",
       "      <th>balcony</th>\n",
       "      <th>price</th>\n",
       "    </tr>\n",
       "  </thead>\n",
       "  <tbody>\n",
       "    <tr>\n",
       "      <th>0</th>\n",
       "      <td>1056.0</td>\n",
       "      <td>2.0</td>\n",
       "      <td>1.000000</td>\n",
       "      <td>39.07</td>\n",
       "    </tr>\n",
       "    <tr>\n",
       "      <th>1</th>\n",
       "      <td>1277.0</td>\n",
       "      <td>2.0</td>\n",
       "      <td>3.000000</td>\n",
       "      <td>120.00</td>\n",
       "    </tr>\n",
       "    <tr>\n",
       "      <th>2</th>\n",
       "      <td>1440.0</td>\n",
       "      <td>2.0</td>\n",
       "      <td>3.000000</td>\n",
       "      <td>62.00</td>\n",
       "    </tr>\n",
       "    <tr>\n",
       "      <th>3</th>\n",
       "      <td>1521.0</td>\n",
       "      <td>3.0</td>\n",
       "      <td>1.000000</td>\n",
       "      <td>95.00</td>\n",
       "    </tr>\n",
       "    <tr>\n",
       "      <th>4</th>\n",
       "      <td>1200.0</td>\n",
       "      <td>2.0</td>\n",
       "      <td>1.000000</td>\n",
       "      <td>51.00</td>\n",
       "    </tr>\n",
       "    <tr>\n",
       "      <th>...</th>\n",
       "      <td>...</td>\n",
       "      <td>...</td>\n",
       "      <td>...</td>\n",
       "      <td>...</td>\n",
       "    </tr>\n",
       "    <tr>\n",
       "      <th>13315</th>\n",
       "      <td>1277.0</td>\n",
       "      <td>4.0</td>\n",
       "      <td>0.000000</td>\n",
       "      <td>231.00</td>\n",
       "    </tr>\n",
       "    <tr>\n",
       "      <th>13316</th>\n",
       "      <td>1277.0</td>\n",
       "      <td>2.0</td>\n",
       "      <td>1.584376</td>\n",
       "      <td>400.00</td>\n",
       "    </tr>\n",
       "    <tr>\n",
       "      <th>13317</th>\n",
       "      <td>1141.0</td>\n",
       "      <td>2.0</td>\n",
       "      <td>1.000000</td>\n",
       "      <td>60.00</td>\n",
       "    </tr>\n",
       "    <tr>\n",
       "      <th>13318</th>\n",
       "      <td>1277.0</td>\n",
       "      <td>4.0</td>\n",
       "      <td>1.000000</td>\n",
       "      <td>488.00</td>\n",
       "    </tr>\n",
       "    <tr>\n",
       "      <th>13319</th>\n",
       "      <td>550.0</td>\n",
       "      <td>1.0</td>\n",
       "      <td>1.000000</td>\n",
       "      <td>17.00</td>\n",
       "    </tr>\n",
       "  </tbody>\n",
       "</table>\n",
       "<p>13319 rows × 4 columns</p>\n",
       "</div>"
      ],
      "text/plain": [
       "       total_sqft  bath   balcony   price\n",
       "0          1056.0   2.0  1.000000   39.07\n",
       "1          1277.0   2.0  3.000000  120.00\n",
       "2          1440.0   2.0  3.000000   62.00\n",
       "3          1521.0   3.0  1.000000   95.00\n",
       "4          1200.0   2.0  1.000000   51.00\n",
       "...           ...   ...       ...     ...\n",
       "13315      1277.0   4.0  0.000000  231.00\n",
       "13316      1277.0   2.0  1.584376  400.00\n",
       "13317      1141.0   2.0  1.000000   60.00\n",
       "13318      1277.0   4.0  1.000000  488.00\n",
       "13319       550.0   1.0  1.000000   17.00\n",
       "\n",
       "[13319 rows x 4 columns]"
      ]
     },
     "execution_count": 57,
     "metadata": {},
     "output_type": "execute_result"
    }
   ],
   "source": [
    "numerics=['int32','int64','float32','float64']\n",
    "new_df=df.select_dtypes(include=numerics)\n",
    "new_df"
   ]
  },
  {
   "cell_type": "markdown",
   "id": "b354cee8",
   "metadata": {},
   "source": [
    "## 2.No-Multicolinearity"
   ]
  },
  {
   "cell_type": "code",
   "execution_count": 58,
   "id": "988e2b38",
   "metadata": {},
   "outputs": [
    {
     "name": "stdout",
     "output_type": "stream",
     "text": [
      "0\n",
      "1\n",
      "2\n",
      "3\n"
     ]
    },
    {
     "data": {
      "image/png": "[encoded data removed]",
      "text/plain": [
       "<Figure size 640x480 with 1 Axes>"
      ]
     },
     "metadata": {},
     "output_type": "display_data"
    }
   ],
   "source": [
    "vif_lst = []\n",
    "for i in range(new_df.shape[1]):\n",
    "    print(i)\n",
    "    vif = variance_inflation_factor(new_df,i) \n",
    "    vif_lst.append(vif)\n",
    "    \n",
    "    \n",
    "seri = pd.Series(vif_lst,index = new_df.columns)\n",
    "seri.sort_values().plot(kind='bar')\n",
    "plt.show()"
   ]
  },
  {
   "cell_type": "markdown",
   "id": "925d3710",
   "metadata": {},
   "source": [
    "# Model Building "
   ]
  },
  {
   "cell_type": "code",
   "execution_count": 59,
   "id": "5cbe267b",
   "metadata": {},
   "outputs": [],
   "source": [
    "x = df.drop(\"price\", axis=1)\n",
    "y = df['price']\n",
    "\n",
    "\n",
    "x_train, x_test, y_train, y_test = train_test_split(x,y,test_size=0.20, random_state=5)"
   ]
  },
  {
   "cell_type": "markdown",
   "id": "df517947",
   "metadata": {},
   "source": [
    "## Linear Regression Model"
   ]
  },
  {
   "cell_type": "code",
   "execution_count": 60,
   "id": "d8d25505",
   "metadata": {},
   "outputs": [
    {
     "data": {
      "text/plain": [
       "LinearRegression()"
      ]
     },
     "execution_count": 60,
     "metadata": {},
     "output_type": "execute_result"
    }
   ],
   "source": [
    "linear_reg_model = LinearRegression()\n",
    "\n",
    "linear_reg_model.fit(x_train, y_train)"
   ]
  },
  {
   "cell_type": "markdown",
   "id": "2a8c7542",
   "metadata": {},
   "source": [
    "# Model Evaluation"
   ]
  },
  {
   "cell_type": "code",
   "execution_count": 61,
   "id": "b1288629",
   "metadata": {},
   "outputs": [
    {
     "name": "stdout",
     "output_type": "stream",
     "text": [
      "Mean squared error----> 16653.757666321544\n",
      "Mean Absolute Error---> 52.507423489639095\n",
      "Root Mean Squared Eroor----> 129.0494388454345\n",
      "R2 Scored-----> 0.2688811651870444\n",
      "Adjusted R Squared Value : 0.2606928562929738\n"
     ]
    }
   ],
   "source": [
    "# On Training Dataset\n",
    "\n",
    "y_pred_train=linear_reg_model.predict(x_train)\n",
    "\n",
    "mse = mean_squared_error(y_train, y_pred_train)\n",
    "print(\"Mean squared error---->\",mse)\n",
    "\n",
    "mae=mean_absolute_error(y_train,y_pred_train)\n",
    "print(\"Mean Absolute Error--->\",mae)\n",
    "\n",
    "rmse = np.sqrt(mse)\n",
    "print(\"Root Mean Squared Eroor---->\",rmse)\n",
    "\n",
    "r2 = r2_score(y_train, y_pred_train)\n",
    "print(\"R2 Scored----->\", r2)\n",
    "\n",
    "Adjusted_r2 = 1 - (((1 - r2) * (x_train.shape[0] - 1)) / (x_train.shape[0] - x_train.shape[1] - 1))\n",
    "print(\"Adjusted R Squared Value :\",Adjusted_r2)"
   ]
  },
  {
   "cell_type": "code",
   "execution_count": 62,
   "id": "d246ed96",
   "metadata": {},
   "outputs": [
    {
     "name": "stdout",
     "output_type": "stream",
     "text": [
      "Mean squared error----> 14262.298253041941\n",
      "Mean Absolute Error---> 50.658266603853605\n",
      "Root Mean Squared Eroor----> 119.42486446733754\n",
      "R2 Scored-----> 0.28129481256131783\n",
      "Adjusted R Squared Value : 0.24797174296691138\n"
     ]
    }
   ],
   "source": [
    "# On Testing Dataset\n",
    "\n",
    "y_pred_test=linear_reg_model.predict(x_test)\n",
    "\n",
    "mse = mean_squared_error(y_test, y_pred_test)\n",
    "print(\"Mean squared error---->\",mse)\n",
    "\n",
    "mae=mean_absolute_error(y_test,y_pred_test)\n",
    "print(\"Mean Absolute Error--->\",mae)\n",
    "\n",
    "rmse = np.sqrt(mse)\n",
    "print(\"Root Mean Squared Eroor---->\",rmse)\n",
    "\n",
    "r2 = r2_score(y_test, y_pred_test)\n",
    "print(\"R2 Scored----->\", r2)\n",
    "\n",
    "adj_r2  = 1 - (((1 - r2) * (x_test.shape[0] - 1)) / (x_test.shape[0] - x_test.shape[1] - 1))\n",
    "print(\"Adjusted R Squared Value :\",adj_r2)"
   ]
  },
  {
   "cell_type": "code",
   "execution_count": 63,
   "id": "027c06a9",
   "metadata": {},
   "outputs": [
    {
     "data": {
      "text/plain": [
       "10350     5.031570\n",
       "9887     55.495743\n",
       "1326    -25.400574\n",
       "12189     9.247971\n",
       "7700     65.917664\n",
       "           ...    \n",
       "3047      2.318817\n",
       "9918    -41.253021\n",
       "4080    -15.431320\n",
       "2255    -22.227325\n",
       "2916     26.003074\n",
       "Name: price, Length: 10655, dtype: float64"
      ]
     },
     "execution_count": 63,
     "metadata": {},
     "output_type": "execute_result"
    }
   ],
   "source": [
    "Residual=y_train-y_pred_train\n",
    "Residual"
   ]
  },
  {
   "cell_type": "markdown",
   "id": "eb3a1cbb",
   "metadata": {},
   "source": [
    "# 3.Normality of Residual"
   ]
  },
  {
   "cell_type": "code",
   "execution_count": 72,
   "id": "b331b165",
   "metadata": {},
   "outputs": [
    {
     "data": {
      "image/png": "[encoded data removed]",
      "text/plain": [
       "<Figure size 640x480 with 1 Axes>"
      ]
     },
     "metadata": {},
     "output_type": "display_data"
    }
   ],
   "source": [
    "sns.kdeplot(Residual, fill=True)\n",
    "plt.show()"
   ]
  },
  {
   "cell_type": "markdown",
   "id": "0bcd536a",
   "metadata": {},
   "source": [
    "### Hypothesis Testing"
   ]
  },
  {
   "cell_type": "markdown",
   "id": "baa5785a",
   "metadata": {},
   "source": [
    "#### 1 Shapiro Test"
   ]
  },
  {
   "cell_type": "code",
   "execution_count": 63,
   "id": "b23b4482",
   "metadata": {},
   "outputs": [
    {
     "name": "stdout",
     "output_type": "stream",
     "text": [
      "P_Value: 0.0\n",
      "Null Hypothesis is Rejected >> Alternate Hypothesis is Accepted\n",
      "Data is NOT Normally Distributed\n"
     ]
    }
   ],
   "source": [
    "from scipy.stats import shapiro\n",
    "_ , p_val = shapiro(Residual)\n",
    "\n",
    "print(\"P_Value:\",p_val)\n",
    "\n",
    "if p_val >= 0.05:\n",
    "    print(\"Null Hypothesis is Accepted\")\n",
    "    print(\"--> Data is Normally Distributed\")\n",
    "    \n",
    "else:\n",
    "    print(\"Null Hypothesis is Rejected >> Alternate Hypothesis is Accepted\")\n",
    "    print(\"Data is NOT Normally Distributed\")"
   ]
  },
  {
   "cell_type": "markdown",
   "id": "2f0b688c",
   "metadata": {},
   "source": [
    "#### KStest"
   ]
  },
  {
   "cell_type": "code",
   "execution_count": 64,
   "id": "511c4eb1",
   "metadata": {},
   "outputs": [
    {
     "name": "stdout",
     "output_type": "stream",
     "text": [
      "P_Value: 0.0\n",
      "Null Hypothesis is Rejected >> Alternate Hypothesis is Accepted\n",
      "Data is NOT Normally Distributed\n"
     ]
    }
   ],
   "source": [
    "from scipy.stats import kstest\n",
    "\n",
    "_ , p_val = kstest(Residual,'norm')\n",
    "\n",
    "print(\"P_Value:\",p_val)\n",
    "\n",
    "if p_val >= 0.05:\n",
    "    print(\"Null Hypothesis is Accepted\")\n",
    "    print(\"--> Data is Normally Distributed\")\n",
    "    \n",
    "else:\n",
    "    print(\"Null Hypothesis is Rejected >> Alternate Hypothesis is Accepted\")\n",
    "    print(\"Data is NOT Normally Distributed\")"
   ]
  },
  {
   "cell_type": "markdown",
   "id": "d65c7007",
   "metadata": {},
   "source": [
    "#### NormalTest"
   ]
  },
  {
   "cell_type": "code",
   "execution_count": 76,
   "id": "9c515a71",
   "metadata": {},
   "outputs": [
    {
     "name": "stdout",
     "output_type": "stream",
     "text": [
      "P_Value: 0.0\n",
      "Null Hypothesis is Rejected >> Alternate Hypothesis is Accepted\n",
      "Data is NOT Normally Distributed\n"
     ]
    }
   ],
   "source": [
    "from scipy.stats import normaltest\n",
    "\n",
    "_ , p_val = normaltest(Residual)\n",
    "\n",
    "print(\"P_Value:\",p_val)\n",
    "\n",
    "if p_val >= 0.05:\n",
    "    print(\"Null Hypothesis is Accepted\")\n",
    "    print(\"--> Data is Normally Distributed\")\n",
    "    \n",
    "else:\n",
    "    print(\"Null Hypothesis is Rejected >> Alternate Hypothesis is Accepted\")\n",
    "    print(\"Data is NOT Normally Distributed\")"
   ]
  },
  {
   "cell_type": "markdown",
   "id": "4efa022c",
   "metadata": {},
   "source": [
    "### 4.QQ-Plot"
   ]
  },
  {
   "cell_type": "code",
   "execution_count": 77,
   "id": "be0211f6",
   "metadata": {},
   "outputs": [
    {
     "data": {
      "image/png": "[encoded data removed]",
      "text/plain": [
       "<Figure size 640x480 with 1 Axes>"
      ]
     },
     "execution_count": 77,
     "metadata": {},
     "output_type": "execute_result"
    }
   ],
   "source": [
    "import statsmodels.api as sm\n",
    "sm.qqplot(Residual,line='45',fit=True)"
   ]
  },
  {
   "cell_type": "markdown",
   "id": "1c9e6e06",
   "metadata": {},
   "source": [
    "## 4 Homoscadisticity"
   ]
  },
  {
   "cell_type": "code",
   "execution_count": 81,
   "id": "c8f6cd0c",
   "metadata": {},
   "outputs": [
    {
     "data": {
      "image/png": "[encoded data removed]",
      "text/plain": [
       "<Figure size 640x480 with 1 Axes>"
      ]
     },
     "metadata": {},
     "output_type": "display_data"
    }
   ],
   "source": [
    "sns.scatterplot(x = y_train, y= Residual)\n",
    "plt.show()"
   ]
  },
  {
   "cell_type": "markdown",
   "id": "55322cae",
   "metadata": {},
   "source": [
    "## Toreduce the variace use Regularization Technique¶\n"
   ]
  },
  {
   "cell_type": "markdown",
   "id": "40778fb4",
   "metadata": {},
   "source": [
    "### 1.Ridge Regression"
   ]
  },
  {
   "cell_type": "code",
   "execution_count": 82,
   "id": "995978de",
   "metadata": {},
   "outputs": [
    {
     "data": {
      "text/plain": [
       "Ridge()"
      ]
     },
     "execution_count": 82,
     "metadata": {},
     "output_type": "execute_result"
    }
   ],
   "source": [
    "ridge_model=Ridge(alpha=1.0) # default value of alpha\n",
    "\n",
    "ridge_model.fit(x_train,y_train)"
   ]
  },
  {
   "cell_type": "code",
   "execution_count": 83,
   "id": "b2435e9f",
   "metadata": {},
   "outputs": [
    {
     "name": "stdout",
     "output_type": "stream",
     "text": [
      "Mean squared error----> 16653.809650186256\n",
      "Mean Absolute Error---> 52.46214140736847\n",
      "Root Mean Squared Eroor----> 129.04964025593506\n",
      "R2 Scored-----> 0.26887888303647167\n"
     ]
    }
   ],
   "source": [
    "# Evaluation Metrics on ridge model on training dataset\n",
    "\n",
    "y_pred_train_ridge=ridge_model.predict(x_train)\n",
    "\n",
    "mse = mean_squared_error(y_train, y_pred_train_ridge)\n",
    "print(\"Mean squared error---->\",mse)\n",
    "\n",
    "mae=mean_absolute_error(y_train,y_pred_train_ridge)\n",
    "print(\"Mean Absolute Error--->\",mae)\n",
    "\n",
    "rmse = np.sqrt(mse)\n",
    "print(\"Root Mean Squared Eroor---->\",rmse)\n",
    "\n",
    "r2 = r2_score(y_train, y_pred_train_ridge)\n",
    "print(\"R2 Scored----->\", r2)\n"
   ]
  },
  {
   "cell_type": "code",
   "execution_count": 84,
   "id": "528e8054",
   "metadata": {},
   "outputs": [
    {
     "name": "stdout",
     "output_type": "stream",
     "text": [
      "Mean squared error----> 14255.94340768217\n",
      "Mean Absolute Error---> 50.59228297525236\n",
      "Root Mean Squared Eroor----> 119.3982554633114\n",
      "R2 Scored-----> 0.2816150456853491\n"
     ]
    }
   ],
   "source": [
    "# Evaluation Metrics on ridge model on testing dataset\n",
    "\n",
    "y_pred_test_ridge=ridge_model.predict(x_test)\n",
    "\n",
    "mse = mean_squared_error(y_test, y_pred_test_ridge)\n",
    "print(\"Mean squared error---->\",mse)\n",
    "\n",
    "mae=mean_absolute_error(y_test,y_pred_test_ridge)\n",
    "print(\"Mean Absolute Error--->\",mae)\n",
    "\n",
    "rmse = np.sqrt(mse)\n",
    "print(\"Root Mean Squared Eroor---->\",rmse)\n",
    "\n",
    "r2 = r2_score(y_test, y_pred_test_ridge)\n",
    "print(\"R2 Scored----->\", r2)\n"
   ]
  },
  {
   "cell_type": "markdown",
   "id": "83c0918c",
   "metadata": {},
   "source": [
    "## 2.Lasso Regularization"
   ]
  },
  {
   "cell_type": "code",
   "execution_count": 85,
   "id": "997941e9",
   "metadata": {},
   "outputs": [
    {
     "data": {
      "text/plain": [
       "Lasso()"
      ]
     },
     "execution_count": 85,
     "metadata": {},
     "output_type": "execute_result"
    }
   ],
   "source": [
    "lasso_model=Lasso(alpha=1.0)\n",
    "lasso_model"
   ]
  },
  {
   "cell_type": "code",
   "execution_count": 86,
   "id": "aaec559c",
   "metadata": {},
   "outputs": [
    {
     "data": {
      "text/plain": [
       "Lasso()"
      ]
     },
     "execution_count": 86,
     "metadata": {},
     "output_type": "execute_result"
    }
   ],
   "source": [
    "lasso_model.fit(x_train,y_train)"
   ]
  },
  {
   "cell_type": "code",
   "execution_count": 87,
   "id": "8b347300",
   "metadata": {},
   "outputs": [
    {
     "name": "stdout",
     "output_type": "stream",
     "text": [
      "Mean squared error----> 17173.424372064484\n",
      "Mean Absolute Error---> 51.17581994702154\n",
      "Root Mean Squared Eroor----> 131.0474126874105\n",
      "R2 Scored-----> 0.2460672078804479\n"
     ]
    }
   ],
   "source": [
    "# Evaluation Metrics by lasso regularization on training dataset\n",
    "\n",
    "y_pred_train_lasso=lasso_model.predict(x_train)\n",
    "\n",
    "mse = mean_squared_error(y_train, y_pred_train_lasso)\n",
    "print(\"Mean squared error---->\",mse)\n",
    "\n",
    "mae=mean_absolute_error(y_train,y_pred_train_lasso)\n",
    "print(\"Mean Absolute Error--->\",mae)\n",
    "\n",
    "rmse = np.sqrt(mse)\n",
    "print(\"Root Mean Squared Eroor---->\",rmse)\n",
    "\n",
    "r2 = r2_score(y_train, y_pred_train_lasso)\n",
    "print(\"R2 Scored----->\", r2)"
   ]
  },
  {
   "cell_type": "code",
   "execution_count": 88,
   "id": "fc24f50f",
   "metadata": {},
   "outputs": [
    {
     "name": "stdout",
     "output_type": "stream",
     "text": [
      "Mean squared error----> 14214.748242131534\n",
      "Mean Absolute Error---> 47.981836334217874\n",
      "Root Mean Squared Eroor----> 119.2256190679316\n",
      "R2 Scored-----> 0.283690950890341\n"
     ]
    }
   ],
   "source": [
    "# Evaluation Metrics by lasso regularization on testing dataset\n",
    "\n",
    "\n",
    "y_pred_test_lasso=lasso_model.predict(x_test)\n",
    "\n",
    "mse = mean_squared_error(y_test, y_pred_test_lasso)\n",
    "print(\"Mean squared error---->\",mse)\n",
    "\n",
    "mae=mean_absolute_error(y_test,y_pred_test_lasso)\n",
    "print(\"Mean Absolute Error--->\",mae)\n",
    "\n",
    "rmse = np.sqrt(mse)\n",
    "print(\"Root Mean Squared Eroor---->\",rmse)\n",
    "\n",
    "r2 = r2_score(y_test, y_pred_test_lasso)\n",
    "print(\"R2 Scored----->\", r2)"
   ]
  },
  {
   "cell_type": "markdown",
   "id": "ad1dad89",
   "metadata": {},
   "source": [
    "## Single user input testing"
   ]
  },
  {
   "cell_type": "code",
   "execution_count": 65,
   "id": "cfa1d650",
   "metadata": {},
   "outputs": [],
   "source": [
    "area_type=\"Super built-up  Area\"    #\"area_type_Super built-up Area\"\n",
    "availability=\"Ready To Move\"\n",
    "size=\"2 BHK\"\n",
    "total_sqft=1056\n",
    "bath=2.0\n",
    "balcony=1.0\n",
    "site_location=\"Alandi Road\"\n",
    "\n",
    "\n",
    "area_type=\"area_type_\"+area_type\n",
    "availability=\"availability_\"+availability\n",
    "size=\"size_\"+size\n",
    "site_location=\"site_location_\"+site_location"
   ]
  },
  {
   "cell_type": "code",
   "execution_count": 66,
   "id": "83ce93dd",
   "metadata": {},
   "outputs": [
    {
     "data": {
      "text/plain": [
       "118"
      ]
     },
     "execution_count": 66,
     "metadata": {},
     "output_type": "execute_result"
    }
   ],
   "source": [
    "column_names = x.columns\n",
    "len(column_names)"
   ]
  },
  {
   "cell_type": "code",
   "execution_count": 67,
   "id": "bdaffbfe",
   "metadata": {},
   "outputs": [],
   "source": [
    "with open(\"Pune_linear_model.pkl\", \"wb\") as f:\n",
    "    pickle.dump(linear_reg_model, f)"
   ]
  },
  {
   "cell_type": "code",
   "execution_count": 68,
   "id": "14136af2",
   "metadata": {},
   "outputs": [
    {
     "data": {
      "text/plain": [
       "{'columns': ['total_sqft',\n",
       "  'bath',\n",
       "  'balcony',\n",
       "  'area_type_Built-up  Area',\n",
       "  'area_type_Carpet  Area',\n",
       "  'area_type_Plot  Area',\n",
       "  'area_type_Super built-up  Area',\n",
       "  'availability_Immediate Possession',\n",
       "  'availability_Ready To Move',\n",
       "  'availability_available_dates',\n",
       "  'size_1 BHK',\n",
       "  'size_1 Bedroom',\n",
       "  'size_2 BHK',\n",
       "  'size_2 Bedroom',\n",
       "  'size_3 BHK',\n",
       "  'size_3 Bedroom',\n",
       "  'size_4 BHK',\n",
       "  'size_4 Bedroom',\n",
       "  'size_5 Bedroom',\n",
       "  'size_6 Bedroom',\n",
       "  'size_uncommon_size',\n",
       "  'site_location_Alandi Road',\n",
       "  'site_location_Ambegaon Budruk',\n",
       "  'site_location_Anandnagar',\n",
       "  'site_location_Aundh',\n",
       "  'site_location_Aundh Road',\n",
       "  'site_location_Balaji Nagar',\n",
       "  'site_location_Baner',\n",
       "  'site_location_Baner road',\n",
       "  'site_location_Bhandarkar Road',\n",
       "  'site_location_Bhavani Peth',\n",
       "  'site_location_Bibvewadi',\n",
       "  'site_location_Bopodi',\n",
       "  'site_location_Budhwar Peth',\n",
       "  'site_location_Bund Garden Road',\n",
       "  'site_location_Camp',\n",
       "  'site_location_Chandan Nagar',\n",
       "  'site_location_Dapodi',\n",
       "  'site_location_Deccan Gymkhana',\n",
       "  'site_location_Dehu Road',\n",
       "  'site_location_Dhankawadi',\n",
       "  'site_location_Dhayari Phata',\n",
       "  'site_location_Dhole Patil Road',\n",
       "  'site_location_Erandwane',\n",
       "  'site_location_Fatima Nagar',\n",
       "  'site_location_Fergusson College Road',\n",
       "  'site_location_Ganesh Peth',\n",
       "  'site_location_Ganeshkhind',\n",
       "  'site_location_Ghorpade Peth',\n",
       "  'site_location_Ghorpadi',\n",
       "  'site_location_Gokhale Nagar',\n",
       "  'site_location_Gultekdi',\n",
       "  'site_location_Guruwar peth',\n",
       "  'site_location_Hadapsar',\n",
       "  'site_location_Hadapsar Industrial Estate',\n",
       "  'site_location_Hingne Khurd',\n",
       "  'site_location_Jangali Maharaj Road',\n",
       "  'site_location_Kalyani Nagar',\n",
       "  'site_location_Karve Nagar',\n",
       "  'site_location_Karve Road',\n",
       "  'site_location_Kasba Peth',\n",
       "  'site_location_Katraj',\n",
       "  'site_location_Khadaki',\n",
       "  'site_location_Khadki',\n",
       "  'site_location_Kharadi',\n",
       "  'site_location_Kondhwa',\n",
       "  'site_location_Kondhwa Budruk',\n",
       "  'site_location_Kondhwa Khurd',\n",
       "  'site_location_Koregaon Park',\n",
       "  'site_location_Kothrud',\n",
       "  'site_location_Law College Road',\n",
       "  'site_location_Laxmi Road',\n",
       "  'site_location_Lulla Nagar',\n",
       "  'site_location_Mahatma Gandhi Road',\n",
       "  'site_location_Mangalwar peth',\n",
       "  'site_location_Manik Bagh',\n",
       "  'site_location_Market yard',\n",
       "  'site_location_Model colony',\n",
       "  'site_location_Mukund Nagar',\n",
       "  'site_location_Mundhawa',\n",
       "  'site_location_Nagar Road',\n",
       "  'site_location_Nana Peth',\n",
       "  'site_location_Narayan Peth',\n",
       "  'site_location_Narayangaon',\n",
       "  'site_location_Navi Peth',\n",
       "  'site_location_Padmavati',\n",
       "  'site_location_Parvati Darshan',\n",
       "  'site_location_Pashan',\n",
       "  'site_location_Paud Road',\n",
       "  'site_location_Pirangut',\n",
       "  'site_location_Prabhat Road',\n",
       "  'site_location_Pune Railway Station',\n",
       "  'site_location_Rasta Peth',\n",
       "  'site_location_Raviwar Peth',\n",
       "  'site_location_Sadashiv Peth',\n",
       "  'site_location_Sahakar Nagar',\n",
       "  'site_location_Salunke Vihar',\n",
       "  'site_location_Sasson Road',\n",
       "  'site_location_Satara Road',\n",
       "  'site_location_Senapati Bapat Road',\n",
       "  'site_location_Shaniwar Peth',\n",
       "  'site_location_Shivaji Nagar',\n",
       "  'site_location_Shukrawar Peth',\n",
       "  'site_location_Sinhagad Road',\n",
       "  'site_location_Somwar Peth',\n",
       "  'site_location_Swargate',\n",
       "  'site_location_Tilak Road',\n",
       "  'site_location_Uruli Devachi',\n",
       "  'site_location_Vadgaon Budruk',\n",
       "  'site_location_Viman Nagar',\n",
       "  'site_location_Vishrant Wadi',\n",
       "  'site_location_Wadgaon Sheri',\n",
       "  'site_location_Wagholi',\n",
       "  'site_location_Wakadewadi',\n",
       "  'site_location_Wanowrie',\n",
       "  'site_location_Warje',\n",
       "  'site_location_Yerawada',\n",
       "  'site_location_other']}"
      ]
     },
     "execution_count": 68,
     "metadata": {},
     "output_type": "execute_result"
    }
   ],
   "source": [
    "json_data = {\"columns\":list(column_names)}\n",
    "json_data"
   ]
  },
  {
   "cell_type": "code",
   "execution_count": 72,
   "id": "738d605a",
   "metadata": {},
   "outputs": [],
   "source": [
    "with open(\"Project_data_pune.json\", \"w\") as f:\n",
    "    json.dump(json_data, f)"
   ]
  },
  {
   "cell_type": "code",
   "execution_count": 73,
   "id": "794010a1",
   "metadata": {},
   "outputs": [],
   "source": [
    "area_type_index = list(column_names).index(area_type)\n",
    "availability_index = list(column_names).index(availability)\n",
    "\n",
    "site_location_index = list(column_names).index(site_location)"
   ]
  },
  {
   "cell_type": "code",
   "execution_count": 78,
   "id": "7deeaf93",
   "metadata": {},
   "outputs": [],
   "source": [
    "size_index = list(column_names).index(size)"
   ]
  },
  {
   "cell_type": "code",
   "execution_count": 79,
   "id": "241eea3f",
   "metadata": {},
   "outputs": [],
   "source": [
    "test_array = np.zeros(len(column_names))"
   ]
  },
  {
   "cell_type": "code",
   "execution_count": 80,
   "id": "fc40b50e",
   "metadata": {},
   "outputs": [],
   "source": [
    "test_array[0] = total_sqft\n",
    "test_array[1] = bath\n",
    "test_array[2] = balcony\n",
    "test_array[area_type_index] = 1\n",
    "test_array[availability_index] = 1\n",
    "test_array[size_index] = 1\n",
    "test_array[site_location_index] = 1"
   ]
  },
  {
   "cell_type": "code",
   "execution_count": 81,
   "id": "77f05ba0",
   "metadata": {},
   "outputs": [
    {
     "data": {
      "text/plain": [
       "array([1.056e+03, 2.000e+00, 1.000e+00, 0.000e+00, 0.000e+00, 0.000e+00,\n",
       "       1.000e+00, 0.000e+00, 1.000e+00, 0.000e+00, 0.000e+00, 0.000e+00,\n",
       "       1.000e+00, 0.000e+00, 0.000e+00, 0.000e+00, 0.000e+00, 0.000e+00,\n",
       "       0.000e+00, 0.000e+00, 0.000e+00, 1.000e+00, 0.000e+00, 0.000e+00,\n",
       "       0.000e+00, 0.000e+00, 0.000e+00, 0.000e+00, 0.000e+00, 0.000e+00,\n",
       "       0.000e+00, 0.000e+00, 0.000e+00, 0.000e+00, 0.000e+00, 0.000e+00,\n",
       "       0.000e+00, 0.000e+00, 0.000e+00, 0.000e+00, 0.000e+00, 0.000e+00,\n",
       "       0.000e+00, 0.000e+00, 0.000e+00, 0.000e+00, 0.000e+00, 0.000e+00,\n",
       "       0.000e+00, 0.000e+00, 0.000e+00, 0.000e+00, 0.000e+00, 0.000e+00,\n",
       "       0.000e+00, 0.000e+00, 0.000e+00, 0.000e+00, 0.000e+00, 0.000e+00,\n",
       "       0.000e+00, 0.000e+00, 0.000e+00, 0.000e+00, 0.000e+00, 0.000e+00,\n",
       "       0.000e+00, 0.000e+00, 0.000e+00, 0.000e+00, 0.000e+00, 0.000e+00,\n",
       "       0.000e+00, 0.000e+00, 0.000e+00, 0.000e+00, 0.000e+00, 0.000e+00,\n",
       "       0.000e+00, 0.000e+00, 0.000e+00, 0.000e+00, 0.000e+00, 0.000e+00,\n",
       "       0.000e+00, 0.000e+00, 0.000e+00, 0.000e+00, 0.000e+00, 0.000e+00,\n",
       "       0.000e+00, 0.000e+00, 0.000e+00, 0.000e+00, 0.000e+00, 0.000e+00,\n",
       "       0.000e+00, 0.000e+00, 0.000e+00, 0.000e+00, 0.000e+00, 0.000e+00,\n",
       "       0.000e+00, 0.000e+00, 0.000e+00, 0.000e+00, 0.000e+00, 0.000e+00,\n",
       "       0.000e+00, 0.000e+00, 0.000e+00, 0.000e+00, 0.000e+00, 0.000e+00,\n",
       "       0.000e+00, 0.000e+00, 0.000e+00, 0.000e+00])"
      ]
     },
     "execution_count": 81,
     "metadata": {},
     "output_type": "execute_result"
    }
   ],
   "source": [
    "test_array"
   ]
  },
  {
   "cell_type": "code",
   "execution_count": 85,
   "id": "9dc154db",
   "metadata": {},
   "outputs": [
    {
     "name": "stdout",
     "output_type": "stream",
     "text": [
      "price of the house is :Rs. 49.11 lakhs\n"
     ]
    }
   ],
   "source": [
    "price = np.around(linear_reg_model.predict([test_array])[0],2)\n",
    "print(\"price of the house is :Rs.\",price,\"lakhs\")"
   ]
  },
  {
   "cell_type": "code",
   "execution_count": null,
   "id": "f7af9962",
   "metadata": {},
   "outputs": [],
   "source": []
  }
 ],
 "metadata": {
  "kernelspec": {
   "display_name": "Python 3 (ipykernel)",
   "language": "python",
   "name": "python3"
  },
  "language_info": {
   "codemirror_mode": {
    "name": "ipython",
    "version": 3
   },
   "file_extension": ".py",
   "mimetype": "text/x-python",
   "name": "python",
   "nbconvert_exporter": "python",
   "pygments_lexer": "ipython3",
   "version": "3.9.13"
  }
 },
 "nbformat": 4,
 "nbformat_minor": 5
}
