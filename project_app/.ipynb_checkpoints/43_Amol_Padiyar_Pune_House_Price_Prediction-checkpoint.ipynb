{
 "cells": [
  {
   "cell_type": "code",
   "execution_count": 292,
   "id": "629d96ff",
   "metadata": {},
   "outputs": [],
   "source": [
    "import pandas as pd\n",
    "import numpy as np\n",
    "import seaborn as sns\n",
    "import matplotlib.pyplot as plt\n",
    "from sklearn.linear_model import LinearRegression,Ridge,Lasso\n",
    "from sklearn.model_selection import train_test_split,GridSearchCV,RandomizedSearchCV\n",
    "from sklearn.compose import ColumnTransformer\n",
    "from sklearn.preprocessing import OrdinalEncoder,LabelEncoder,OneHotEncoder\n",
    "from sklearn.metrics import mean_absolute_error,mean_squared_error,r2_score\n",
    "from scipy.stats import shapiro,kstest,normaltest,zscore\n",
    "from statsmodels.stats.outliers_influence import variance_inflation_factor\n",
    "import statsmodels.api as sm\n",
    "import warnings\n",
    "warnings.filterwarnings(\"ignore\")\n",
    "\n",
    "import pickle\n",
    "import json"
   ]
  },
  {
   "cell_type": "markdown",
   "id": "5ce753b9",
   "metadata": {},
   "source": [
    "# Problem Statement :"
   ]
  },
  {
   "cell_type": "raw",
   "id": "a8933d1b",
   "metadata": {},
   "source": [
    "To predict pune house price by using supervised machine learning considering as regression problem.\n",
    "\n",
    "independent_feature = 'area_type','availability','size','society','total_sqft','bath','balcony', 'site_location'.\n",
    "\n",
    "Target_column = Price"
   ]
  },
  {
   "cell_type": "code",
   "execution_count": null,
   "id": "ba017461",
   "metadata": {},
   "outputs": [],
   "source": []
  },
  {
   "cell_type": "markdown",
   "id": "8ed5477d",
   "metadata": {},
   "source": [
    "# Data Gathering :"
   ]
  },
  {
   "cell_type": "code",
   "execution_count": 293,
   "id": "f4f77ab4",
   "metadata": {},
   "outputs": [
    {
     "data": {
      "text/html": [
       "<div>\n",
       "<style scoped>\n",
       "    .dataframe tbody tr th:only-of-type {\n",
       "        vertical-align: middle;\n",
       "    }\n",
       "\n",
       "    .dataframe tbody tr th {\n",
       "        vertical-align: top;\n",
       "    }\n",
       "\n",
       "    .dataframe thead th {\n",
       "        text-align: right;\n",
       "    }\n",
       "</style>\n",
       "<table border=\"1\" class=\"dataframe\">\n",
       "  <thead>\n",
       "    <tr style=\"text-align: right;\">\n",
       "      <th></th>\n",
       "      <th>area_type</th>\n",
       "      <th>availability</th>\n",
       "      <th>size</th>\n",
       "      <th>society</th>\n",
       "      <th>total_sqft</th>\n",
       "      <th>bath</th>\n",
       "      <th>balcony</th>\n",
       "      <th>price</th>\n",
       "      <th>site_location</th>\n",
       "    </tr>\n",
       "  </thead>\n",
       "  <tbody>\n",
       "    <tr>\n",
       "      <th>0</th>\n",
       "      <td>Super built-up  Area</td>\n",
       "      <td>19-Dec</td>\n",
       "      <td>2 BHK</td>\n",
       "      <td>Coomee</td>\n",
       "      <td>1056</td>\n",
       "      <td>2.0</td>\n",
       "      <td>1.0</td>\n",
       "      <td>39.07</td>\n",
       "      <td>Alandi Road</td>\n",
       "    </tr>\n",
       "    <tr>\n",
       "      <th>1</th>\n",
       "      <td>Plot  Area</td>\n",
       "      <td>Ready To Move</td>\n",
       "      <td>4 Bedroom</td>\n",
       "      <td>Theanmp</td>\n",
       "      <td>2600</td>\n",
       "      <td>5.0</td>\n",
       "      <td>3.0</td>\n",
       "      <td>120.00</td>\n",
       "      <td>Ambegaon Budruk</td>\n",
       "    </tr>\n",
       "    <tr>\n",
       "      <th>2</th>\n",
       "      <td>Built-up  Area</td>\n",
       "      <td>Ready To Move</td>\n",
       "      <td>3 BHK</td>\n",
       "      <td>NaN</td>\n",
       "      <td>1440</td>\n",
       "      <td>2.0</td>\n",
       "      <td>3.0</td>\n",
       "      <td>62.00</td>\n",
       "      <td>Anandnagar</td>\n",
       "    </tr>\n",
       "    <tr>\n",
       "      <th>3</th>\n",
       "      <td>Super built-up  Area</td>\n",
       "      <td>Ready To Move</td>\n",
       "      <td>3 BHK</td>\n",
       "      <td>Soiewre</td>\n",
       "      <td>1521</td>\n",
       "      <td>3.0</td>\n",
       "      <td>1.0</td>\n",
       "      <td>95.00</td>\n",
       "      <td>Aundh</td>\n",
       "    </tr>\n",
       "    <tr>\n",
       "      <th>4</th>\n",
       "      <td>Super built-up  Area</td>\n",
       "      <td>Ready To Move</td>\n",
       "      <td>2 BHK</td>\n",
       "      <td>NaN</td>\n",
       "      <td>1200</td>\n",
       "      <td>2.0</td>\n",
       "      <td>1.0</td>\n",
       "      <td>51.00</td>\n",
       "      <td>Aundh Road</td>\n",
       "    </tr>\n",
       "  </tbody>\n",
       "</table>\n",
       "</div>"
      ],
      "text/plain": [
       "              area_type   availability       size  society total_sqft  bath  \\\n",
       "0  Super built-up  Area         19-Dec      2 BHK  Coomee        1056   2.0   \n",
       "1            Plot  Area  Ready To Move  4 Bedroom  Theanmp       2600   5.0   \n",
       "2        Built-up  Area  Ready To Move      3 BHK      NaN       1440   2.0   \n",
       "3  Super built-up  Area  Ready To Move      3 BHK  Soiewre       1521   3.0   \n",
       "4  Super built-up  Area  Ready To Move      2 BHK      NaN       1200   2.0   \n",
       "\n",
       "   balcony   price    site_location  \n",
       "0      1.0   39.07      Alandi Road  \n",
       "1      3.0  120.00  Ambegaon Budruk  \n",
       "2      3.0   62.00       Anandnagar  \n",
       "3      1.0   95.00            Aundh  \n",
       "4      1.0   51.00       Aundh Road  "
      ]
     },
     "execution_count": 293,
     "metadata": {},
     "output_type": "execute_result"
    }
   ],
   "source": [
    "file_path=r\"D:\\Velocity DS Class\\LINEAR REGRESSION\\DATA SET\\Pune_House_Data.csv\"\n",
    "df=pd.read_csv(file_path)\n",
    "df.head()"
   ]
  },
  {
   "cell_type": "code",
   "execution_count": 294,
   "id": "c2afb166",
   "metadata": {},
   "outputs": [
    {
     "data": {
      "text/plain": [
       "(13320, 9)"
      ]
     },
     "execution_count": 294,
     "metadata": {},
     "output_type": "execute_result"
    }
   ],
   "source": [
    "df.shape"
   ]
  },
  {
   "cell_type": "code",
   "execution_count": 295,
   "id": "4b8d0ccc",
   "metadata": {},
   "outputs": [],
   "source": [
    "user_test = df.head(1).T"
   ]
  },
  {
   "cell_type": "markdown",
   "id": "008ec10d",
   "metadata": {},
   "source": [
    "# Exploratory Data Analysis :"
   ]
  },
  {
   "cell_type": "code",
   "execution_count": 296,
   "id": "773c9d2c",
   "metadata": {},
   "outputs": [
    {
     "name": "stdout",
     "output_type": "stream",
     "text": [
      "<class 'pandas.core.frame.DataFrame'>\n",
      "RangeIndex: 13320 entries, 0 to 13319\n",
      "Data columns (total 9 columns):\n",
      " #   Column         Non-Null Count  Dtype  \n",
      "---  ------         --------------  -----  \n",
      " 0   area_type      13320 non-null  object \n",
      " 1   availability   13320 non-null  object \n",
      " 2   size           13304 non-null  object \n",
      " 3   society        7818 non-null   object \n",
      " 4   total_sqft     13320 non-null  object \n",
      " 5   bath           13247 non-null  float64\n",
      " 6   balcony        12711 non-null  float64\n",
      " 7   price          13320 non-null  float64\n",
      " 8   site_location  13319 non-null  object \n",
      "dtypes: float64(3), object(6)\n",
      "memory usage: 936.7+ KB\n"
     ]
    }
   ],
   "source": [
    "df.info()"
   ]
  },
  {
   "cell_type": "markdown",
   "id": "649dab1a",
   "metadata": {},
   "source": [
    "### 1. area_type : "
   ]
  },
  {
   "cell_type": "code",
   "execution_count": 297,
   "id": "7ca031cb",
   "metadata": {},
   "outputs": [
    {
     "data": {
      "text/plain": [
       "0"
      ]
     },
     "execution_count": 297,
     "metadata": {},
     "output_type": "execute_result"
    }
   ],
   "source": [
    "df[\"area_type\"].isna().sum()"
   ]
  },
  {
   "cell_type": "code",
   "execution_count": 298,
   "id": "5bccc37a",
   "metadata": {},
   "outputs": [
    {
     "data": {
      "text/plain": [
       "array(['Super built-up  Area', 'Plot  Area', 'Built-up  Area',\n",
       "       'Carpet  Area'], dtype=object)"
      ]
     },
     "execution_count": 298,
     "metadata": {},
     "output_type": "execute_result"
    }
   ],
   "source": [
    "df[\"area_type\"].unique()"
   ]
  },
  {
   "cell_type": "code",
   "execution_count": 299,
   "id": "decd018d",
   "metadata": {},
   "outputs": [
    {
     "data": {
      "text/plain": [
       "Super built-up  Area    8790\n",
       "Built-up  Area          2418\n",
       "Plot  Area              2025\n",
       "Carpet  Area              87\n",
       "Name: area_type, dtype: int64"
      ]
     },
     "execution_count": 299,
     "metadata": {},
     "output_type": "execute_result"
    }
   ],
   "source": [
    "df[\"area_type\"].value_counts()"
   ]
  },
  {
   "cell_type": "markdown",
   "id": "f7fd478b",
   "metadata": {},
   "source": [
    "### 2.availability :"
   ]
  },
  {
   "cell_type": "code",
   "execution_count": 300,
   "id": "fb775847",
   "metadata": {},
   "outputs": [
    {
     "data": {
      "text/plain": [
       "0"
      ]
     },
     "execution_count": 300,
     "metadata": {},
     "output_type": "execute_result"
    }
   ],
   "source": [
    "df[\"availability\"].isna().sum()"
   ]
  },
  {
   "cell_type": "code",
   "execution_count": 301,
   "id": "769f0ff1",
   "metadata": {},
   "outputs": [
    {
     "data": {
      "text/plain": [
       "array(['19-Dec', 'Ready To Move', '18-May', '18-Feb', '18-Nov', '20-Dec',\n",
       "       '17-Oct', '21-Dec', '19-Sep', '20-Sep', '18-Mar', '20-Feb',\n",
       "       '18-Apr', '20-Aug', '18-Oct', '19-Mar', '17-Sep', '18-Dec',\n",
       "       '17-Aug', '19-Apr', '18-Jun', '22-Dec', '22-Jan', '18-Aug',\n",
       "       '19-Jan', '17-Jul', '18-Jul', '21-Jun', '20-May', '19-Aug',\n",
       "       '18-Sep', '17-May', '17-Jun', '21-May', '18-Jan', '20-Mar',\n",
       "       '17-Dec', '16-Mar', '19-Jun', '22-Jun', '19-Jul', '21-Feb',\n",
       "       'Immediate Possession', '19-May', '17-Nov', '20-Oct', '20-Jun',\n",
       "       '19-Feb', '21-Oct', '21-Jan', '17-Mar', '17-Apr', '22-May',\n",
       "       '19-Oct', '21-Jul', '21-Nov', '21-Mar', '16-Dec', '22-Mar',\n",
       "       '20-Jan', '21-Sep', '21-Aug', '14-Nov', '19-Nov', '15-Nov',\n",
       "       '16-Jul', '15-Jun', '17-Feb', '20-Nov', '20-Jul', '16-Sep',\n",
       "       '15-Oct', '15-Dec', '16-Oct', '22-Nov', '15-Aug', '17-Jan',\n",
       "       '16-Nov', '20-Apr', '16-Jan', '14-Jul'], dtype=object)"
      ]
     },
     "execution_count": 301,
     "metadata": {},
     "output_type": "execute_result"
    }
   ],
   "source": [
    "df[\"availability\"].unique()"
   ]
  },
  {
   "cell_type": "code",
   "execution_count": 302,
   "id": "eac6eda2",
   "metadata": {},
   "outputs": [
    {
     "data": {
      "text/plain": [
       "81"
      ]
     },
     "execution_count": 302,
     "metadata": {},
     "output_type": "execute_result"
    }
   ],
   "source": [
    "df[\"availability\"].nunique()"
   ]
  },
  {
   "cell_type": "code",
   "execution_count": 303,
   "id": "a8f54669",
   "metadata": {},
   "outputs": [
    {
     "data": {
      "text/plain": [
       "Ready To Move    10581\n",
       "18-Dec             307\n",
       "18-May             295\n",
       "18-Apr             271\n",
       "18-Aug             200\n",
       "                 ...  \n",
       "15-Aug               1\n",
       "17-Jan               1\n",
       "16-Nov               1\n",
       "16-Jan               1\n",
       "14-Jul               1\n",
       "Name: availability, Length: 81, dtype: int64"
      ]
     },
     "execution_count": 303,
     "metadata": {},
     "output_type": "execute_result"
    }
   ],
   "source": [
    "df[\"availability\"].value_counts()"
   ]
  },
  {
   "cell_type": "markdown",
   "id": "f7578419",
   "metadata": {},
   "source": [
    "### 3.size :"
   ]
  },
  {
   "cell_type": "code",
   "execution_count": 304,
   "id": "db3be91b",
   "metadata": {},
   "outputs": [
    {
     "data": {
      "text/plain": [
       "16"
      ]
     },
     "execution_count": 304,
     "metadata": {},
     "output_type": "execute_result"
    }
   ],
   "source": [
    "df[\"size\"].isna().sum()"
   ]
  },
  {
   "cell_type": "code",
   "execution_count": 305,
   "id": "72a52c6e",
   "metadata": {},
   "outputs": [
    {
     "data": {
      "text/plain": [
       "array(['2 BHK', '4 Bedroom', '3 BHK', '4 BHK', '6 Bedroom', '3 Bedroom',\n",
       "       '1 BHK', '1 RK', '1 Bedroom', '8 Bedroom', '2 Bedroom',\n",
       "       '7 Bedroom', '5 BHK', '7 BHK', '6 BHK', '5 Bedroom', '11 BHK',\n",
       "       '9 BHK', nan, '9 Bedroom', '27 BHK', '10 Bedroom', '11 Bedroom',\n",
       "       '10 BHK', '19 BHK', '16 BHK', '43 Bedroom', '14 BHK', '8 BHK',\n",
       "       '12 Bedroom', '13 BHK', '18 Bedroom'], dtype=object)"
      ]
     },
     "execution_count": 305,
     "metadata": {},
     "output_type": "execute_result"
    }
   ],
   "source": [
    "df[\"size\"].unique()"
   ]
  },
  {
   "cell_type": "code",
   "execution_count": 306,
   "id": "fabd5e4b",
   "metadata": {},
   "outputs": [
    {
     "data": {
      "text/plain": [
       "2 BHK         5199\n",
       "3 BHK         4310\n",
       "4 Bedroom      826\n",
       "4 BHK          591\n",
       "3 Bedroom      547\n",
       "1 BHK          538\n",
       "2 Bedroom      329\n",
       "5 Bedroom      297\n",
       "6 Bedroom      191\n",
       "1 Bedroom      105\n",
       "8 Bedroom       84\n",
       "7 Bedroom       83\n",
       "5 BHK           59\n",
       "9 Bedroom       46\n",
       "6 BHK           30\n",
       "7 BHK           17\n",
       "1 RK            13\n",
       "10 Bedroom      12\n",
       "9 BHK            8\n",
       "8 BHK            5\n",
       "11 BHK           2\n",
       "11 Bedroom       2\n",
       "10 BHK           2\n",
       "14 BHK           1\n",
       "13 BHK           1\n",
       "12 Bedroom       1\n",
       "27 BHK           1\n",
       "43 Bedroom       1\n",
       "16 BHK           1\n",
       "19 BHK           1\n",
       "18 Bedroom       1\n",
       "Name: size, dtype: int64"
      ]
     },
     "execution_count": 306,
     "metadata": {},
     "output_type": "execute_result"
    }
   ],
   "source": [
    "df[\"size\"].value_counts()"
   ]
  },
  {
   "cell_type": "code",
   "execution_count": 307,
   "id": "09e9d15f",
   "metadata": {},
   "outputs": [
    {
     "name": "stdout",
     "output_type": "stream",
     "text": [
      "<class 'pandas.core.frame.DataFrame'>\n",
      "RangeIndex: 13320 entries, 0 to 13319\n",
      "Data columns (total 9 columns):\n",
      " #   Column         Non-Null Count  Dtype  \n",
      "---  ------         --------------  -----  \n",
      " 0   area_type      13320 non-null  object \n",
      " 1   availability   13320 non-null  object \n",
      " 2   size           13304 non-null  object \n",
      " 3   society        7818 non-null   object \n",
      " 4   total_sqft     13320 non-null  object \n",
      " 5   bath           13247 non-null  float64\n",
      " 6   balcony        12711 non-null  float64\n",
      " 7   price          13320 non-null  float64\n",
      " 8   site_location  13319 non-null  object \n",
      "dtypes: float64(3), object(6)\n",
      "memory usage: 936.7+ KB\n"
     ]
    }
   ],
   "source": [
    "df.info()"
   ]
  },
  {
   "cell_type": "markdown",
   "id": "c3c14d3a",
   "metadata": {},
   "source": [
    "### 4.society :"
   ]
  },
  {
   "cell_type": "code",
   "execution_count": 308,
   "id": "1b4882d6",
   "metadata": {},
   "outputs": [
    {
     "data": {
      "text/plain": [
       "5502"
      ]
     },
     "execution_count": 308,
     "metadata": {},
     "output_type": "execute_result"
    }
   ],
   "source": [
    "df[\"society\"].isna().sum()"
   ]
  },
  {
   "cell_type": "code",
   "execution_count": 309,
   "id": "ef3d4d5b",
   "metadata": {},
   "outputs": [
    {
     "data": {
      "text/plain": [
       "41.306306306306304"
      ]
     },
     "execution_count": 309,
     "metadata": {},
     "output_type": "execute_result"
    }
   ],
   "source": [
    "df[\"society\"].isna().mean()*100"
   ]
  },
  {
   "cell_type": "code",
   "execution_count": 310,
   "id": "d1aa3aa8",
   "metadata": {},
   "outputs": [
    {
     "data": {
      "text/plain": [
       "array(['Coomee ', 'Theanmp', nan, ..., 'SJovest', 'ThhtsV ', 'RSntsAp'],\n",
       "      dtype=object)"
      ]
     },
     "execution_count": 310,
     "metadata": {},
     "output_type": "execute_result"
    }
   ],
   "source": [
    "df[\"society\"].unique()"
   ]
  },
  {
   "cell_type": "code",
   "execution_count": 311,
   "id": "cd58ac79",
   "metadata": {},
   "outputs": [
    {
     "data": {
      "text/plain": [
       "2688"
      ]
     },
     "execution_count": 311,
     "metadata": {},
     "output_type": "execute_result"
    }
   ],
   "source": [
    "df[\"society\"].nunique()"
   ]
  },
  {
   "cell_type": "markdown",
   "id": "a5dbdb62",
   "metadata": {},
   "source": [
    "### 5.total_sqft"
   ]
  },
  {
   "cell_type": "code",
   "execution_count": 312,
   "id": "f3167803",
   "metadata": {},
   "outputs": [
    {
     "data": {
      "text/plain": [
       "0"
      ]
     },
     "execution_count": 312,
     "metadata": {},
     "output_type": "execute_result"
    }
   ],
   "source": [
    "df[\"total_sqft\"].isna().sum()"
   ]
  },
  {
   "cell_type": "code",
   "execution_count": 313,
   "id": "382517b8",
   "metadata": {},
   "outputs": [
    {
     "data": {
      "text/plain": [
       "array(['1056', '2600', '1440', ..., '1133 - 1384', '774', '4689'],\n",
       "      dtype=object)"
      ]
     },
     "execution_count": 313,
     "metadata": {},
     "output_type": "execute_result"
    }
   ],
   "source": [
    "df[\"total_sqft\"].unique()"
   ]
  },
  {
   "cell_type": "code",
   "execution_count": 314,
   "id": "6eb7a06c",
   "metadata": {},
   "outputs": [
    {
     "data": {
      "text/plain": [
       "2117"
      ]
     },
     "execution_count": 314,
     "metadata": {},
     "output_type": "execute_result"
    }
   ],
   "source": [
    "df[\"total_sqft\"].nunique()"
   ]
  },
  {
   "cell_type": "code",
   "execution_count": 315,
   "id": "fac7f743",
   "metadata": {},
   "outputs": [
    {
     "data": {
      "text/plain": [
       "1200    843\n",
       "1100    221\n",
       "1500    205\n",
       "2400    196\n",
       "600     180\n",
       "       ... \n",
       "3580      1\n",
       "2461      1\n",
       "1437      1\n",
       "2155      1\n",
       "4689      1\n",
       "Name: total_sqft, Length: 2117, dtype: int64"
      ]
     },
     "execution_count": 315,
     "metadata": {},
     "output_type": "execute_result"
    }
   ],
   "source": [
    "df[\"total_sqft\"].value_counts()"
   ]
  },
  {
   "cell_type": "markdown",
   "id": "ea5c10c7",
   "metadata": {},
   "source": [
    "### 6.bath :"
   ]
  },
  {
   "cell_type": "code",
   "execution_count": 316,
   "id": "f3a18186",
   "metadata": {},
   "outputs": [
    {
     "data": {
      "text/plain": [
       "73"
      ]
     },
     "execution_count": 316,
     "metadata": {},
     "output_type": "execute_result"
    }
   ],
   "source": [
    "df[\"bath\"].isna().sum()"
   ]
  },
  {
   "cell_type": "code",
   "execution_count": 317,
   "id": "47810eab",
   "metadata": {},
   "outputs": [
    {
     "data": {
      "text/plain": [
       "array([ 2.,  5.,  3.,  4.,  6.,  1.,  9., nan,  8.,  7., 11., 10., 14.,\n",
       "       27., 12., 16., 40., 15., 13., 18.])"
      ]
     },
     "execution_count": 317,
     "metadata": {},
     "output_type": "execute_result"
    }
   ],
   "source": [
    "df[\"bath\"].unique()"
   ]
  },
  {
   "cell_type": "code",
   "execution_count": 318,
   "id": "1ca94f6d",
   "metadata": {},
   "outputs": [
    {
     "data": {
      "image/png": "[encoded data removed]",
      "text/plain": [
       "<Figure size 640x480 with 1 Axes>"
      ]
     },
     "metadata": {},
     "output_type": "display_data"
    }
   ],
   "source": [
    "df[[\"bath\"]].boxplot()\n",
    "plt.show()"
   ]
  },
  {
   "cell_type": "markdown",
   "id": "cbe81329",
   "metadata": {},
   "source": [
    "### 7.balcony"
   ]
  },
  {
   "cell_type": "code",
   "execution_count": 319,
   "id": "3eae95df",
   "metadata": {},
   "outputs": [
    {
     "name": "stdout",
     "output_type": "stream",
     "text": [
      "<class 'pandas.core.series.Series'>\n",
      "RangeIndex: 13320 entries, 0 to 13319\n",
      "Series name: balcony\n",
      "Non-Null Count  Dtype  \n",
      "--------------  -----  \n",
      "12711 non-null  float64\n",
      "dtypes: float64(1)\n",
      "memory usage: 104.2 KB\n"
     ]
    }
   ],
   "source": [
    "df[\"balcony\"].info()"
   ]
  },
  {
   "cell_type": "code",
   "execution_count": 320,
   "id": "846b0b41",
   "metadata": {},
   "outputs": [
    {
     "data": {
      "text/plain": [
       "609"
      ]
     },
     "execution_count": 320,
     "metadata": {},
     "output_type": "execute_result"
    }
   ],
   "source": [
    "df[\"balcony\"].isna().sum()"
   ]
  },
  {
   "cell_type": "code",
   "execution_count": 321,
   "id": "bbbf0a63",
   "metadata": {},
   "outputs": [
    {
     "data": {
      "text/plain": [
       "4.572072072072072"
      ]
     },
     "execution_count": 321,
     "metadata": {},
     "output_type": "execute_result"
    }
   ],
   "source": [
    "df[\"balcony\"].isna().mean()*100"
   ]
  },
  {
   "cell_type": "code",
   "execution_count": 322,
   "id": "9f87a8ac",
   "metadata": {},
   "outputs": [
    {
     "data": {
      "text/plain": [
       "array([ 1.,  3., nan,  2.,  0.])"
      ]
     },
     "execution_count": 322,
     "metadata": {},
     "output_type": "execute_result"
    }
   ],
   "source": [
    "df[\"balcony\"].unique()"
   ]
  },
  {
   "cell_type": "code",
   "execution_count": 323,
   "id": "ba6100ad",
   "metadata": {},
   "outputs": [
    {
     "data": {
      "text/plain": [
       "2.0    5113\n",
       "1.0    4897\n",
       "3.0    1672\n",
       "0.0    1029\n",
       "Name: balcony, dtype: int64"
      ]
     },
     "execution_count": 323,
     "metadata": {},
     "output_type": "execute_result"
    }
   ],
   "source": [
    "df[\"balcony\"].value_counts()"
   ]
  },
  {
   "cell_type": "code",
   "execution_count": 324,
   "id": "4045dcee",
   "metadata": {},
   "outputs": [
    {
     "data": {
      "image/png": "[encoded data removed]",
      "text/plain": [
       "<Figure size 640x480 with 1 Axes>"
      ]
     },
     "metadata": {},
     "output_type": "display_data"
    }
   ],
   "source": [
    "df[[\"balcony\"]].boxplot()\n",
    "plt.show()"
   ]
  },
  {
   "cell_type": "markdown",
   "id": "ae5c411b",
   "metadata": {},
   "source": [
    "### site_location"
   ]
  },
  {
   "cell_type": "code",
   "execution_count": 325,
   "id": "84a02325",
   "metadata": {},
   "outputs": [
    {
     "data": {
      "text/plain": [
       "array(['Alandi Road', 'Ambegaon Budruk', 'Anandnagar', 'Aundh',\n",
       "       'Aundh Road', 'Balaji Nagar', 'Baner', 'Baner road',\n",
       "       'Bhandarkar Road', 'Bhavani Peth', 'Bibvewadi', 'Bopodi',\n",
       "       'Budhwar Peth', 'Bund Garden Road', 'Camp', 'Chandan Nagar',\n",
       "       'Dapodi', 'Deccan Gymkhana', 'Dehu Road', 'Dhankawadi',\n",
       "       'Dhayari Phata', 'Dhole Patil Road', 'Erandwane', 'Fatima Nagar',\n",
       "       'Fergusson College Road', 'Ganesh Peth', 'Ganeshkhind',\n",
       "       'Ghorpade Peth', 'other', 'Gokhale Nagar', 'Gultekdi',\n",
       "       'Guruwar peth', 'Hadapsar', 'Hadapsar Industrial Estate',\n",
       "       'Hingne Khurd', 'Jangali Maharaj Road', 'Kalyani Nagar',\n",
       "       'Karve Nagar', 'Karve Road', 'Kasba Peth', 'Katraj', 'Khadaki',\n",
       "       'Khadki', 'Kharadi', 'Kondhwa', 'Kondhwa Budruk', 'Kondhwa Khurd',\n",
       "       'Koregaon Park', 'Kothrud', 'Law College Road', 'Laxmi Road',\n",
       "       'Lulla Nagar', 'Mahatma Gandhi Road', 'Mangalwar peth',\n",
       "       'Manik Bagh', 'Market yard', 'Model colony', 'Mukund Nagar',\n",
       "       'Mundhawa', 'Nagar Road', 'Nana Peth', 'Narayan Peth',\n",
       "       'Narayangaon', 'Navi Peth', 'Padmavati', 'Parvati Darshan',\n",
       "       'Pashan', 'Paud Road', 'Pirangut', 'Prabhat Road',\n",
       "       'Pune Railway Station', 'Rasta Peth', 'Raviwar Peth',\n",
       "       'Sadashiv Peth', 'Sahakar Nagar', 'Salunke Vihar', 'Sasson Road',\n",
       "       'Satara Road', 'Senapati Bapat Road', 'Shaniwar Peth',\n",
       "       'Shivaji Nagar', 'Shukrawar Peth', 'Sinhagad Road', 'Somwar Peth',\n",
       "       'Swargate', 'Tilak Road', 'Uruli Devachi', 'Vadgaon Budruk',\n",
       "       'Wadgaon Sheri', 'Viman Nagar', 'Vishrant Wadi', 'Wagholi',\n",
       "       'Wakadewadi', 'Wanowrie', 'Warje', 'Yerawada', 'Ghorpadi', nan],\n",
       "      dtype=object)"
      ]
     },
     "execution_count": 325,
     "metadata": {},
     "output_type": "execute_result"
    }
   ],
   "source": [
    "df[\"site_location\"].unique()"
   ]
  },
  {
   "cell_type": "code",
   "execution_count": 326,
   "id": "43443780",
   "metadata": {},
   "outputs": [
    {
     "data": {
      "text/plain": [
       "1"
      ]
     },
     "execution_count": 326,
     "metadata": {},
     "output_type": "execute_result"
    }
   ],
   "source": [
    "df[\"site_location\"].isna().sum()"
   ]
  },
  {
   "cell_type": "markdown",
   "id": "e2dc37da",
   "metadata": {},
   "source": [
    "### 9.price :"
   ]
  },
  {
   "cell_type": "code",
   "execution_count": 327,
   "id": "d266bc93",
   "metadata": {},
   "outputs": [
    {
     "data": {
      "text/plain": [
       "0"
      ]
     },
     "execution_count": 327,
     "metadata": {},
     "output_type": "execute_result"
    }
   ],
   "source": [
    "df[\"price\"].isna().sum()"
   ]
  },
  {
   "cell_type": "code",
   "execution_count": 328,
   "id": "5344ccca",
   "metadata": {
    "scrolled": true
   },
   "outputs": [
    {
     "data": {
      "image/png": "[encoded data removed]",
      "text/plain": [
       "<Figure size 640x480 with 1 Axes>"
      ]
     },
     "metadata": {},
     "output_type": "display_data"
    }
   ],
   "source": [
    "df[[\"price\"]].boxplot()\n",
    "plt.show()"
   ]
  },
  {
   "cell_type": "code",
   "execution_count": null,
   "id": "6fb07baf",
   "metadata": {},
   "outputs": [],
   "source": []
  },
  {
   "cell_type": "code",
   "execution_count": null,
   "id": "e08837da",
   "metadata": {},
   "outputs": [],
   "source": []
  },
  {
   "cell_type": "markdown",
   "id": "2a5fa4ab",
   "metadata": {},
   "source": [
    "# Feature Engineering :"
   ]
  },
  {
   "cell_type": "code",
   "execution_count": 329,
   "id": "df11df0f",
   "metadata": {},
   "outputs": [
    {
     "name": "stdout",
     "output_type": "stream",
     "text": [
      "<class 'pandas.core.frame.DataFrame'>\n",
      "RangeIndex: 13320 entries, 0 to 13319\n",
      "Data columns (total 9 columns):\n",
      " #   Column         Non-Null Count  Dtype  \n",
      "---  ------         --------------  -----  \n",
      " 0   area_type      13320 non-null  object \n",
      " 1   availability   13320 non-null  object \n",
      " 2   size           13304 non-null  object \n",
      " 3   society        7818 non-null   object \n",
      " 4   total_sqft     13320 non-null  object \n",
      " 5   bath           13247 non-null  float64\n",
      " 6   balcony        12711 non-null  float64\n",
      " 7   price          13320 non-null  float64\n",
      " 8   site_location  13319 non-null  object \n",
      "dtypes: float64(3), object(6)\n",
      "memory usage: 936.7+ KB\n"
     ]
    }
   ],
   "source": [
    "df.info()"
   ]
  },
  {
   "cell_type": "markdown",
   "id": "50ee42a5",
   "metadata": {},
   "source": [
    "### 3. size :"
   ]
  },
  {
   "cell_type": "code",
   "execution_count": 330,
   "id": "45814a22",
   "metadata": {},
   "outputs": [],
   "source": [
    "df[\"size\"].fillna(df[\"size\"].mode()[0],inplace=True)"
   ]
  },
  {
   "cell_type": "code",
   "execution_count": 331,
   "id": "f4442164",
   "metadata": {},
   "outputs": [
    {
     "data": {
      "text/plain": [
       "0"
      ]
     },
     "execution_count": 331,
     "metadata": {},
     "output_type": "execute_result"
    }
   ],
   "source": [
    "df[\"size\"].isna().sum()"
   ]
  },
  {
   "cell_type": "markdown",
   "id": "27dbf147",
   "metadata": {},
   "source": [
    "### 5.total_sqft"
   ]
  },
  {
   "cell_type": "code",
   "execution_count": 332,
   "id": "2959b594",
   "metadata": {},
   "outputs": [
    {
     "data": {
      "text/plain": [
       "2117"
      ]
     },
     "execution_count": 332,
     "metadata": {},
     "output_type": "execute_result"
    }
   ],
   "source": [
    "df[\"total_sqft\"].nunique()"
   ]
  },
  {
   "cell_type": "code",
   "execution_count": 333,
   "id": "1ef853d0",
   "metadata": {
    "scrolled": true
   },
   "outputs": [],
   "source": [
    "df[\"total_sqft\"].value_counts()\n",
    "\n",
    "\n",
    "# df[\"total_sqft\"] = df[\"total_sqft\"].astype(float)\n",
    "\n",
    "df[\"total_sqft\"].value_counts()['34.46Sq. Meter']\n",
    "df[\"total_sqft\"].value_counts()['4125Perch']\n",
    "\n",
    "df[\"total_sqft\"].replace({'34.46Sq. Meter':370.92,\n",
    "                          '4125Perch':1123031.25,\n",
    "                          '1000Sq. Meter':10763.9,\n",
    "                          '1100Sq. Yards':9900,\n",
    "                         '5.31Acres':231303.6,\n",
    "                         '30Acres':np.nan,\n",
    "                         '716Sq. Meter':7706.96,\n",
    "                          '547.34 - 827.31':687.325,\n",
    "                         '1500Sq. Meter':16145.87,\n",
    "                         '142.61Sq. Meter':1535.04126,\n",
    "                         '1574Sq. Yards':14166,\n",
    "                         '1005.03 - 1252.49':1128.76,\n",
    "                         '361.33Sq. Yards':3251.97,\n",
    "                         '2249.81 - 4112.19':3181.0,\n",
    "                         '117Sq. Yards':1053,\n",
    "                         '3040Sq. Meter':32722.29,\n",
    "                         '500Sq. Yards':4500,\n",
    "                         '167Sq. Meter':1797.57,\n",
    "                         '315Sq. Yards':2835,\n",
    "                         '3Cents':1306.68,\n",
    "                         '188.89Sq. Yards':1700.01,\n",
    "                         '204Sq. Meter':2195.84,\n",
    "                         '45Sq. Yards':405,\n",
    "                         '133.3Sq. Yards':1199.7,\n",
    "                         '78.03Sq. Meter':839.90793,\n",
    "                         '122Sq. Yards':1098,\n",
    "                         '84.53Sq. Meter':909.87335,\n",
    "                         '2.09Acres':91040.4,\n",
    "                         '24Guntha':24000,\n",
    "                         '697Sq. Meter':7502.45,\n",
    "                         '1500Cents':653400,\n",
    "                         '132Sq. Yards':1188,\n",
    "                         '2Acres':87120,\n",
    "                         '1100Sq. Meter':11840.3,\n",
    "                         '15Acres':653400,\n",
    "                         '1.26Acres':54885.6,\n",
    "                         '151.11Sq. Yards':1359.99,\n",
    "                         '1Grounds':2400.35,\n",
    "                         '2940Sq. Yards':26460,\n",
    "                         '45.06Sq. Meter':485.0218,\n",
    "                         '1.25Acres':54450,\n",
    "                         '86.72Sq. Meter':933.44631,\n",
    "                         '38Guntha':38000,\n",
    "                         '6Acres':261360,\n",
    "                         '120Sq. Yards':1080,\n",
    "                         '24Sq. Meter':258.334,\n",
    "                         '142.84Sq. Meter':1537.51696,\n",
    "                         '300Sq. Yards':2700,\n",
    "                         '2100 - 2850':2475.0,\n",
    "                         '3010 - 3410':3210.0,\n",
    "                         '2957 - 3450':3203.5,\n",
    "                         '3067 - 8156':5611.5,\n",
    "                         '1042 - 1105':1073.5,\n",
    "                         '1145 - 1340':1242.5,\n",
    "                         '1015 - 1540':1277.5,\n",
    "                         '1520 - 1740':1630.0,\n",
    "                         '1195 - 1440':1317.5,\n",
    "                         '1200 - 2400':1800,\n",
    "                         '1120 - 1145':1120,\n",
    "                         '4400 - 6640':5520,\n",
    "                         '3090 - 5002':4046.0,\n",
    "                         '4400 - 6800':5600,\n",
    "                         '1160 - 1195':1172.5,\n",
    "                         '4000 - 5249':4624.5,\n",
    "                         '1115 - 1130':1122.5,\n",
    "                         '520 - 645':580,\n",
    "                         '1000 - 1285':1142.5,\n",
    "                         '3606 - 5091':4348.5,\n",
    "                         '650 - 665':657.5,\n",
    "                         '633 - 666':645,\n",
    "                         '1445 - 1455':1450,\n",
    "                         '884 - 1116':1000,\n",
    "                         '850 - 1093':971.5,\n",
    "                         '1440 - 1884':1662,\n",
    "                         '580 - 650':615.0,\n",
    "                         '3425 - 3435':3430,\n",
    "                         '1804 - 2273':2036.5,\n",
    "                         '3630 - 3800':3685,\n",
    "                         '660 - 670':665,\n",
    "                         '620 - 933':726.5,\n",
    "                         '2695 - 2940':2820,\n",
    "                         '2000 - 5634':3817,\n",
    "                         '3450 - 3472':3461,\n",
    "                         '1250 - 1305':1277,\n",
    "                         '670 - 980':720,\n",
    "                         '1004 - 1204':1100,\n",
    "                         '645 - 936':750,\n",
    "                         '2710 - 3360':3035,\n",
    "                         '3436 - 3643':3500,\n",
    "                         '2830 - 2882':2856,\n",
    "                         '596 - 804':700,\n",
    "                         '1255 - 1863':1559,\n",
    "                         '1300 - 1405':1352.5,\n",
    "                         '1500 - 2400':1950,\n",
    "                         '934 - 1437':1184,\n",
    "                         '980 - 1030':1005,\n",
    "                         '1564 - 1850':1707,\n",
    "                         '1446 - 1506':1476,\n",
    "                         '1070 - 1315':1192.5,\n",
    "                         '2806 - 3019':2913,\n",
    "                         '613 - 648':630,\n",
    "                         '1430 - 1630':1530,\n",
    "                         '704 - 730':717,\n",
    "                         '1482 - 1846':1664,\n",
    "                         '2805 - 3565':3185,\n",
    "                         '3293 - 5314':4303.5,\n",
    "                         '1210 - 1477':1340,\n",
    "                         '3369 - 3464':3375,\n",
    "                         '1125 - 1500':1300,\n",
    "                         '1076 - 1199':1150,\n",
    "                         '381 - 535':458,\n",
    "                          '2215 - 2475':2300,\n",
    "                          '524 - 894':700,\n",
    "                          '540 - 670':605,\n",
    "                          '1650 - 2538':2094.0, \n",
    "                          '2725 - 3250':2987.5, \n",
    "                          '1974 - 2171':2074,\n",
    "                           '888 - 1290':1087, \n",
    "                          '1360 - 1890':1525,\n",
    "                          '2466 - 2856':2661, \n",
    "                          '660 - 700':680,\n",
    "                           '385 - 440':410, \n",
    "                          '2100 - 5405':3752.5, \n",
    "                          '770 - 841':805,\n",
    "                          '1310 - 1615':1460,\n",
    "                           '1782 - 2000':1900,\n",
    "                          '1469 - 1766':1620, \n",
    "                          '1255 - 1350':1402.5,\n",
    "                          '870 - 1080':975,\n",
    "                           '2580 - 2591':2585.5,\n",
    "                          '2563 - 2733':2673,\n",
    "                          '605 - 624':615,\n",
    "                          '4260 - 4408':4335,\n",
    "                           '1349 - 3324':2336.5, \n",
    "                          '3300 - 3335':3317.5, \n",
    "                          '1180 - 1630':1405,\n",
    "                           '1365 - 1700':1532.5,\n",
    "                          '3500 - 3600':3550,\n",
    "                          '1482 - 1684':1583,\n",
    "                           '981 - 1249':1115,\n",
    "                          '1100 - 1225':1162.5,\n",
    "                          '1565 - 1595':1580,\n",
    "                          '1270 - 1275':1272.5,\n",
    "                           '840 - 1010':925, \n",
    "                          '655 - 742':700, \n",
    "                          '800 - 2660':1730,\n",
    "                          '1408 - 1455':1430,\n",
    "                           '4050 - 4075':4062.5, \n",
    "                          '942 - 1117':1029.5, \n",
    "                          '1750 - 2640':2195.0,\n",
    "                          '1390 - 1600':1495,\n",
    "                           '598 - 958':778.0, \n",
    "                          '1010 - 1300':1160,\n",
    "                          '3103 - 3890':3500,\n",
    "                          '1450 - 1950':1700,\n",
    "                           '1450 - 1595':1525,\n",
    "                          '763 - 805':780, \n",
    "                          '3307 - 3464':3382, \n",
    "                          '620 - 934':777,\n",
    "                           '2462 - 2467':2464.5, \n",
    "                          '540 - 740':640.0,\n",
    "                          '1618 - 1929':1773.5, \n",
    "                          '3508 - 4201':3854.5,\n",
    "                           '4900 - 4940':4920,\n",
    "                          '1610 - 1880':1745.0,\n",
    "                          '755 - 770':762.5,\n",
    "                          '664 - 722':693.0,\n",
    "                           '700 - 900':800, \n",
    "                          '596 - 861':630, \n",
    "                          '1925 - 2680':2302.5, \n",
    "                          '615 - 985':800, \n",
    "                          '540 - 565':552.5,\n",
    "                           '750 - 800':775,\n",
    "                          '1660 - 1805':1785,\n",
    "                          '1410 - 1710':1560, \n",
    "                          '1079 - 1183':1130,\n",
    "                           '2800 - 2870':2835, \n",
    "                          '1230 - 1290':1260, \n",
    "                          '943 - 1220':1070, \n",
    "                          '2041 - 2090':2065,\n",
    "                           '527 - 639':590, \n",
    "                          '1160 - 1315':1240,\n",
    "                          '706 - 716':711, \n",
    "                          '1791 - 4000':2891,\n",
    "                           '799 - 803':801, \n",
    "                          '2470 - 2790':2630, \n",
    "                          '783 - 943':863.0,\n",
    "                          '4500 - 5540':5020,\n",
    "                           '1255 - 1375':1315.5, \n",
    "                          '610 - 615':610,\n",
    "                          '854 - 960':910, \n",
    "                          '2650 - 2990':2820.0,\n",
    "                           '1230 - 1490':1360.0,\n",
    "                          '660 - 780':720.0,\n",
    "                          '1150 - 1194':1172, \n",
    "                          '684 - 810':747.0,\n",
    "                           '1200 - 1800':1500, \n",
    "                          '1510 - 1670':1590, \n",
    "                          '1550 - 1590':1570, \n",
    "                          '1235 - 1410':1235 - 1410,\n",
    "                           '3484 - 3550':3517.0, \n",
    "                          '929 - 1078':1003.5, \n",
    "                          '2150 - 2225':2187.5, \n",
    "                          '1520 - 1759':1639.5,\n",
    "                           '629 - 1026':827.5, \n",
    "                          '1215 - 1495':1355.0, \n",
    "                          '1140 - 1250':1195.0, \n",
    "                          '2400 - 2600':2500,\n",
    "                           '1052 - 1322':1187.0,\n",
    "                          '5666 - 5669':5666, \n",
    "                          '712 - 938':825.0,\n",
    "                          '1783 - 1878':1830.5,\n",
    "                           '2528 - 3188':2858.0,\n",
    "                          '650 - 760':705.0,\n",
    "                          '1400 - 1421':1410.5,\n",
    "                          '4000 - 4450':4225.0,\n",
    "                          '2204 - 2362':2283.0, \n",
    "                          '1437 - 1629':1533.0, \n",
    "                          '850 - 1060':955.0,\n",
    "                           '1200 - 1470':1335.0, \n",
    "                          '1020 - 1130':1125,\n",
    "                          '1133 - 1384':1258.5   \n",
    "                         },inplace=True)\n",
    "\n",
    "df[\"total_sqft\"] = df[\"total_sqft\"].astype(float)\n"
   ]
  },
  {
   "cell_type": "code",
   "execution_count": null,
   "id": "1d718436",
   "metadata": {},
   "outputs": [],
   "source": []
  },
  {
   "cell_type": "code",
   "execution_count": 334,
   "id": "e73a59a1",
   "metadata": {},
   "outputs": [
    {
     "name": "stdout",
     "output_type": "stream",
     "text": [
      "<class 'pandas.core.series.Series'>\n",
      "RangeIndex: 13320 entries, 0 to 13319\n",
      "Series name: total_sqft\n",
      "Non-Null Count  Dtype  \n",
      "--------------  -----  \n",
      "13319 non-null  float64\n",
      "dtypes: float64(1)\n",
      "memory usage: 104.2 KB\n"
     ]
    }
   ],
   "source": [
    "df[\"total_sqft\"].info()"
   ]
  },
  {
   "cell_type": "markdown",
   "id": "93119453",
   "metadata": {},
   "source": [
    "### 6.bath :"
   ]
  },
  {
   "cell_type": "code",
   "execution_count": 335,
   "id": "8733f543",
   "metadata": {},
   "outputs": [
    {
     "name": "stdout",
     "output_type": "stream",
     "text": [
      "<class 'pandas.core.series.Series'>\n",
      "RangeIndex: 13320 entries, 0 to 13319\n",
      "Series name: bath\n",
      "Non-Null Count  Dtype  \n",
      "--------------  -----  \n",
      "13247 non-null  float64\n",
      "dtypes: float64(1)\n",
      "memory usage: 104.2 KB\n"
     ]
    }
   ],
   "source": [
    "df[\"bath\"].info()"
   ]
  },
  {
   "cell_type": "code",
   "execution_count": 336,
   "id": "58c37868",
   "metadata": {},
   "outputs": [],
   "source": [
    "# since there is an outlier so we can fill the missing value by median:\n",
    "\n",
    "df[\"bath\"].fillna(df[\"bath\"].median(),inplace=True)"
   ]
  },
  {
   "cell_type": "code",
   "execution_count": 337,
   "id": "b03825a0",
   "metadata": {},
   "outputs": [
    {
     "data": {
      "text/plain": [
       "0"
      ]
     },
     "execution_count": 337,
     "metadata": {},
     "output_type": "execute_result"
    }
   ],
   "source": [
    "df[\"bath\"].isna().sum()"
   ]
  },
  {
   "cell_type": "markdown",
   "id": "16c86c1a",
   "metadata": {},
   "source": [
    "### balcony :"
   ]
  },
  {
   "cell_type": "code",
   "execution_count": 338,
   "id": "f8c8d056",
   "metadata": {},
   "outputs": [
    {
     "name": "stdout",
     "output_type": "stream",
     "text": [
      "<class 'pandas.core.series.Series'>\n",
      "RangeIndex: 13320 entries, 0 to 13319\n",
      "Series name: balcony\n",
      "Non-Null Count  Dtype  \n",
      "--------------  -----  \n",
      "12711 non-null  float64\n",
      "dtypes: float64(1)\n",
      "memory usage: 104.2 KB\n"
     ]
    }
   ],
   "source": [
    "df[\"balcony\"].info()"
   ]
  },
  {
   "cell_type": "code",
   "execution_count": 339,
   "id": "e1961baf",
   "metadata": {},
   "outputs": [
    {
     "data": {
      "text/plain": [
       "0"
      ]
     },
     "execution_count": 339,
     "metadata": {},
     "output_type": "execute_result"
    }
   ],
   "source": [
    "# since there in no any outlier in this feature so we can fill missing value by its mean :\n",
    "\n",
    "df[\"balcony\"].fillna(df['balcony'].mean(),inplace=True)\n",
    "df[\"balcony\"].isna().sum()"
   ]
  },
  {
   "cell_type": "markdown",
   "id": "b841664b",
   "metadata": {},
   "source": [
    "### site_location"
   ]
  },
  {
   "cell_type": "code",
   "execution_count": 340,
   "id": "8847b81d",
   "metadata": {},
   "outputs": [
    {
     "data": {
      "text/plain": [
       "0"
      ]
     },
     "execution_count": 340,
     "metadata": {},
     "output_type": "execute_result"
    }
   ],
   "source": [
    "# since this is categorical column so we can replace missing value by its mode\n",
    "df[\"site_location\"].fillna(df[\"site_location\"].mode()[0],inplace=True)\n",
    "df['site_location'].isna().sum()"
   ]
  },
  {
   "cell_type": "code",
   "execution_count": 341,
   "id": "ec3b905e",
   "metadata": {},
   "outputs": [
    {
     "name": "stdout",
     "output_type": "stream",
     "text": [
      "<class 'pandas.core.frame.DataFrame'>\n",
      "RangeIndex: 13320 entries, 0 to 13319\n",
      "Data columns (total 9 columns):\n",
      " #   Column         Non-Null Count  Dtype  \n",
      "---  ------         --------------  -----  \n",
      " 0   area_type      13320 non-null  object \n",
      " 1   availability   13320 non-null  object \n",
      " 2   size           13320 non-null  object \n",
      " 3   society        7818 non-null   object \n",
      " 4   total_sqft     13319 non-null  float64\n",
      " 5   bath           13320 non-null  float64\n",
      " 6   balcony        13320 non-null  float64\n",
      " 7   price          13320 non-null  float64\n",
      " 8   site_location  13320 non-null  object \n",
      "dtypes: float64(4), object(5)\n",
      "memory usage: 936.7+ KB\n"
     ]
    }
   ],
   "source": [
    "df.info()"
   ]
  },
  {
   "cell_type": "markdown",
   "id": "363c30ae",
   "metadata": {},
   "source": [
    "# ENCODING :"
   ]
  },
  {
   "cell_type": "code",
   "execution_count": 342,
   "id": "ff6b14b9",
   "metadata": {},
   "outputs": [
    {
     "data": {
      "text/plain": [
       "Ready To Move    10581\n",
       "18-Dec             307\n",
       "18-May             295\n",
       "18-Apr             271\n",
       "18-Aug             200\n",
       "19-Dec             185\n",
       "18-Jul             143\n",
       "18-Mar             131\n",
       "18-Jun              99\n",
       "20-Dec              98\n",
       "21-Dec              93\n",
       "19-Mar              88\n",
       "18-Feb              62\n",
       "18-Nov              47\n",
       "18-Jan              43\n",
       "18-Sep              41\n",
       "19-Jun              40\n",
       "18-Oct              39\n",
       "19-Jan              39\n",
       "19-Jul              36\n",
       "17-Dec              29\n",
       "20-Jan              24\n",
       "17-Oct              21\n",
       "19-Sep              21\n",
       "22-Jun              19\n",
       "19-Aug              18\n",
       "21-Jun              17\n",
       "19-Apr              16\n",
       "20-Aug              16\n",
       "19-Oct              15\n",
       "21-Mar              14\n",
       "17-Jun              13\n",
       "21-May              12\n",
       "17-Jul              12\n",
       "17-Nov              12\n",
       "21-Jan              12\n",
       "20-Jun              11\n",
       "17-Sep              11\n",
       "22-Dec              11\n",
       "22-May              10\n",
       "17-Aug               9\n",
       "19-May               9\n",
       "21-Jul               8\n",
       "17-May               8\n",
       "19-Nov               7\n",
       "17-Apr               7\n",
       "20-Oct               7\n",
       "21-Feb               6\n",
       "21-Oct               6\n",
       "22-Jan               6\n",
       "Name: availability, dtype: int64"
      ]
     },
     "execution_count": 342,
     "metadata": {},
     "output_type": "execute_result"
    }
   ],
   "source": [
    "df[\"availability\"].replace(\"Immediate Possession\",np.nan,inplace=True)\n",
    "df[\"availability\"].value_counts().head(50)"
   ]
  },
  {
   "cell_type": "code",
   "execution_count": 1,
   "id": "bedbadcf",
   "metadata": {},
   "outputs": [
    {
     "ename": "NameError",
     "evalue": "name 'df' is not defined",
     "output_type": "error",
     "traceback": [
      "\u001b[1;31m---------------------------------------------------------------------------\u001b[0m",
      "\u001b[1;31mNameError\u001b[0m                                 Traceback (most recent call last)",
      "\u001b[1;32m~\\AppData\\Local\\Temp\\ipykernel_12840\\2047451565.py\u001b[0m in \u001b[0;36m<module>\u001b[1;34m\u001b[0m\n\u001b[1;32m----> 1\u001b[1;33m \u001b[0mcount\u001b[0m \u001b[1;33m=\u001b[0m \u001b[0mdf\u001b[0m\u001b[1;33m[\u001b[0m\u001b[1;34m\"availability\"\u001b[0m\u001b[1;33m]\u001b[0m\u001b[1;33m.\u001b[0m\u001b[0mvalue_counts\u001b[0m\u001b[1;33m(\u001b[0m\u001b[1;33m)\u001b[0m\u001b[1;33m\u001b[0m\u001b[1;33m\u001b[0m\u001b[0m\n\u001b[0m\u001b[0;32m      2\u001b[0m \u001b[0mthreshold\u001b[0m \u001b[1;33m=\u001b[0m \u001b[1;36m10000\u001b[0m\u001b[1;33m\u001b[0m\u001b[1;33m\u001b[0m\u001b[0m\n\u001b[0;32m      3\u001b[0m \u001b[0muncommon_dates\u001b[0m \u001b[1;33m=\u001b[0m \u001b[0mcount\u001b[0m\u001b[1;33m[\u001b[0m\u001b[0mcount\u001b[0m \u001b[1;33m<=\u001b[0m \u001b[0mthreshold\u001b[0m\u001b[1;33m]\u001b[0m\u001b[1;33m.\u001b[0m\u001b[0mindex\u001b[0m\u001b[1;33m\u001b[0m\u001b[1;33m\u001b[0m\u001b[0m\n\u001b[0;32m      4\u001b[0m \u001b[0mdf\u001b[0m\u001b[1;33m[\u001b[0m\u001b[1;34m\"availability\"\u001b[0m\u001b[1;33m]\u001b[0m\u001b[1;33m.\u001b[0m\u001b[0mreplace\u001b[0m\u001b[1;33m(\u001b[0m\u001b[0muncommon_dates\u001b[0m\u001b[1;33m,\u001b[0m\u001b[1;34m\"available_dates\"\u001b[0m\u001b[1;33m,\u001b[0m\u001b[0minplace\u001b[0m\u001b[1;33m=\u001b[0m\u001b[1;32mTrue\u001b[0m\u001b[1;33m)\u001b[0m\u001b[1;33m\u001b[0m\u001b[1;33m\u001b[0m\u001b[0m\n\u001b[0;32m      5\u001b[0m \u001b[0muncommon_dates\u001b[0m\u001b[1;33m\u001b[0m\u001b[1;33m\u001b[0m\u001b[0m\n",
      "\u001b[1;31mNameError\u001b[0m: name 'df' is not defined"
     ]
    }
   ],
   "source": [
    "count = df[\"availability\"].value_counts()\n",
    "threshold = 10000\n",
    "uncommon_dates = count[count <= threshold].index\n",
    "df[\"availability\"].replace(uncommon_dates,\"available_dates\",inplace=True)\n",
    "uncommon_dates"
   ]
  },
  {
   "cell_type": "code",
   "execution_count": 344,
   "id": "5e38180b",
   "metadata": {},
   "outputs": [
    {
     "data": {
      "text/plain": [
       "Ready To Move           10581\n",
       "available_dates          2723\n",
       "Immediate Possession       16\n",
       "Name: availability, dtype: int64"
      ]
     },
     "execution_count": 344,
     "metadata": {},
     "output_type": "execute_result"
    }
   ],
   "source": [
    "df[\"availability\"].replace(np.nan,\"Immediate Possession\",inplace=True)\n",
    "df[\"availability\"].value_counts()"
   ]
  },
  {
   "cell_type": "code",
   "execution_count": 345,
   "id": "99de8d07",
   "metadata": {},
   "outputs": [
    {
     "data": {
      "text/plain": [
       "0"
      ]
     },
     "execution_count": 345,
     "metadata": {},
     "output_type": "execute_result"
    }
   ],
   "source": [
    "df[\"availability\"].isna().sum()"
   ]
  },
  {
   "cell_type": "code",
   "execution_count": 346,
   "id": "7e037258",
   "metadata": {},
   "outputs": [
    {
     "data": {
      "text/plain": [
       "2 BHK         5215\n",
       "3 BHK         4310\n",
       "4 Bedroom      826\n",
       "4 BHK          591\n",
       "3 Bedroom      547\n",
       "1 BHK          538\n",
       "2 Bedroom      329\n",
       "5 Bedroom      297\n",
       "6 Bedroom      191\n",
       "1 Bedroom      105\n",
       "8 Bedroom       84\n",
       "7 Bedroom       83\n",
       "5 BHK           59\n",
       "9 Bedroom       46\n",
       "6 BHK           30\n",
       "7 BHK           17\n",
       "1 RK            13\n",
       "10 Bedroom      12\n",
       "9 BHK            8\n",
       "8 BHK            5\n",
       "11 BHK           2\n",
       "11 Bedroom       2\n",
       "10 BHK           2\n",
       "14 BHK           1\n",
       "13 BHK           1\n",
       "12 Bedroom       1\n",
       "27 BHK           1\n",
       "43 Bedroom       1\n",
       "16 BHK           1\n",
       "19 BHK           1\n",
       "18 Bedroom       1\n",
       "Name: size, dtype: int64"
      ]
     },
     "execution_count": 346,
     "metadata": {},
     "output_type": "execute_result"
    }
   ],
   "source": [
    "df[\"size\"].value_counts()"
   ]
  },
  {
   "cell_type": "code",
   "execution_count": 347,
   "id": "649fdef6",
   "metadata": {},
   "outputs": [
    {
     "data": {
      "text/plain": [
       "Alandi Road            140\n",
       "Kalyani Nagar          139\n",
       "Mahatma Gandhi Road    139\n",
       "Lulla Nagar            139\n",
       "Laxmi Road             139\n",
       "                      ... \n",
       "Sadashiv Peth          138\n",
       "Raviwar Peth           138\n",
       "Rasta Peth             138\n",
       "Ghorpadi               138\n",
       "other                    1\n",
       "Name: site_location, Length: 97, dtype: int64"
      ]
     },
     "execution_count": 347,
     "metadata": {},
     "output_type": "execute_result"
    }
   ],
   "source": [
    "# one hot encoding :\n",
    "df[\"area_type\"].value_counts()\n",
    "df[\"availability\"].value_counts()\n",
    "df[\"size\"].value_counts()\n",
    "\n",
    "count = df[\"size\"].value_counts()\n",
    "threshold = 100\n",
    "uncommon_size = count[count <= threshold].index\n",
    "df[\"size\"].replace(uncommon_size,\"uncommon_size\",inplace=True)\n",
    "df[\"size\"].value_counts()\n",
    "df[\"site_location\"].value_counts()"
   ]
  },
  {
   "cell_type": "code",
   "execution_count": 348,
   "id": "dc4aa3bd",
   "metadata": {},
   "outputs": [
    {
     "data": {
      "text/plain": [
       "area_type           0\n",
       "availability        0\n",
       "size                0\n",
       "society          5502\n",
       "total_sqft          1\n",
       "bath                0\n",
       "balcony             0\n",
       "price               0\n",
       "site_location       0\n",
       "dtype: int64"
      ]
     },
     "execution_count": 348,
     "metadata": {},
     "output_type": "execute_result"
    }
   ],
   "source": [
    "df.isna().sum()"
   ]
  },
  {
   "cell_type": "code",
   "execution_count": 349,
   "id": "29a3ec66",
   "metadata": {},
   "outputs": [
    {
     "data": {
      "text/plain": [
       "area_type        0\n",
       "availability     0\n",
       "size             0\n",
       "total_sqft       0\n",
       "bath             0\n",
       "balcony          0\n",
       "price            0\n",
       "site_location    0\n",
       "dtype: int64"
      ]
     },
     "execution_count": 349,
     "metadata": {},
     "output_type": "execute_result"
    }
   ],
   "source": [
    "df=df.drop(\"society\",axis=1)\n",
    "df.dropna(inplace=True)\n",
    "df.isna().sum()"
   ]
  },
  {
   "cell_type": "code",
   "execution_count": 350,
   "id": "5dcac9a1",
   "metadata": {},
   "outputs": [
    {
     "data": {
      "text/html": [
       "<div>\n",
       "<style scoped>\n",
       "    .dataframe tbody tr th:only-of-type {\n",
       "        vertical-align: middle;\n",
       "    }\n",
       "\n",
       "    .dataframe tbody tr th {\n",
       "        vertical-align: top;\n",
       "    }\n",
       "\n",
       "    .dataframe thead th {\n",
       "        text-align: right;\n",
       "    }\n",
       "</style>\n",
       "<table border=\"1\" class=\"dataframe\">\n",
       "  <thead>\n",
       "    <tr style=\"text-align: right;\">\n",
       "      <th></th>\n",
       "      <th>area_type</th>\n",
       "      <th>availability</th>\n",
       "      <th>size</th>\n",
       "      <th>total_sqft</th>\n",
       "      <th>bath</th>\n",
       "      <th>balcony</th>\n",
       "      <th>price</th>\n",
       "      <th>site_location</th>\n",
       "    </tr>\n",
       "  </thead>\n",
       "  <tbody>\n",
       "    <tr>\n",
       "      <th>0</th>\n",
       "      <td>Super built-up  Area</td>\n",
       "      <td>available_dates</td>\n",
       "      <td>2 BHK</td>\n",
       "      <td>1056.0</td>\n",
       "      <td>2.0</td>\n",
       "      <td>1.0</td>\n",
       "      <td>39.07</td>\n",
       "      <td>Alandi Road</td>\n",
       "    </tr>\n",
       "    <tr>\n",
       "      <th>1</th>\n",
       "      <td>Plot  Area</td>\n",
       "      <td>Ready To Move</td>\n",
       "      <td>4 Bedroom</td>\n",
       "      <td>2600.0</td>\n",
       "      <td>5.0</td>\n",
       "      <td>3.0</td>\n",
       "      <td>120.00</td>\n",
       "      <td>Ambegaon Budruk</td>\n",
       "    </tr>\n",
       "  </tbody>\n",
       "</table>\n",
       "</div>"
      ],
      "text/plain": [
       "              area_type     availability       size  total_sqft  bath  \\\n",
       "0  Super built-up  Area  available_dates      2 BHK      1056.0   2.0   \n",
       "1            Plot  Area    Ready To Move  4 Bedroom      2600.0   5.0   \n",
       "\n",
       "   balcony   price    site_location  \n",
       "0      1.0   39.07      Alandi Road  \n",
       "1      3.0  120.00  Ambegaon Budruk  "
      ]
     },
     "execution_count": 350,
     "metadata": {},
     "output_type": "execute_result"
    }
   ],
   "source": [
    "df.head(2)"
   ]
  },
  {
   "cell_type": "markdown",
   "id": "ffd59132",
   "metadata": {},
   "source": [
    "### Handling the outliers :"
   ]
  },
  {
   "cell_type": "code",
   "execution_count": 351,
   "id": "8b5563cd",
   "metadata": {},
   "outputs": [
    {
     "data": {
      "image/png": "[encoded data removed]",
      "text/plain": [
       "<Figure size 640x480 with 1 Axes>"
      ]
     },
     "metadata": {},
     "output_type": "display_data"
    }
   ],
   "source": [
    "df[[\"total_sqft\"]].boxplot()\n",
    "plt.show()"
   ]
  },
  {
   "cell_type": "code",
   "execution_count": 352,
   "id": "781685ed",
   "metadata": {},
   "outputs": [],
   "source": [
    "# Total_sqft\n",
    "total_sqft_q1=df[\"total_sqft\"].quantile(0.25)\n",
    "total_sqft_q3=df[\"total_sqft\"].quantile(0.75)\n",
    "\n",
    "total_sqft_iqr = total_sqft_q3-total_sqft_q1\n",
    "\n",
    "total_sqft_upper_tail = total_sqft_q3 + 1.5 * total_sqft_iqr\n",
    "total_sqft_lower_tail = total_sqft_q1 - 1.5 * total_sqft_iqr\n",
    "\n",
    "df[\"total_sqft\"].loc[df[\"total_sqft\"]> total_sqft_upper_tail] = total_sqft_upper_tail\n",
    "df[\"total_sqft\"].loc[df[\"total_sqft\"]< total_sqft_lower_tail] = total_sqft_lower_tail"
   ]
  },
  {
   "cell_type": "code",
   "execution_count": 353,
   "id": "b0868f4e",
   "metadata": {},
   "outputs": [
    {
     "data": {
      "image/png": "[encoded data removed]",
      "text/plain": [
       "<Figure size 640x480 with 1 Axes>"
      ]
     },
     "metadata": {},
     "output_type": "display_data"
    }
   ],
   "source": [
    "df[[\"bath\"]].boxplot()\n",
    "plt.show()"
   ]
  },
  {
   "cell_type": "code",
   "execution_count": 354,
   "id": "2f5055cb",
   "metadata": {},
   "outputs": [],
   "source": [
    "# bath\n",
    "bath_q1=df[\"bath\"].quantile(0.25)\n",
    "bath_q3=df[\"bath\"].quantile(0.75)\n",
    "\n",
    "bath_iqr = bath_q3-bath_q1\n",
    "\n",
    "bath_upper_tail = bath_q3 + 1.5 * bath_iqr\n",
    "\n",
    "df[\"bath\"].loc[df[\"bath\"]> bath_upper_tail] = bath_upper_tail"
   ]
  },
  {
   "cell_type": "code",
   "execution_count": 355,
   "id": "f0edb469",
   "metadata": {},
   "outputs": [
    {
     "data": {
      "image/png": "[encoded data removed]",
      "text/plain": [
       "<Figure size 640x480 with 1 Axes>"
      ]
     },
     "metadata": {},
     "output_type": "display_data"
    }
   ],
   "source": [
    "df[[\"price\"]].boxplot()\n",
    "plt.show()"
   ]
  },
  {
   "cell_type": "code",
   "execution_count": 356,
   "id": "787c16bd",
   "metadata": {},
   "outputs": [],
   "source": [
    "# price\n",
    "price_q1=df[\"price\"].quantile(0.25)\n",
    "price_q3=df[\"price\"].quantile(0.75)\n",
    "\n",
    "price_iqr = price_q3-price_q1\n",
    "\n",
    "price_upper_tail = price_q3 + 1.5 * price_iqr\n",
    "\n",
    "df[\"price\"].loc[df[\"price\"]> price_upper_tail] = price_upper_tail"
   ]
  },
  {
   "cell_type": "markdown",
   "id": "3b721022",
   "metadata": {},
   "source": [
    "# checking correlation :"
   ]
  },
  {
   "cell_type": "code",
   "execution_count": 357,
   "id": "6bee7cc3",
   "metadata": {},
   "outputs": [
    {
     "data": {
      "text/html": [
       "<div>\n",
       "<style scoped>\n",
       "    .dataframe tbody tr th:only-of-type {\n",
       "        vertical-align: middle;\n",
       "    }\n",
       "\n",
       "    .dataframe tbody tr th {\n",
       "        vertical-align: top;\n",
       "    }\n",
       "\n",
       "    .dataframe thead th {\n",
       "        text-align: right;\n",
       "    }\n",
       "</style>\n",
       "<table border=\"1\" class=\"dataframe\">\n",
       "  <thead>\n",
       "    <tr style=\"text-align: right;\">\n",
       "      <th></th>\n",
       "      <th>total_sqft</th>\n",
       "      <th>bath</th>\n",
       "      <th>balcony</th>\n",
       "      <th>price</th>\n",
       "    </tr>\n",
       "  </thead>\n",
       "  <tbody>\n",
       "    <tr>\n",
       "      <th>price</th>\n",
       "      <td>0.75618</td>\n",
       "      <td>0.707133</td>\n",
       "      <td>0.16379</td>\n",
       "      <td>1.0</td>\n",
       "    </tr>\n",
       "  </tbody>\n",
       "</table>\n",
       "</div>"
      ],
      "text/plain": [
       "       total_sqft      bath  balcony  price\n",
       "price     0.75618  0.707133  0.16379    1.0"
      ]
     },
     "execution_count": 357,
     "metadata": {},
     "output_type": "execute_result"
    }
   ],
   "source": [
    "df.corr().tail(1)"
   ]
  },
  {
   "cell_type": "code",
   "execution_count": 358,
   "id": "96b05ed3",
   "metadata": {},
   "outputs": [
    {
     "data": {
      "image/png": "[encoded data removed]",
      "text/plain": [
       "<Figure size 2000x200 with 2 Axes>"
      ]
     },
     "metadata": {},
     "output_type": "display_data"
    }
   ],
   "source": [
    "plt.figure(figsize=(20,2))\n",
    "sns.heatmap(df.corr().tail(1),annot=True)\n",
    "plt.show()"
   ]
  },
  {
   "cell_type": "code",
   "execution_count": 359,
   "id": "8e2a16f0",
   "metadata": {},
   "outputs": [
    {
     "data": {
      "text/plain": [
       "(13319, 8)"
      ]
     },
     "execution_count": 359,
     "metadata": {},
     "output_type": "execute_result"
    }
   ],
   "source": [
    "df.shape"
   ]
  },
  {
   "cell_type": "code",
   "execution_count": 360,
   "id": "90cc44fe",
   "metadata": {},
   "outputs": [],
   "source": [
    "numeric_df = df[[\"total_sqft\",\"bath\",\"balcony\"]]"
   ]
  },
  {
   "cell_type": "code",
   "execution_count": 361,
   "id": "ed1e7abe",
   "metadata": {},
   "outputs": [],
   "source": [
    "df = pd.get_dummies(data=df,columns=[\"area_type\",\"availability\",\"size\",\"site_location\"])"
   ]
  },
  {
   "cell_type": "code",
   "execution_count": 362,
   "id": "3684a4cf",
   "metadata": {},
   "outputs": [],
   "source": [
    "x=df.drop(\"price\",axis=1)\n",
    "y=df[\"price\"]"
   ]
  },
  {
   "cell_type": "code",
   "execution_count": 363,
   "id": "2fa725df",
   "metadata": {},
   "outputs": [
    {
     "data": {
      "image/png": "[encoded data removed]",
      "text/plain": [
       "<Figure size 640x480 with 1 Axes>"
      ]
     },
     "metadata": {},
     "output_type": "display_data"
    }
   ],
   "source": [
    "vif_list = []\n",
    "for i in range(numeric_df.shape[1]):\n",
    "    vif = variance_inflation_factor(numeric_df,i)\n",
    "    vif_list.append(vif)\n",
    "series = pd.Series(vif_list,index=numeric_df.columns)\n",
    "series.sort_values().plot(kind='barh')\n",
    "plt.show()"
   ]
  },
  {
   "cell_type": "code",
   "execution_count": 364,
   "id": "e2b2456c",
   "metadata": {},
   "outputs": [
    {
     "data": {
      "text/html": [
       "<div>\n",
       "<style scoped>\n",
       "    .dataframe tbody tr th:only-of-type {\n",
       "        vertical-align: middle;\n",
       "    }\n",
       "\n",
       "    .dataframe tbody tr th {\n",
       "        vertical-align: top;\n",
       "    }\n",
       "\n",
       "    .dataframe thead th {\n",
       "        text-align: right;\n",
       "    }\n",
       "</style>\n",
       "<table border=\"1\" class=\"dataframe\">\n",
       "  <thead>\n",
       "    <tr style=\"text-align: right;\">\n",
       "      <th></th>\n",
       "      <th>total_sqft</th>\n",
       "      <th>bath</th>\n",
       "      <th>balcony</th>\n",
       "      <th>area_type_Built-up  Area</th>\n",
       "      <th>area_type_Carpet  Area</th>\n",
       "      <th>area_type_Plot  Area</th>\n",
       "      <th>area_type_Super built-up  Area</th>\n",
       "      <th>availability_Immediate Possession</th>\n",
       "      <th>availability_Ready To Move</th>\n",
       "      <th>availability_available_dates</th>\n",
       "      <th>...</th>\n",
       "      <th>site_location_Vadgaon Budruk</th>\n",
       "      <th>site_location_Viman Nagar</th>\n",
       "      <th>site_location_Vishrant Wadi</th>\n",
       "      <th>site_location_Wadgaon Sheri</th>\n",
       "      <th>site_location_Wagholi</th>\n",
       "      <th>site_location_Wakadewadi</th>\n",
       "      <th>site_location_Wanowrie</th>\n",
       "      <th>site_location_Warje</th>\n",
       "      <th>site_location_Yerawada</th>\n",
       "      <th>site_location_other</th>\n",
       "    </tr>\n",
       "  </thead>\n",
       "  <tbody>\n",
       "    <tr>\n",
       "      <th>6161</th>\n",
       "      <td>1762.0</td>\n",
       "      <td>3.0</td>\n",
       "      <td>2.0</td>\n",
       "      <td>0</td>\n",
       "      <td>0</td>\n",
       "      <td>0</td>\n",
       "      <td>1</td>\n",
       "      <td>0</td>\n",
       "      <td>1</td>\n",
       "      <td>0</td>\n",
       "      <td>...</td>\n",
       "      <td>0</td>\n",
       "      <td>0</td>\n",
       "      <td>0</td>\n",
       "      <td>0</td>\n",
       "      <td>0</td>\n",
       "      <td>0</td>\n",
       "      <td>0</td>\n",
       "      <td>0</td>\n",
       "      <td>0</td>\n",
       "      <td>0</td>\n",
       "    </tr>\n",
       "    <tr>\n",
       "      <th>6985</th>\n",
       "      <td>1200.0</td>\n",
       "      <td>4.0</td>\n",
       "      <td>2.0</td>\n",
       "      <td>0</td>\n",
       "      <td>0</td>\n",
       "      <td>1</td>\n",
       "      <td>0</td>\n",
       "      <td>0</td>\n",
       "      <td>1</td>\n",
       "      <td>0</td>\n",
       "      <td>...</td>\n",
       "      <td>0</td>\n",
       "      <td>0</td>\n",
       "      <td>0</td>\n",
       "      <td>0</td>\n",
       "      <td>0</td>\n",
       "      <td>0</td>\n",
       "      <td>0</td>\n",
       "      <td>0</td>\n",
       "      <td>0</td>\n",
       "      <td>0</td>\n",
       "    </tr>\n",
       "  </tbody>\n",
       "</table>\n",
       "<p>2 rows × 118 columns</p>\n",
       "</div>"
      ],
      "text/plain": [
       "      total_sqft  bath  balcony  area_type_Built-up  Area  \\\n",
       "6161      1762.0   3.0      2.0                         0   \n",
       "6985      1200.0   4.0      2.0                         0   \n",
       "\n",
       "      area_type_Carpet  Area  area_type_Plot  Area  \\\n",
       "6161                       0                     0   \n",
       "6985                       0                     1   \n",
       "\n",
       "      area_type_Super built-up  Area  availability_Immediate Possession  \\\n",
       "6161                               1                                  0   \n",
       "6985                               0                                  0   \n",
       "\n",
       "      availability_Ready To Move  availability_available_dates  ...  \\\n",
       "6161                           1                             0  ...   \n",
       "6985                           1                             0  ...   \n",
       "\n",
       "      site_location_Vadgaon Budruk  site_location_Viman Nagar  \\\n",
       "6161                             0                          0   \n",
       "6985                             0                          0   \n",
       "\n",
       "      site_location_Vishrant Wadi  site_location_Wadgaon Sheri  \\\n",
       "6161                            0                            0   \n",
       "6985                            0                            0   \n",
       "\n",
       "      site_location_Wagholi  site_location_Wakadewadi  site_location_Wanowrie  \\\n",
       "6161                      0                         0                       0   \n",
       "6985                      0                         0                       0   \n",
       "\n",
       "      site_location_Warje  site_location_Yerawada  site_location_other  \n",
       "6161                    0                       0                    0  \n",
       "6985                    0                       0                    0  \n",
       "\n",
       "[2 rows x 118 columns]"
      ]
     },
     "execution_count": 364,
     "metadata": {},
     "output_type": "execute_result"
    }
   ],
   "source": [
    "x_train,x_test,y_train,y_test = train_test_split(x,y,test_size=0.25,random_state=10)\n",
    "x_train.head(2)"
   ]
  },
  {
   "cell_type": "markdown",
   "id": "f1a9f6ea",
   "metadata": {},
   "source": [
    "# Model building and trainig :"
   ]
  },
  {
   "cell_type": "code",
   "execution_count": 365,
   "id": "1c42560e",
   "metadata": {},
   "outputs": [
    {
     "data": {
      "text/plain": [
       "LinearRegression()"
      ]
     },
     "execution_count": 365,
     "metadata": {},
     "output_type": "execute_result"
    }
   ],
   "source": [
    "model = LinearRegression()\n",
    "model.fit(x_train,y_train)"
   ]
  },
  {
   "cell_type": "markdown",
   "id": "9a61665b",
   "metadata": {},
   "source": [
    "### model evaluation on trainig data"
   ]
  },
  {
   "cell_type": "code",
   "execution_count": 366,
   "id": "b0f50bde",
   "metadata": {},
   "outputs": [],
   "source": [
    "y_pred_train = model.predict(x_train)"
   ]
  },
  {
   "cell_type": "code",
   "execution_count": 367,
   "id": "8ed7d7ab",
   "metadata": {},
   "outputs": [],
   "source": [
    "Residual = y_train - y_pred_train"
   ]
  },
  {
   "cell_type": "code",
   "execution_count": 368,
   "id": "757235bf",
   "metadata": {},
   "outputs": [
    {
     "name": "stdout",
     "output_type": "stream",
     "text": [
      "mse of train is : 999.4531556030621\n",
      "RMSE of train is : 31.614129050205733\n",
      "MAE of train 22.252061677299373\n",
      "Training Accuracy is : 0.7202065061321478\n"
     ]
    }
   ],
   "source": [
    "# evlalution metrics on training data :\n",
    "\n",
    "MSE_train = mean_squared_error(y_train,y_pred_train)\n",
    "print(\"mse of train is :\",MSE_train)\n",
    "RMSE_train = np.sqrt(MSE_train)\n",
    "print(\"RMSE of train is :\",RMSE_train)\n",
    "MAE_train = mean_absolute_error(y_train,y_pred_train)\n",
    "print(\"MAE of train\",MAE_train)\n",
    "R2_score = r2_score(y_train,y_pred_train)\n",
    "print(\"Training Accuracy is :\",R2_score)"
   ]
  },
  {
   "cell_type": "code",
   "execution_count": null,
   "id": "26e82bf6",
   "metadata": {},
   "outputs": [],
   "source": []
  },
  {
   "cell_type": "code",
   "execution_count": null,
   "id": "96aa0ac1",
   "metadata": {},
   "outputs": [],
   "source": []
  },
  {
   "cell_type": "code",
   "execution_count": 369,
   "id": "f61defae",
   "metadata": {},
   "outputs": [],
   "source": [
    "y_pred_test = model.predict(x_test)"
   ]
  },
  {
   "cell_type": "code",
   "execution_count": 370,
   "id": "7dae1c0a",
   "metadata": {},
   "outputs": [
    {
     "name": "stdout",
     "output_type": "stream",
     "text": [
      "mse of test is : 1075.7544269002472\n",
      "RMSE of test is : 32.79869550607535\n",
      "MAE of test 22.803019391171564\n",
      "Testing Accuracy is : 0.6963630745094778\n"
     ]
    }
   ],
   "source": [
    "# evlalution metrics on testing data :\n",
    "\n",
    "MSE_test = mean_squared_error(y_test,y_pred_test)\n",
    "print(\"mse of test is :\",MSE_test)\n",
    "RMSE_test = np.sqrt(MSE_test)\n",
    "print(\"RMSE of test is :\",RMSE_test)\n",
    "MAE_test = mean_absolute_error(y_test,y_pred_test)\n",
    "print(\"MAE of test\",MAE_test)\n",
    "R2_score_test = r2_score(y_test,y_pred_test)\n",
    "print(\"Testing Accuracy is :\",R2_score_test)"
   ]
  },
  {
   "cell_type": "code",
   "execution_count": null,
   "id": "76639ea4",
   "metadata": {},
   "outputs": [],
   "source": []
  },
  {
   "cell_type": "markdown",
   "id": "bcbaf2b4",
   "metadata": {},
   "source": [
    "# normallity of residual :"
   ]
  },
  {
   "cell_type": "code",
   "execution_count": 371,
   "id": "95d9cba2",
   "metadata": {},
   "outputs": [],
   "source": [
    "Residual = y_train - y_pred_train"
   ]
  },
  {
   "cell_type": "markdown",
   "id": "f0872026",
   "metadata": {},
   "source": [
    "#### 1) kde_plot:"
   ]
  },
  {
   "cell_type": "code",
   "execution_count": 372,
   "id": "c507d062",
   "metadata": {},
   "outputs": [
    {
     "data": {
      "image/png": "[encoded data removed]",
      "text/plain": [
       "<Figure size 500x300 with 1 Axes>"
      ]
     },
     "metadata": {},
     "output_type": "display_data"
    }
   ],
   "source": [
    "plt.figure(figsize=(5,3))\n",
    "sns.kdeplot(Residual)\n",
    "plt.show()"
   ]
  },
  {
   "cell_type": "markdown",
   "id": "78ad68ea",
   "metadata": {},
   "source": [
    "#### 2) shapiro test :"
   ]
  },
  {
   "cell_type": "code",
   "execution_count": 373,
   "id": "67091c1f",
   "metadata": {},
   "outputs": [
    {
     "name": "stdout",
     "output_type": "stream",
     "text": [
      "evidence is false null hypothesis rejected and alternate hypothesis get accepted\n",
      "conclusion residual are not follows normallity\n"
     ]
    }
   ],
   "source": [
    "_,p_val = shapiro(Residual)\n",
    "if p_val >= 0.05:\n",
    "    print(\"evidence is true and null hypothesis get accepted\")\n",
    "    print(\"conclusion data is normally distributed\")\n",
    "else:\n",
    "    print(\"evidence is false null hypothesis rejected and alternate hypothesis get accepted\")\n",
    "    print(\"conclusion residual are not follows normallity\")"
   ]
  },
  {
   "cell_type": "markdown",
   "id": "c8b8cff5",
   "metadata": {},
   "source": [
    "#### ks test :"
   ]
  },
  {
   "cell_type": "code",
   "execution_count": 374,
   "id": "c5495f25",
   "metadata": {},
   "outputs": [
    {
     "name": "stdout",
     "output_type": "stream",
     "text": [
      "evidence is false null hypothesis rejected and alternate hypothesis get accepted\n",
      "conclusion residual are not follows normallity\n"
     ]
    }
   ],
   "source": [
    "_,p_val = kstest(Residual,'norm')\n",
    "if p_val >= 0.05:\n",
    "    print(\"evidence is true and null hypothesis get accepted\")\n",
    "    print(\"conclusion data is normally distributed\")\n",
    "else:\n",
    "    print(\"evidence is false null hypothesis rejected and alternate hypothesis get accepted\")\n",
    "    print(\"conclusion residual are not follows normallity\")"
   ]
  },
  {
   "cell_type": "markdown",
   "id": "cd8dd0dc",
   "metadata": {},
   "source": [
    "#### 4)normal test :"
   ]
  },
  {
   "cell_type": "code",
   "execution_count": 375,
   "id": "7b2ee99d",
   "metadata": {},
   "outputs": [
    {
     "name": "stdout",
     "output_type": "stream",
     "text": [
      "evidence is false null hypothesis rejected and alternate hypothesis get accepted\n",
      "conclusion residual are not follows normallity\n"
     ]
    }
   ],
   "source": [
    "_,p_val = normaltest(Residual)\n",
    "if p_val >= 0.05:\n",
    "    print(\"evidence is true and null hypothesis get accepted\")\n",
    "    print(\"conclusion data is normally distributed\")\n",
    "else:\n",
    "    print(\"evidence is false null hypothesis rejected and alternate hypothesis get accepted\")\n",
    "    print(\"conclusion residual are not follows normallity\")"
   ]
  },
  {
   "cell_type": "markdown",
   "id": "6a1a951b",
   "metadata": {},
   "source": [
    "#### qq plot :"
   ]
  },
  {
   "cell_type": "code",
   "execution_count": 376,
   "id": "484a482b",
   "metadata": {},
   "outputs": [
    {
     "data": {
      "image/png": "[encoded data removed]",
      "text/plain": [
       "<Figure size 640x480 with 1 Axes>"
      ]
     },
     "metadata": {},
     "output_type": "display_data"
    }
   ],
   "source": [
    "sm.qqplot(Residual,line='45',fit=True)\n",
    "plt.show()"
   ]
  },
  {
   "cell_type": "markdown",
   "id": "dce92e29",
   "metadata": {},
   "source": [
    "# homoscedasticity :"
   ]
  },
  {
   "cell_type": "code",
   "execution_count": 377,
   "id": "96029473",
   "metadata": {},
   "outputs": [
    {
     "data": {
      "image/png": "[encoded data removed]",
      "text/plain": [
       "<Figure size 640x480 with 1 Axes>"
      ]
     },
     "metadata": {},
     "output_type": "display_data"
    }
   ],
   "source": [
    "\n",
    "sns.scatterplot(x=y_train,y=Residual)\n",
    "plt.plot(y,[0]*len(y))\n",
    "plt.show()"
   ]
  },
  {
   "cell_type": "markdown",
   "id": "a57833d6",
   "metadata": {},
   "source": [
    "# apply regularization :"
   ]
  },
  {
   "cell_type": "markdown",
   "id": "95a67d3a",
   "metadata": {},
   "source": [
    "### Ridge Regularization :"
   ]
  },
  {
   "cell_type": "code",
   "execution_count": 378,
   "id": "d1cd6f01",
   "metadata": {},
   "outputs": [
    {
     "data": {
      "text/plain": [
       "Ridge()"
      ]
     },
     "execution_count": 378,
     "metadata": {},
     "output_type": "execute_result"
    }
   ],
   "source": [
    "ridge_model = Ridge()\n",
    "ridge_model.fit(x_train,y_train)"
   ]
  },
  {
   "cell_type": "code",
   "execution_count": 379,
   "id": "70948090",
   "metadata": {},
   "outputs": [],
   "source": [
    "ridge_y_pred_train = ridge_model.predict(x_train)"
   ]
  },
  {
   "cell_type": "code",
   "execution_count": 380,
   "id": "712f44b4",
   "metadata": {},
   "outputs": [
    {
     "name": "stdout",
     "output_type": "stream",
     "text": [
      "mse of train is : 999.46740190244\n",
      "RMSE of train is : 31.614354364788788\n",
      "MAE of train 22.251788278322575\n",
      "Training Accuracy is : 0.7202025179293439\n"
     ]
    }
   ],
   "source": [
    "# evlalution metrics on training data :\n",
    "\n",
    "MSE_train = mean_squared_error(y_train,ridge_y_pred_train)\n",
    "print(\"mse of train is :\",MSE_train)\n",
    "RMSE_train = np.sqrt(MSE_train)\n",
    "print(\"RMSE of train is :\",RMSE_train)\n",
    "MAE_train = mean_absolute_error(y_train,ridge_y_pred_train)\n",
    "print(\"MAE of train\",MAE_train)\n",
    "R2_score = r2_score(y_train,ridge_y_pred_train)\n",
    "print(\"Training Accuracy is :\",R2_score)"
   ]
  },
  {
   "cell_type": "code",
   "execution_count": 381,
   "id": "f1988b1b",
   "metadata": {},
   "outputs": [],
   "source": [
    "ridge_y_pred_test = ridge_model.predict(x_test)"
   ]
  },
  {
   "cell_type": "code",
   "execution_count": 382,
   "id": "66d273d7",
   "metadata": {},
   "outputs": [
    {
     "name": "stdout",
     "output_type": "stream",
     "text": [
      "mse of test is : 1075.8622277535917\n",
      "RMSE of test is : 32.80033883595704\n",
      "MAE of test 22.80300133323754\n",
      "Testing Accuracy is : 0.6963326471936737\n"
     ]
    }
   ],
   "source": [
    "# evlalution metrics on testing data :\n",
    "\n",
    "MSE_test = mean_squared_error(y_test,ridge_y_pred_test)\n",
    "print(\"mse of test is :\",MSE_test)\n",
    "RMSE_test = np.sqrt(MSE_test)\n",
    "print(\"RMSE of test is :\",RMSE_test)\n",
    "MAE_test = mean_absolute_error(y_test,ridge_y_pred_test)\n",
    "print(\"MAE of test\",MAE_test)\n",
    "R2_score_test = r2_score(y_test,ridge_y_pred_test)\n",
    "print(\"Testing Accuracy is :\",R2_score_test)"
   ]
  },
  {
   "cell_type": "markdown",
   "id": "945c8861",
   "metadata": {},
   "source": [
    "### Lasso :"
   ]
  },
  {
   "cell_type": "code",
   "execution_count": 383,
   "id": "9eb65ea8",
   "metadata": {},
   "outputs": [
    {
     "data": {
      "text/plain": [
       "Lasso()"
      ]
     },
     "execution_count": 383,
     "metadata": {},
     "output_type": "execute_result"
    }
   ],
   "source": [
    "lasso_model = Lasso()\n",
    "lasso_model.fit(x_train,y_train)"
   ]
  },
  {
   "cell_type": "code",
   "execution_count": 384,
   "id": "36650b5d",
   "metadata": {},
   "outputs": [],
   "source": [
    "lasso_y_train_pred = lasso_model.predict(x_train)"
   ]
  },
  {
   "cell_type": "code",
   "execution_count": 385,
   "id": "9dcfd60d",
   "metadata": {},
   "outputs": [
    {
     "name": "stdout",
     "output_type": "stream",
     "text": [
      "mse of train is : 1044.4527155197093\n",
      "RMSE of train is : 32.31799368029688\n",
      "MAE of train 23.072187401650975\n",
      "Training Accuracy is : 0.7076090331830556\n"
     ]
    }
   ],
   "source": [
    "# evlalution metrics on training data :\n",
    "\n",
    "MSE_train = mean_squared_error(y_train,lasso_y_train_pred)\n",
    "print(\"mse of train is :\",MSE_train)\n",
    "RMSE_train = np.sqrt(MSE_train)\n",
    "print(\"RMSE of train is :\",RMSE_train)\n",
    "MAE_train = mean_absolute_error(y_train,lasso_y_train_pred)\n",
    "print(\"MAE of train\",MAE_train)\n",
    "R2_score = r2_score(y_train,lasso_y_train_pred)\n",
    "print(\"Training Accuracy is :\",R2_score)"
   ]
  },
  {
   "cell_type": "code",
   "execution_count": 386,
   "id": "526ef764",
   "metadata": {},
   "outputs": [],
   "source": [
    "lasso_y_test_pred = lasso_model.predict(x_test)"
   ]
  },
  {
   "cell_type": "code",
   "execution_count": 387,
   "id": "0723fec5",
   "metadata": {},
   "outputs": [
    {
     "name": "stdout",
     "output_type": "stream",
     "text": [
      "mse of test is : 1102.8679752862308\n",
      "RMSE of test is : 33.2094561124724\n",
      "MAE of test 23.51412421595465\n",
      "Testing Accuracy is : 0.6887101434452936\n"
     ]
    }
   ],
   "source": [
    "# evlalution metrics on testing data :\n",
    "\n",
    "MSE_test = mean_squared_error(y_test,lasso_y_test_pred)\n",
    "print(\"mse of test is :\",MSE_test)\n",
    "RMSE_test = np.sqrt(MSE_test)\n",
    "print(\"RMSE of test is :\",RMSE_test)\n",
    "MAE_test = mean_absolute_error(y_test,lasso_y_test_pred)\n",
    "print(\"MAE of test\",MAE_test)\n",
    "R2_score_test = r2_score(y_test,lasso_y_test_pred)\n",
    "print(\"Testing Accuracy is :\",R2_score_test)"
   ]
  },
  {
   "cell_type": "code",
   "execution_count": null,
   "id": "8ebc863b",
   "metadata": {},
   "outputs": [],
   "source": []
  },
  {
   "cell_type": "markdown",
   "id": "84e16fd9",
   "metadata": {},
   "source": [
    "# hyper parameter tunning :"
   ]
  },
  {
   "cell_type": "markdown",
   "id": "ace4ecd6",
   "metadata": {},
   "source": [
    "## Grid search cv for Ridge :"
   ]
  },
  {
   "cell_type": "code",
   "execution_count": 388,
   "id": "a61be99b",
   "metadata": {},
   "outputs": [
    {
     "data": {
      "text/plain": [
       "GridSearchCV(cv=5, estimator=Ridge(), n_jobs=-1,\n",
       "             param_grid={'alpha': array([0.01, 0.02, 0.03, 0.04, 0.05, 0.06, 0.07, 0.08, 0.09, 0.1 , 0.11,\n",
       "       0.12, 0.13, 0.14, 0.15, 0.16, 0.17, 0.18, 0.19, 0.2 , 0.21, 0.22,\n",
       "       0.23, 0.24, 0.25, 0.26, 0.27, 0.28, 0.29, 0.3 , 0.31, 0.32, 0.33,\n",
       "       0.34, 0.35, 0.36, 0.37, 0.38, 0.39, 0.4 , 0.41, 0.42, 0.43, 0.44,\n",
       "       0.45, 0.46, 0.47, 0.48, 0.49, 0.5 , 0.51, 0.52, 0.53, 0.54, 0.55,\n",
       "       0.56, 0....\n",
       "       2.21, 2.22, 2.23, 2.24, 2.25, 2.26, 2.27, 2.28, 2.29, 2.3 , 2.31,\n",
       "       2.32, 2.33, 2.34, 2.35, 2.36, 2.37, 2.38, 2.39, 2.4 , 2.41, 2.42,\n",
       "       2.43, 2.44, 2.45, 2.46, 2.47, 2.48, 2.49, 2.5 , 2.51, 2.52, 2.53,\n",
       "       2.54, 2.55, 2.56, 2.57, 2.58, 2.59, 2.6 , 2.61, 2.62, 2.63, 2.64,\n",
       "       2.65, 2.66, 2.67, 2.68, 2.69, 2.7 , 2.71, 2.72, 2.73, 2.74, 2.75,\n",
       "       2.76, 2.77, 2.78, 2.79, 2.8 , 2.81, 2.82, 2.83, 2.84, 2.85, 2.86,\n",
       "       2.87, 2.88, 2.89, 2.9 , 2.91, 2.92, 2.93, 2.94, 2.95, 2.96, 2.97,\n",
       "       2.98, 2.99])})"
      ]
     },
     "execution_count": 388,
     "metadata": {},
     "output_type": "execute_result"
    }
   ],
   "source": [
    "param_grid = {\"alpha\":np.arange(0.01,3,0.01)}\n",
    "gscv_grid = GridSearchCV(ridge_model,param_grid,cv=5,n_jobs=-1)\n",
    "gscv_grid.fit(x_train,y_train)"
   ]
  },
  {
   "cell_type": "code",
   "execution_count": 389,
   "id": "f596dab0",
   "metadata": {},
   "outputs": [
    {
     "data": {
      "text/plain": [
       "Ridge(alpha=2.9899999999999998)"
      ]
     },
     "execution_count": 389,
     "metadata": {},
     "output_type": "execute_result"
    }
   ],
   "source": [
    "gscv_grid.best_estimator_"
   ]
  },
  {
   "cell_type": "code",
   "execution_count": 390,
   "id": "0d2295b3",
   "metadata": {},
   "outputs": [
    {
     "data": {
      "text/plain": [
       "Ridge(alpha=2.9899999999999998)"
      ]
     },
     "execution_count": 390,
     "metadata": {},
     "output_type": "execute_result"
    }
   ],
   "source": [
    "ridge_gs_model = Ridge(alpha=2.9899999999999998)\n",
    "ridge_gs_model.fit(x_train,y_train)"
   ]
  },
  {
   "cell_type": "code",
   "execution_count": 391,
   "id": "c50760a7",
   "metadata": {},
   "outputs": [],
   "source": [
    "y_pred_train_ridge = ridge_gs_model.predict(x_train)"
   ]
  },
  {
   "cell_type": "code",
   "execution_count": 392,
   "id": "ee0c80eb",
   "metadata": {},
   "outputs": [
    {
     "name": "stdout",
     "output_type": "stream",
     "text": [
      "mse of train is : 999.5529792053096\n",
      "RMSE of train is : 31.615707792255886\n",
      "MAE of train 22.25086423895755\n",
      "Training Accuracy is : 0.7201785608559867\n"
     ]
    }
   ],
   "source": [
    "# evlalution metrics on training data :\n",
    "\n",
    "MSE_train = mean_squared_error(y_train,y_pred_train_ridge)\n",
    "print(\"mse of train is :\",MSE_train)\n",
    "RMSE_train = np.sqrt(MSE_train)\n",
    "print(\"RMSE of train is :\",RMSE_train)\n",
    "MAE_train = mean_absolute_error(y_train,y_pred_train_ridge)\n",
    "print(\"MAE of train\",MAE_train)\n",
    "R2_score = r2_score(y_train,y_pred_train_ridge)\n",
    "print(\"Training Accuracy is :\",R2_score)"
   ]
  },
  {
   "cell_type": "code",
   "execution_count": 393,
   "id": "9549f069",
   "metadata": {},
   "outputs": [],
   "source": [
    "y_pred_test_ridge = ridge_gs_model.predict(x_test)"
   ]
  },
  {
   "cell_type": "code",
   "execution_count": 394,
   "id": "b30e6a05",
   "metadata": {},
   "outputs": [
    {
     "name": "stdout",
     "output_type": "stream",
     "text": [
      "mse of test is : 1076.0572331620406\n",
      "RMSE of test is : 32.80331131398232\n",
      "MAE of test 22.80232326454961\n",
      "Testing Accuracy is : 0.69627760596754\n"
     ]
    }
   ],
   "source": [
    "# evlalution metrics on testing data :\n",
    "\n",
    "MSE_test = mean_squared_error(y_test,y_pred_test_ridge)\n",
    "print(\"mse of test is :\",MSE_test)\n",
    "RMSE_test = np.sqrt(MSE_test)\n",
    "print(\"RMSE of test is :\",RMSE_test)\n",
    "MAE_test = mean_absolute_error(y_test,y_pred_test_ridge)\n",
    "print(\"MAE of test\",MAE_test)\n",
    "R2_score_test = r2_score(y_test,y_pred_test_ridge)\n",
    "print(\"Testing Accuracy is :\",R2_score_test)"
   ]
  },
  {
   "cell_type": "markdown",
   "id": "d0da7ca6",
   "metadata": {},
   "source": [
    "## GridSearchCV for Lasso :"
   ]
  },
  {
   "cell_type": "code",
   "execution_count": 395,
   "id": "2bb049bc",
   "metadata": {},
   "outputs": [
    {
     "data": {
      "text/plain": [
       "GridSearchCV(cv=5, estimator=Lasso(), n_jobs=-1,\n",
       "             param_grid={'alpha': array([0.01, 0.02, 0.03, 0.04, 0.05, 0.06, 0.07, 0.08, 0.09, 0.1 , 0.11,\n",
       "       0.12, 0.13, 0.14, 0.15, 0.16, 0.17, 0.18, 0.19, 0.2 , 0.21, 0.22,\n",
       "       0.23, 0.24, 0.25, 0.26, 0.27, 0.28, 0.29, 0.3 , 0.31, 0.32, 0.33,\n",
       "       0.34, 0.35, 0.36, 0.37, 0.38, 0.39, 0.4 , 0.41, 0.42, 0.43, 0.44,\n",
       "       0.45, 0.46, 0.47, 0.48, 0.49, 0.5 , 0.51, 0.52, 0.53, 0.54, 0.55,\n",
       "       0.56, 0....\n",
       "       2.21, 2.22, 2.23, 2.24, 2.25, 2.26, 2.27, 2.28, 2.29, 2.3 , 2.31,\n",
       "       2.32, 2.33, 2.34, 2.35, 2.36, 2.37, 2.38, 2.39, 2.4 , 2.41, 2.42,\n",
       "       2.43, 2.44, 2.45, 2.46, 2.47, 2.48, 2.49, 2.5 , 2.51, 2.52, 2.53,\n",
       "       2.54, 2.55, 2.56, 2.57, 2.58, 2.59, 2.6 , 2.61, 2.62, 2.63, 2.64,\n",
       "       2.65, 2.66, 2.67, 2.68, 2.69, 2.7 , 2.71, 2.72, 2.73, 2.74, 2.75,\n",
       "       2.76, 2.77, 2.78, 2.79, 2.8 , 2.81, 2.82, 2.83, 2.84, 2.85, 2.86,\n",
       "       2.87, 2.88, 2.89, 2.9 , 2.91, 2.92, 2.93, 2.94, 2.95, 2.96, 2.97,\n",
       "       2.98, 2.99])})"
      ]
     },
     "execution_count": 395,
     "metadata": {},
     "output_type": "execute_result"
    }
   ],
   "source": [
    "param_grid = {\"alpha\":np.arange(0.01,3,0.01)}\n",
    "gscv_lasso = GridSearchCV(lasso_model,param_grid,cv=5,n_jobs=-1)\n",
    "gscv_lasso.fit(x_train,y_train)"
   ]
  },
  {
   "cell_type": "code",
   "execution_count": 396,
   "id": "737fdc81",
   "metadata": {},
   "outputs": [
    {
     "data": {
      "text/plain": [
       "Lasso(alpha=0.04)"
      ]
     },
     "execution_count": 396,
     "metadata": {},
     "output_type": "execute_result"
    }
   ],
   "source": [
    "gscv_lasso.best_estimator_"
   ]
  },
  {
   "cell_type": "code",
   "execution_count": 397,
   "id": "1fd5ef77",
   "metadata": {},
   "outputs": [
    {
     "data": {
      "text/plain": [
       "Lasso(alpha=0.04)"
      ]
     },
     "execution_count": 397,
     "metadata": {},
     "output_type": "execute_result"
    }
   ],
   "source": [
    "lasso_gs_model = Lasso(alpha=0.04)\n",
    "lasso_gs_model.fit(x_train,y_train)"
   ]
  },
  {
   "cell_type": "code",
   "execution_count": 398,
   "id": "34666b68",
   "metadata": {},
   "outputs": [],
   "source": [
    "y_pred_train_lasso = lasso_gs_model.predict(x_train)"
   ]
  },
  {
   "cell_type": "code",
   "execution_count": 399,
   "id": "c4ff50ad",
   "metadata": {},
   "outputs": [
    {
     "name": "stdout",
     "output_type": "stream",
     "text": [
      "mse of train is : 1009.0176335808245\n",
      "RMSE of train is : 31.765037912472646\n",
      "MAE of train 22.29402481666074\n",
      "Training Accuracy is : 0.7175289632223898\n"
     ]
    }
   ],
   "source": [
    "# evlalution metrics on training data :\n",
    "\n",
    "MSE_train = mean_squared_error(y_train,y_pred_train_lasso)\n",
    "print(\"mse of train is :\",MSE_train)\n",
    "RMSE_train = np.sqrt(MSE_train)\n",
    "print(\"RMSE of train is :\",RMSE_train)\n",
    "MAE_train = mean_absolute_error(y_train,y_pred_train_lasso)\n",
    "print(\"MAE of train\",MAE_train)\n",
    "R2_score = r2_score(y_train,y_pred_train_lasso)\n",
    "print(\"Training Accuracy is :\",R2_score)"
   ]
  },
  {
   "cell_type": "code",
   "execution_count": 400,
   "id": "ce6938cf",
   "metadata": {},
   "outputs": [],
   "source": [
    "y_pred_test_lasso = lasso_gs_model.predict(x_test)"
   ]
  },
  {
   "cell_type": "code",
   "execution_count": 401,
   "id": "cb9a72a6",
   "metadata": {},
   "outputs": [
    {
     "name": "stdout",
     "output_type": "stream",
     "text": [
      "mse of test is : 1074.0706444206114\n",
      "RMSE of test is : 32.77301701736676\n",
      "MAE of test 22.702528923251172\n",
      "Testing Accuracy is : 0.6968383303137087\n"
     ]
    }
   ],
   "source": [
    "# evlalution metrics on testing data :\n",
    "\n",
    "MSE_test = mean_squared_error(y_test,y_pred_test_lasso)\n",
    "print(\"mse of test is :\",MSE_test)\n",
    "RMSE_test = np.sqrt(MSE_test)\n",
    "print(\"RMSE of test is :\",RMSE_test)\n",
    "MAE_test = mean_absolute_error(y_test,y_pred_test_lasso)\n",
    "print(\"MAE of test\",MAE_test)\n",
    "R2_score_test = r2_score(y_test,y_pred_test_lasso)\n",
    "print(\"Testing Accuracy is :\",R2_score_test)"
   ]
  },
  {
   "cell_type": "code",
   "execution_count": null,
   "id": "03220708",
   "metadata": {},
   "outputs": [],
   "source": []
  },
  {
   "cell_type": "code",
   "execution_count": null,
   "id": "b4ed3c35",
   "metadata": {},
   "outputs": [],
   "source": []
  },
  {
   "cell_type": "markdown",
   "id": "46c57665",
   "metadata": {},
   "source": [
    "## Randomized SearchCV :"
   ]
  },
  {
   "cell_type": "markdown",
   "id": "5cd9229c",
   "metadata": {},
   "source": [
    "#### Randomized SearchCV on Ridge :"
   ]
  },
  {
   "cell_type": "code",
   "execution_count": 402,
   "id": "6ebcfe8d",
   "metadata": {},
   "outputs": [
    {
     "data": {
      "text/plain": [
       "RandomizedSearchCV(cv=5, estimator=Ridge(), n_jobs=-1,\n",
       "                   param_distributions={'alpha': array([0.01, 0.02, 0.03, 0.04, 0.05, 0.06, 0.07, 0.08, 0.09, 0.1 , 0.11,\n",
       "       0.12, 0.13, 0.14, 0.15, 0.16, 0.17, 0.18, 0.19, 0.2 , 0.21, 0.22,\n",
       "       0.23, 0.24, 0.25, 0.26, 0.27, 0.28, 0.29, 0.3 , 0.31, 0.32, 0.33,\n",
       "       0.34, 0.35, 0.36, 0.37, 0.38, 0.39, 0.4 , 0.41, 0.42, 0.43, 0.44,\n",
       "       0.45, 0.46, 0.47, 0.48, 0.49, 0.5 , 0.51, 0.52, 0.53, 0....\n",
       "       2.21, 2.22, 2.23, 2.24, 2.25, 2.26, 2.27, 2.28, 2.29, 2.3 , 2.31,\n",
       "       2.32, 2.33, 2.34, 2.35, 2.36, 2.37, 2.38, 2.39, 2.4 , 2.41, 2.42,\n",
       "       2.43, 2.44, 2.45, 2.46, 2.47, 2.48, 2.49, 2.5 , 2.51, 2.52, 2.53,\n",
       "       2.54, 2.55, 2.56, 2.57, 2.58, 2.59, 2.6 , 2.61, 2.62, 2.63, 2.64,\n",
       "       2.65, 2.66, 2.67, 2.68, 2.69, 2.7 , 2.71, 2.72, 2.73, 2.74, 2.75,\n",
       "       2.76, 2.77, 2.78, 2.79, 2.8 , 2.81, 2.82, 2.83, 2.84, 2.85, 2.86,\n",
       "       2.87, 2.88, 2.89, 2.9 , 2.91, 2.92, 2.93, 2.94, 2.95, 2.96, 2.97,\n",
       "       2.98, 2.99])})"
      ]
     },
     "execution_count": 402,
     "metadata": {},
     "output_type": "execute_result"
    }
   ],
   "source": [
    "param_grid ={'alpha':np.arange(0.01,3,0.01)}\n",
    "rscv_ridge = RandomizedSearchCV(ridge_model,param_grid,cv=5,n_jobs=-1)\n",
    "rscv_ridge.fit(x_train,y_train)"
   ]
  },
  {
   "cell_type": "code",
   "execution_count": 403,
   "id": "acb78879",
   "metadata": {},
   "outputs": [
    {
     "data": {
      "text/plain": [
       "Ridge(alpha=2.55)"
      ]
     },
     "execution_count": 403,
     "metadata": {},
     "output_type": "execute_result"
    }
   ],
   "source": [
    "rscv_ridge.best_estimator_"
   ]
  },
  {
   "cell_type": "code",
   "execution_count": 404,
   "id": "a9f88d55",
   "metadata": {},
   "outputs": [
    {
     "data": {
      "text/plain": [
       "Ridge(alpha=2.79)"
      ]
     },
     "execution_count": 404,
     "metadata": {},
     "output_type": "execute_result"
    }
   ],
   "source": [
    "rscv_ridge_model = Ridge(alpha=2.79)\n",
    "rscv_ridge_model.fit(x_train,y_train)"
   ]
  },
  {
   "cell_type": "code",
   "execution_count": 405,
   "id": "2434d333",
   "metadata": {},
   "outputs": [],
   "source": [
    "rscv_ridge_y_train_pred = rscv_ridge_model.predict(x_train)"
   ]
  },
  {
   "cell_type": "code",
   "execution_count": 406,
   "id": "3a64fe01",
   "metadata": {},
   "outputs": [
    {
     "name": "stdout",
     "output_type": "stream",
     "text": [
      "mse of train is : 999.5418767131397\n",
      "RMSE of train is : 31.615532206704028\n",
      "MAE of train 22.250957656059224\n",
      "Training Accuracy is : 0.7201816689607112\n"
     ]
    }
   ],
   "source": [
    "# evlalution metrics on training data :\n",
    "\n",
    "MSE_train = mean_squared_error(y_train,rscv_ridge_y_train_pred)\n",
    "print(\"mse of train is :\",MSE_train)\n",
    "RMSE_train = np.sqrt(MSE_train)\n",
    "print(\"RMSE of train is :\",RMSE_train)\n",
    "MAE_train = mean_absolute_error(y_train,rscv_ridge_y_train_pred)\n",
    "print(\"MAE of train\",MAE_train)\n",
    "R2_score = r2_score(y_train,rscv_ridge_y_train_pred)\n",
    "print(\"Training Accuracy is :\",R2_score)"
   ]
  },
  {
   "cell_type": "code",
   "execution_count": 407,
   "id": "8a08f580",
   "metadata": {},
   "outputs": [],
   "source": [
    "rscv_ridge_y_test_pred = rscv_ridge_model.predict(x_test)"
   ]
  },
  {
   "cell_type": "code",
   "execution_count": 408,
   "id": "e040fc15",
   "metadata": {},
   "outputs": [
    {
     "name": "stdout",
     "output_type": "stream",
     "text": [
      "mse of test is : 1076.0389621569188\n",
      "RMSE of test is : 32.803032819495805\n",
      "MAE of test 22.80242463387884\n",
      "Testing Accuracy is : 0.6962827630477082\n"
     ]
    }
   ],
   "source": [
    "# evlalution metrics on testing data :\n",
    "\n",
    "MSE_test = mean_squared_error(y_test,rscv_ridge_y_test_pred)\n",
    "print(\"mse of test is :\",MSE_test)\n",
    "RMSE_test = np.sqrt(MSE_test)\n",
    "print(\"RMSE of test is :\",RMSE_test)\n",
    "MAE_test = mean_absolute_error(y_test,rscv_ridge_y_test_pred)\n",
    "print(\"MAE of test\",MAE_test)\n",
    "R2_score_test = r2_score(y_test,rscv_ridge_y_test_pred)\n",
    "print(\"Testing Accuracy is :\",R2_score_test)"
   ]
  },
  {
   "cell_type": "code",
   "execution_count": null,
   "id": "3b761225",
   "metadata": {},
   "outputs": [],
   "source": []
  },
  {
   "cell_type": "code",
   "execution_count": null,
   "id": "fbfc6810",
   "metadata": {},
   "outputs": [],
   "source": []
  },
  {
   "cell_type": "markdown",
   "id": "f0d0bb1a",
   "metadata": {},
   "source": [
    "#### Randomized SearchCV on Lasso :"
   ]
  },
  {
   "cell_type": "code",
   "execution_count": 409,
   "id": "72acb059",
   "metadata": {},
   "outputs": [
    {
     "data": {
      "text/plain": [
       "RandomizedSearchCV(cv=5, estimator=Lasso(), n_jobs=-1,\n",
       "                   param_distributions={'alpha': array([0.01, 0.02, 0.03, 0.04, 0.05, 0.06, 0.07, 0.08, 0.09, 0.1 , 0.11,\n",
       "       0.12, 0.13, 0.14, 0.15, 0.16, 0.17, 0.18, 0.19, 0.2 , 0.21, 0.22,\n",
       "       0.23, 0.24, 0.25, 0.26, 0.27, 0.28, 0.29, 0.3 , 0.31, 0.32, 0.33,\n",
       "       0.34, 0.35, 0.36, 0.37, 0.38, 0.39, 0.4 , 0.41, 0.42, 0.43, 0.44,\n",
       "       0.45, 0.46, 0.47, 0.48, 0.49, 0.5 , 0.51, 0.52, 0.53, 0....\n",
       "       2.21, 2.22, 2.23, 2.24, 2.25, 2.26, 2.27, 2.28, 2.29, 2.3 , 2.31,\n",
       "       2.32, 2.33, 2.34, 2.35, 2.36, 2.37, 2.38, 2.39, 2.4 , 2.41, 2.42,\n",
       "       2.43, 2.44, 2.45, 2.46, 2.47, 2.48, 2.49, 2.5 , 2.51, 2.52, 2.53,\n",
       "       2.54, 2.55, 2.56, 2.57, 2.58, 2.59, 2.6 , 2.61, 2.62, 2.63, 2.64,\n",
       "       2.65, 2.66, 2.67, 2.68, 2.69, 2.7 , 2.71, 2.72, 2.73, 2.74, 2.75,\n",
       "       2.76, 2.77, 2.78, 2.79, 2.8 , 2.81, 2.82, 2.83, 2.84, 2.85, 2.86,\n",
       "       2.87, 2.88, 2.89, 2.9 , 2.91, 2.92, 2.93, 2.94, 2.95, 2.96, 2.97,\n",
       "       2.98, 2.99])})"
      ]
     },
     "execution_count": 409,
     "metadata": {},
     "output_type": "execute_result"
    }
   ],
   "source": [
    "param_grid ={'alpha':np.arange(0.01,3,0.01)}\n",
    "rscv_lasso = RandomizedSearchCV(lasso_model,param_grid,cv=5,n_jobs=-1)\n",
    "rscv_lasso.fit(x_train,y_train)"
   ]
  },
  {
   "cell_type": "code",
   "execution_count": 410,
   "id": "b43a11bb",
   "metadata": {},
   "outputs": [
    {
     "data": {
      "text/plain": [
       "Lasso(alpha=0.060000000000000005)"
      ]
     },
     "execution_count": 410,
     "metadata": {},
     "output_type": "execute_result"
    }
   ],
   "source": [
    "rscv_lasso.best_estimator_"
   ]
  },
  {
   "cell_type": "code",
   "execution_count": 411,
   "id": "1ea92556",
   "metadata": {},
   "outputs": [
    {
     "data": {
      "text/plain": [
       "Lasso(alpha=0.55)"
      ]
     },
     "execution_count": 411,
     "metadata": {},
     "output_type": "execute_result"
    }
   ],
   "source": [
    "rscv_lasso_model = Lasso(alpha=0.55)\n",
    "rscv_lasso_model.fit(x_train,y_train)"
   ]
  },
  {
   "cell_type": "code",
   "execution_count": 412,
   "id": "13271989",
   "metadata": {},
   "outputs": [],
   "source": [
    "rscv_lasso_y_train_pred = rscv_lasso_model.predict(x_train)"
   ]
  },
  {
   "cell_type": "code",
   "execution_count": 413,
   "id": "2e913004",
   "metadata": {},
   "outputs": [
    {
     "name": "stdout",
     "output_type": "stream",
     "text": [
      "mse of train is : 1028.5536074879637\n",
      "RMSE of train is : 32.07107119333503\n",
      "MAE of train 22.66388757728496\n",
      "Training Accuracy is : 0.7120599341188781\n"
     ]
    }
   ],
   "source": [
    "# evlalution metrics on training data :\n",
    "\n",
    "MSE_train = mean_squared_error(y_train,rscv_lasso_y_train_pred)\n",
    "print(\"mse of train is :\",MSE_train)\n",
    "RMSE_train = np.sqrt(MSE_train)\n",
    "print(\"RMSE of train is :\",RMSE_train)\n",
    "MAE_train = mean_absolute_error(y_train,rscv_lasso_y_train_pred)\n",
    "print(\"MAE of train\",MAE_train)\n",
    "R2_score = r2_score(y_train,rscv_lasso_y_train_pred)\n",
    "print(\"Training Accuracy is :\",R2_score)"
   ]
  },
  {
   "cell_type": "code",
   "execution_count": null,
   "id": "3518bdc4",
   "metadata": {},
   "outputs": [],
   "source": []
  },
  {
   "cell_type": "code",
   "execution_count": 414,
   "id": "10ce4cbc",
   "metadata": {},
   "outputs": [],
   "source": [
    "rscv_lasso_y_test_pred = rscv_lasso_model.predict(x_test)"
   ]
  },
  {
   "cell_type": "code",
   "execution_count": 415,
   "id": "ba4237fb",
   "metadata": {},
   "outputs": [
    {
     "name": "stdout",
     "output_type": "stream",
     "text": [
      "mse of test is : 1088.083039475535\n",
      "RMSE of test is : 32.9861037328681\n",
      "MAE of test 23.10662635454609\n",
      "Testing Accuracy is : 0.6928832635746431\n"
     ]
    }
   ],
   "source": [
    "# evlalution metrics on testing data :\n",
    "\n",
    "MSE_test = mean_squared_error(y_test,rscv_lasso_y_test_pred)\n",
    "print(\"mse of test is :\",MSE_test)\n",
    "RMSE_test = np.sqrt(MSE_test)\n",
    "print(\"RMSE of test is :\",RMSE_test)\n",
    "MAE_test = mean_absolute_error(y_test,rscv_lasso_y_test_pred)\n",
    "print(\"MAE of test\",MAE_test)\n",
    "R2_score_test = r2_score(y_test,rscv_lasso_y_test_pred)\n",
    "print(\"Testing Accuracy is :\",R2_score_test)"
   ]
  },
  {
   "cell_type": "code",
   "execution_count": 416,
   "id": "7ab945f8",
   "metadata": {},
   "outputs": [],
   "source": [
    "# create pickle file of model :\n",
    "with open(\"pune_data_linear_model.pkl\",\"wb\") as m :\n",
    "    pickle.dump(model,m)"
   ]
  },
  {
   "cell_type": "code",
   "execution_count": 417,
   "id": "6b9f0c6a",
   "metadata": {},
   "outputs": [
    {
     "data": {
      "text/plain": [
       "['total_sqft',\n",
       " 'bath',\n",
       " 'balcony',\n",
       " 'area_type_Built-up  Area',\n",
       " 'area_type_Carpet  Area',\n",
       " 'area_type_Plot  Area',\n",
       " 'area_type_Super built-up  Area',\n",
       " 'availability_Immediate Possession',\n",
       " 'availability_Ready To Move',\n",
       " 'availability_available_dates',\n",
       " 'size_1 BHK',\n",
       " 'size_1 Bedroom',\n",
       " 'size_2 BHK',\n",
       " 'size_2 Bedroom',\n",
       " 'size_3 BHK',\n",
       " 'size_3 Bedroom',\n",
       " 'size_4 BHK',\n",
       " 'size_4 Bedroom',\n",
       " 'size_5 Bedroom',\n",
       " 'size_6 Bedroom',\n",
       " 'size_uncommon_size',\n",
       " 'site_location_Alandi Road',\n",
       " 'site_location_Ambegaon Budruk',\n",
       " 'site_location_Anandnagar',\n",
       " 'site_location_Aundh',\n",
       " 'site_location_Aundh Road',\n",
       " 'site_location_Balaji Nagar',\n",
       " 'site_location_Baner',\n",
       " 'site_location_Baner road',\n",
       " 'site_location_Bhandarkar Road',\n",
       " 'site_location_Bhavani Peth',\n",
       " 'site_location_Bibvewadi',\n",
       " 'site_location_Bopodi',\n",
       " 'site_location_Budhwar Peth',\n",
       " 'site_location_Bund Garden Road',\n",
       " 'site_location_Camp',\n",
       " 'site_location_Chandan Nagar',\n",
       " 'site_location_Dapodi',\n",
       " 'site_location_Deccan Gymkhana',\n",
       " 'site_location_Dehu Road',\n",
       " 'site_location_Dhankawadi',\n",
       " 'site_location_Dhayari Phata',\n",
       " 'site_location_Dhole Patil Road',\n",
       " 'site_location_Erandwane',\n",
       " 'site_location_Fatima Nagar',\n",
       " 'site_location_Fergusson College Road',\n",
       " 'site_location_Ganesh Peth',\n",
       " 'site_location_Ganeshkhind',\n",
       " 'site_location_Ghorpade Peth',\n",
       " 'site_location_Ghorpadi',\n",
       " 'site_location_Gokhale Nagar',\n",
       " 'site_location_Gultekdi',\n",
       " 'site_location_Guruwar peth',\n",
       " 'site_location_Hadapsar',\n",
       " 'site_location_Hadapsar Industrial Estate',\n",
       " 'site_location_Hingne Khurd',\n",
       " 'site_location_Jangali Maharaj Road',\n",
       " 'site_location_Kalyani Nagar',\n",
       " 'site_location_Karve Nagar',\n",
       " 'site_location_Karve Road',\n",
       " 'site_location_Kasba Peth',\n",
       " 'site_location_Katraj',\n",
       " 'site_location_Khadaki',\n",
       " 'site_location_Khadki',\n",
       " 'site_location_Kharadi',\n",
       " 'site_location_Kondhwa',\n",
       " 'site_location_Kondhwa Budruk',\n",
       " 'site_location_Kondhwa Khurd',\n",
       " 'site_location_Koregaon Park',\n",
       " 'site_location_Kothrud',\n",
       " 'site_location_Law College Road',\n",
       " 'site_location_Laxmi Road',\n",
       " 'site_location_Lulla Nagar',\n",
       " 'site_location_Mahatma Gandhi Road',\n",
       " 'site_location_Mangalwar peth',\n",
       " 'site_location_Manik Bagh',\n",
       " 'site_location_Market yard',\n",
       " 'site_location_Model colony',\n",
       " 'site_location_Mukund Nagar',\n",
       " 'site_location_Mundhawa',\n",
       " 'site_location_Nagar Road',\n",
       " 'site_location_Nana Peth',\n",
       " 'site_location_Narayan Peth',\n",
       " 'site_location_Narayangaon',\n",
       " 'site_location_Navi Peth',\n",
       " 'site_location_Padmavati',\n",
       " 'site_location_Parvati Darshan',\n",
       " 'site_location_Pashan',\n",
       " 'site_location_Paud Road',\n",
       " 'site_location_Pirangut',\n",
       " 'site_location_Prabhat Road',\n",
       " 'site_location_Pune Railway Station',\n",
       " 'site_location_Rasta Peth',\n",
       " 'site_location_Raviwar Peth',\n",
       " 'site_location_Sadashiv Peth',\n",
       " 'site_location_Sahakar Nagar',\n",
       " 'site_location_Salunke Vihar',\n",
       " 'site_location_Sasson Road',\n",
       " 'site_location_Satara Road',\n",
       " 'site_location_Senapati Bapat Road',\n",
       " 'site_location_Shaniwar Peth',\n",
       " 'site_location_Shivaji Nagar',\n",
       " 'site_location_Shukrawar Peth',\n",
       " 'site_location_Sinhagad Road',\n",
       " 'site_location_Somwar Peth',\n",
       " 'site_location_Swargate',\n",
       " 'site_location_Tilak Road',\n",
       " 'site_location_Uruli Devachi',\n",
       " 'site_location_Vadgaon Budruk',\n",
       " 'site_location_Viman Nagar',\n",
       " 'site_location_Vishrant Wadi',\n",
       " 'site_location_Wadgaon Sheri',\n",
       " 'site_location_Wagholi',\n",
       " 'site_location_Wakadewadi',\n",
       " 'site_location_Wanowrie',\n",
       " 'site_location_Warje',\n",
       " 'site_location_Yerawada',\n",
       " 'site_location_other']"
      ]
     },
     "execution_count": 417,
     "metadata": {},
     "output_type": "execute_result"
    }
   ],
   "source": [
    "# create json file :\n",
    "pune_house_json = {\"columns\":list(x.columns)}\n",
    "pune_house_json[\"columns\"]\n",
    "\n"
   ]
  },
  {
   "cell_type": "code",
   "execution_count": 418,
   "id": "a805fa39",
   "metadata": {},
   "outputs": [],
   "source": [
    "with open(\"pune_json_data.json\",\"w\") as j :\n",
    "    json.dump(pune_house_json,j)"
   ]
  },
  {
   "cell_type": "markdown",
   "id": "175dd9a2",
   "metadata": {},
   "source": [
    "# user input value :"
   ]
  },
  {
   "cell_type": "code",
   "execution_count": 419,
   "id": "d5e97cc8",
   "metadata": {},
   "outputs": [
    {
     "data": {
      "text/html": [
       "<div>\n",
       "<style scoped>\n",
       "    .dataframe tbody tr th:only-of-type {\n",
       "        vertical-align: middle;\n",
       "    }\n",
       "\n",
       "    .dataframe tbody tr th {\n",
       "        vertical-align: top;\n",
       "    }\n",
       "\n",
       "    .dataframe thead th {\n",
       "        text-align: right;\n",
       "    }\n",
       "</style>\n",
       "<table border=\"1\" class=\"dataframe\">\n",
       "  <thead>\n",
       "    <tr style=\"text-align: right;\">\n",
       "      <th></th>\n",
       "      <th>0</th>\n",
       "    </tr>\n",
       "  </thead>\n",
       "  <tbody>\n",
       "    <tr>\n",
       "      <th>area_type</th>\n",
       "      <td>Super built-up  Area</td>\n",
       "    </tr>\n",
       "    <tr>\n",
       "      <th>availability</th>\n",
       "      <td>19-Dec</td>\n",
       "    </tr>\n",
       "    <tr>\n",
       "      <th>size</th>\n",
       "      <td>2 BHK</td>\n",
       "    </tr>\n",
       "    <tr>\n",
       "      <th>society</th>\n",
       "      <td>Coomee</td>\n",
       "    </tr>\n",
       "    <tr>\n",
       "      <th>total_sqft</th>\n",
       "      <td>1056</td>\n",
       "    </tr>\n",
       "    <tr>\n",
       "      <th>bath</th>\n",
       "      <td>2.0</td>\n",
       "    </tr>\n",
       "    <tr>\n",
       "      <th>balcony</th>\n",
       "      <td>1.0</td>\n",
       "    </tr>\n",
       "    <tr>\n",
       "      <th>price</th>\n",
       "      <td>39.07</td>\n",
       "    </tr>\n",
       "    <tr>\n",
       "      <th>site_location</th>\n",
       "      <td>Alandi Road</td>\n",
       "    </tr>\n",
       "  </tbody>\n",
       "</table>\n",
       "</div>"
      ],
      "text/plain": [
       "                                  0\n",
       "area_type      Super built-up  Area\n",
       "availability                 19-Dec\n",
       "size                          2 BHK\n",
       "society                     Coomee \n",
       "total_sqft                     1056\n",
       "bath                            2.0\n",
       "balcony                         1.0\n",
       "price                         39.07\n",
       "site_location           Alandi Road"
      ]
     },
     "execution_count": 419,
     "metadata": {},
     "output_type": "execute_result"
    }
   ],
   "source": [
    "user_test"
   ]
  },
  {
   "cell_type": "code",
   "execution_count": 420,
   "id": "7af3bb6c",
   "metadata": {},
   "outputs": [
    {
     "data": {
      "text/plain": [
       "array([0, 0, 0, 0, 0, 0, 0, 0, 0, 0, 0, 0, 0, 0, 0, 0, 0, 0, 0, 0, 0, 0,\n",
       "       0, 0, 0, 0, 0, 0, 0, 0, 0, 0, 0, 0, 0, 0, 0, 0, 0, 0, 0, 0, 0, 0,\n",
       "       0, 0, 0, 0, 0, 0, 0, 0, 0, 0, 0, 0, 0, 0, 0, 0, 0, 0, 0, 0, 0, 0,\n",
       "       0, 0, 0, 0, 0, 0, 0, 0, 0, 0, 0, 0, 0, 0, 0, 0, 0, 0, 0, 0, 0, 0,\n",
       "       0, 0, 0, 0, 0, 0, 0, 0, 0, 0, 0, 0, 0, 0, 0, 0, 0, 0, 0, 0, 0, 0,\n",
       "       0, 0, 0, 0, 0, 0, 0, 0])"
      ]
     },
     "execution_count": 420,
     "metadata": {},
     "output_type": "execute_result"
    }
   ],
   "source": [
    "array= np.zeros(len(pune_house_json[\"columns\"]),int)\n",
    "array"
   ]
  },
  {
   "cell_type": "code",
   "execution_count": 421,
   "id": "16b0d5f3",
   "metadata": {},
   "outputs": [],
   "source": [
    "area_type=\"Super built-up  Area\"    #\"area_type_Super built-up Area\"\n",
    "availability=\"Ready To Move\"\n",
    "size=\"2 BHK\"\n",
    "total_sqft=1056\n",
    "bath=2.0\n",
    "balcony=1.0\n",
    "# price=39.07\n",
    "site_location=\"Alandi Road\""
   ]
  },
  {
   "cell_type": "code",
   "execution_count": 422,
   "id": "f74999b4",
   "metadata": {},
   "outputs": [],
   "source": [
    "area_type_index = pune_house_json[\"columns\"].index(\"area_type_\"+area_type)\n",
    "availability_index = pune_house_json[\"columns\"].index(\"availability_\"+availability)\n",
    "size_index = pune_house_json[\"columns\"].index(\"size_\"+size)\n",
    "site_location_index = pune_house_json[\"columns\"].index(\"site_location_\"+site_location)"
   ]
  },
  {
   "cell_type": "code",
   "execution_count": 423,
   "id": "2f3890bf",
   "metadata": {},
   "outputs": [],
   "source": [
    "array[0] = total_sqft\n",
    "array[1] = bath\n",
    "array[2] = balcony\n",
    "array[area_type_index] = 1\n",
    "array[availability_index] = 1\n",
    "array[size_index] = 1\n",
    "array[site_location_index] = 1"
   ]
  },
  {
   "cell_type": "code",
   "execution_count": 424,
   "id": "3f1917dd",
   "metadata": {},
   "outputs": [
    {
     "data": {
      "text/plain": [
       "array([1056,    2,    1,    0,    0,    0,    1,    0,    1,    0,    0,\n",
       "          0,    1,    0,    0,    0,    0,    0,    0,    0,    0,    1,\n",
       "          0,    0,    0,    0,    0,    0,    0,    0,    0,    0,    0,\n",
       "          0,    0,    0,    0,    0,    0,    0,    0,    0,    0,    0,\n",
       "          0,    0,    0,    0,    0,    0,    0,    0,    0,    0,    0,\n",
       "          0,    0,    0,    0,    0,    0,    0,    0,    0,    0,    0,\n",
       "          0,    0,    0,    0,    0,    0,    0,    0,    0,    0,    0,\n",
       "          0,    0,    0,    0,    0,    0,    0,    0,    0,    0,    0,\n",
       "          0,    0,    0,    0,    0,    0,    0,    0,    0,    0,    0,\n",
       "          0,    0,    0,    0,    0,    0,    0,    0,    0,    0,    0,\n",
       "          0,    0,    0,    0,    0,    0,    0,    0])"
      ]
     },
     "execution_count": 424,
     "metadata": {},
     "output_type": "execute_result"
    }
   ],
   "source": [
    "array"
   ]
  },
  {
   "cell_type": "code",
   "execution_count": 425,
   "id": "c2d1dc14",
   "metadata": {},
   "outputs": [
    {
     "name": "stdout",
     "output_type": "stream",
     "text": [
      "price of the house is :Rs. 56.14 lac\n"
     ]
    }
   ],
   "source": [
    "price = np.around(model.predict([array])[0],2)\n",
    "print(\"price of the house is :Rs.\",price,\"lac\")"
   ]
  },
  {
   "cell_type": "code",
   "execution_count": null,
   "id": "ea7c78a7",
   "metadata": {},
   "outputs": [],
   "source": [
    "total_sqft,bath,balcony,area_type,availability,size,site_location"
   ]
  }
 ],
 "metadata": {
  "kernelspec": {
   "display_name": "Python 3 (ipykernel)",
   "language": "python",
   "name": "python3"
  },
  "language_info": {
   "codemirror_mode": {
    "name": "ipython",
    "version": 3
   },
   "file_extension": ".py",
   "mimetype": "text/x-python",
   "name": "python",
   "nbconvert_exporter": "python",
   "pygments_lexer": "ipython3",
   "version": "3.9.13"
  }
 },
 "nbformat": 4,
 "nbformat_minor": 5
}
